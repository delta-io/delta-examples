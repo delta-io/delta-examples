{
 "cells": [
  {
   "cell_type": "markdown",
   "id": "25ba0445-824e-40c4-b350-9ebb5f12fc3e",
   "metadata": {},
   "source": [
    "# Daft Delta Lake example"
   ]
  },
  {
   "cell_type": "code",
   "execution_count": 1,
   "id": "7dcc9dca-bb46-41c8-b96b-a2c445fd7311",
   "metadata": {},
   "outputs": [],
   "source": [
    "import os\n",
    "\n",
    "import pandas as pd\n",
    "from deltalake import DeltaTable, write_deltalake"
   ]
  },
  {
   "cell_type": "code",
   "execution_count": 2,
   "id": "683a49d3-30d1-45f7-88b0-a6939151a0ad",
   "metadata": {},
   "outputs": [],
   "source": [
    "df = pd.DataFrame({\"x\": [1, 2, 3]})"
   ]
  },
  {
   "cell_type": "code",
   "execution_count": 3,
   "id": "412f9722-8f64-4603-8581-6fb69035bf95",
   "metadata": {},
   "outputs": [],
   "source": [
    "os.makedirs(\"tmp/some_delta_lake\", exist_ok=True)"
   ]
  },
  {
   "cell_type": "code",
   "execution_count": 4,
   "id": "cb46c638-1a96-4c66-9735-f5caad28def1",
   "metadata": {},
   "outputs": [],
   "source": [
    "write_deltalake(\"tmp/some_delta_lake\", df)"
   ]
  },
  {
   "cell_type": "code",
   "execution_count": 5,
   "id": "b4c2ce14-baf6-4703-b50b-baab632c1404",
   "metadata": {},
   "outputs": [],
   "source": [
    "df2 = pd.DataFrame({\"x\": [9, 8, 10]})"
   ]
  },
  {
   "cell_type": "code",
   "execution_count": 6,
   "id": "8ff44266-9811-4a9b-82b5-71d95e214dab",
   "metadata": {},
   "outputs": [],
   "source": [
    "write_deltalake(\"tmp/some_delta_lake\", df2, mode=\"append\")"
   ]
  },
  {
   "cell_type": "code",
   "execution_count": 7,
   "id": "758f7c1e-647c-4108-bd1e-4f49d6ab62f1",
   "metadata": {},
   "outputs": [
    {
     "data": {
      "text/html": [
       "<div>\n",
       "<style scoped>\n",
       "    .dataframe tbody tr th:only-of-type {\n",
       "        vertical-align: middle;\n",
       "    }\n",
       "\n",
       "    .dataframe tbody tr th {\n",
       "        vertical-align: top;\n",
       "    }\n",
       "\n",
       "    .dataframe thead th {\n",
       "        text-align: right;\n",
       "    }\n",
       "</style>\n",
       "<table border=\"1\" class=\"dataframe\">\n",
       "  <thead>\n",
       "    <tr style=\"text-align: right;\">\n",
       "      <th></th>\n",
       "      <th>x</th>\n",
       "    </tr>\n",
       "  </thead>\n",
       "  <tbody>\n",
       "    <tr>\n",
       "      <th>0</th>\n",
       "      <td>9</td>\n",
       "    </tr>\n",
       "    <tr>\n",
       "      <th>1</th>\n",
       "      <td>8</td>\n",
       "    </tr>\n",
       "    <tr>\n",
       "      <th>2</th>\n",
       "      <td>10</td>\n",
       "    </tr>\n",
       "    <tr>\n",
       "      <th>3</th>\n",
       "      <td>1</td>\n",
       "    </tr>\n",
       "    <tr>\n",
       "      <th>4</th>\n",
       "      <td>2</td>\n",
       "    </tr>\n",
       "    <tr>\n",
       "      <th>5</th>\n",
       "      <td>3</td>\n",
       "    </tr>\n",
       "  </tbody>\n",
       "</table>\n",
       "</div>"
      ],
      "text/plain": [
       "    x\n",
       "0   9\n",
       "1   8\n",
       "2  10\n",
       "3   1\n",
       "4   2\n",
       "5   3"
      ]
     },
     "execution_count": 7,
     "metadata": {},
     "output_type": "execute_result"
    }
   ],
   "source": [
    "DeltaTable(\"tmp/some_delta_lake\").to_pandas()"
   ]
  },
  {
   "cell_type": "markdown",
   "id": "de12527d-880e-4c7d-b5ed-7e7793a6411e",
   "metadata": {},
   "source": [
    "## Read with Daft"
   ]
  },
  {
   "cell_type": "code",
   "execution_count": 8,
   "id": "8787e40f-c6c6-42d9-acb5-40c9d7cd9d3b",
   "metadata": {},
   "outputs": [],
   "source": [
    "import daft\n",
    "\n",
    "df = daft.read_deltalake(\"tmp/some_delta_lake\")"
   ]
  },
  {
   "cell_type": "code",
   "execution_count": 9,
   "id": "3f1f4cc8-4e49-4f63-891d-4c77859c7ce4",
   "metadata": {},
   "outputs": [
    {
     "data": {
      "text/html": [
       "<div>\n",
       "<table class=\"dataframe\">\n",
       "<thead><tr><th style=\"text-wrap: nowrap; max-width:192px; overflow:auto; text-align:left\">x<br />Int64</th></tr></thead>\n",
       "<tbody>\n",
       "<tr><td><div style=\"text-align:left; max-width:192px; max-height:64px; overflow:auto\">9</div></td></tr>\n",
       "<tr><td><div style=\"text-align:left; max-width:192px; max-height:64px; overflow:auto\">8</div></td></tr>\n",
       "<tr><td><div style=\"text-align:left; max-width:192px; max-height:64px; overflow:auto\">10</div></td></tr>\n",
       "<tr><td><div style=\"text-align:left; max-width:192px; max-height:64px; overflow:auto\">1</div></td></tr>\n",
       "<tr><td><div style=\"text-align:left; max-width:192px; max-height:64px; overflow:auto\">2</div></td></tr>\n",
       "<tr><td><div style=\"text-align:left; max-width:192px; max-height:64px; overflow:auto\">3</div></td></tr>\n",
       "</tbody>\n",
       "</table>\n",
       "<small>(Showing first 6 of 6 rows)</small>\n",
       "</div>"
      ],
      "text/plain": [
       "╭───────╮\n",
       "│ x     │\n",
       "│ ---   │\n",
       "│ Int64 │\n",
       "╞═══════╡\n",
       "│ 9     │\n",
       "├╌╌╌╌╌╌╌┤\n",
       "│ 8     │\n",
       "├╌╌╌╌╌╌╌┤\n",
       "│ 10    │\n",
       "├╌╌╌╌╌╌╌┤\n",
       "│ 1     │\n",
       "├╌╌╌╌╌╌╌┤\n",
       "│ 2     │\n",
       "├╌╌╌╌╌╌╌┤\n",
       "│ 3     │\n",
       "╰───────╯\n",
       "\n",
       "(Showing first 6 of 6 rows)"
      ]
     },
     "metadata": {},
     "output_type": "display_data"
    }
   ],
   "source": [
    "df.show()"
   ]
  },
  {
   "cell_type": "code",
   "execution_count": null,
   "id": "1296e2aa-81b0-4b64-8e1f-028cc24d0ac2",
   "metadata": {},
   "outputs": [],
   "source": []
  }
 ],
 "metadata": {
  "kernelspec": {
   "display_name": "deltalake-0201",
   "language": "python",
   "name": "deltalake-0201"
  },
  "language_info": {
   "codemirror_mode": {
    "name": "ipython",
    "version": 3
   },
   "file_extension": ".py",
   "mimetype": "text/x-python",
   "name": "python",
   "nbconvert_exporter": "python",
   "pygments_lexer": "ipython3",
   "version": "3.11.10"
  }
 },
 "nbformat": 4,
 "nbformat_minor": 5
}

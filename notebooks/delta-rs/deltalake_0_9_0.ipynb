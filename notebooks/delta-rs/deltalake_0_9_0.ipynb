{
 "cells": [
  {
   "attachments": {},
   "cell_type": "markdown",
   "metadata": {},
   "source": [
    "# Python deltalake 0.9.0: Using Optimize and Vacuum in append-only Delta Lake workloads\n",
    "\n",
    "Delta Lake tables are an excellent way to store large datasets. With the Python package, you can write ETL jobs that write small amounts of data at a time, when a full distributed cluster might be overkill. This can be useful for workloads that require periodically pulling in data to add to the data lake. However, writing small amounts of data at a time can cause there to be a huge number of files in the table, which can slow down queries.\n",
    "\n",
    "In deltalake 0.9.0, we added the `optimize` method to the `DeltaTable` class, which performs file compaction. Running this periodically on a table will reduce the number of files in the table, which will speed up queries.\n",
    "\n",
    "This is very helpful for workloads that append frequently. For example, if you have a table that is appended to every 10 minutes, after a year you will have 52,560 files in the table. If the table is partitioned by another dimension, you will have 52,560 files per partition; with just 100 unique values that's millions of files. By running `optimize` periodically, you can reduce the number of files in the table to a more manageable number.\n",
    "\n",
    "Typically, you will run optimize less frequently than you append data. If possible, you might run optimize once you know you have finished writing to a particular partition. For example, on a table partitioned by date, you might append data every 10 minutes, but only run optimize once a day at the end of the day. This will ensure you don't need to compact the same data twice.\n",
    "\n",
    "We'll look at a simple example of this type of workload, and how `optimize` and `vacuum` can be used to improve performance."
   ]
  },
  {
   "cell_type": "code",
   "execution_count": 1,
   "metadata": {},
   "outputs": [],
   "source": [
    "import pyarrow as pa\n",
    "import pyarrow.compute as pc\n",
    "from deltalake import DeltaTable, write_deltalake\n",
    "from datetime import datetime, timedelta\n",
    "import itertools"
   ]
  },
  {
   "attachments": {},
   "cell_type": "markdown",
   "metadata": {},
   "source": [
    "To simulate a workload that pulls in new data periodically, we wrote a function that generates a new set of random data given a timestamp. We'll pass a sequence of hours to this, but the frequency could be anything."
   ]
  },
  {
   "cell_type": "code",
   "execution_count": 2,
   "metadata": {},
   "outputs": [
    {
     "data": {
      "text/html": [
       "<div>\n",
       "<style scoped>\n",
       "    .dataframe tbody tr th:only-of-type {\n",
       "        vertical-align: middle;\n",
       "    }\n",
       "\n",
       "    .dataframe tbody tr th {\n",
       "        vertical-align: top;\n",
       "    }\n",
       "\n",
       "    .dataframe thead th {\n",
       "        text-align: right;\n",
       "    }\n",
       "</style>\n",
       "<table border=\"1\" class=\"dataframe\">\n",
       "  <thead>\n",
       "    <tr style=\"text-align: right;\">\n",
       "      <th></th>\n",
       "      <th>date</th>\n",
       "      <th>timestamp</th>\n",
       "      <th>value</th>\n",
       "    </tr>\n",
       "  </thead>\n",
       "  <tbody>\n",
       "    <tr>\n",
       "      <th>0</th>\n",
       "      <td>2021-01-01</td>\n",
       "      <td>2021-01-01 12:00:00</td>\n",
       "      <td>0.982481</td>\n",
       "    </tr>\n",
       "    <tr>\n",
       "      <th>1</th>\n",
       "      <td>2021-01-01</td>\n",
       "      <td>2021-01-01 12:00:00</td>\n",
       "      <td>0.212515</td>\n",
       "    </tr>\n",
       "    <tr>\n",
       "      <th>2</th>\n",
       "      <td>2021-01-01</td>\n",
       "      <td>2021-01-01 12:00:00</td>\n",
       "      <td>0.239757</td>\n",
       "    </tr>\n",
       "    <tr>\n",
       "      <th>3</th>\n",
       "      <td>2021-01-01</td>\n",
       "      <td>2021-01-01 12:00:00</td>\n",
       "      <td>0.078596</td>\n",
       "    </tr>\n",
       "    <tr>\n",
       "      <th>4</th>\n",
       "      <td>2021-01-01</td>\n",
       "      <td>2021-01-01 12:00:00</td>\n",
       "      <td>0.564797</td>\n",
       "    </tr>\n",
       "    <tr>\n",
       "      <th>...</th>\n",
       "      <td>...</td>\n",
       "      <td>...</td>\n",
       "      <td>...</td>\n",
       "    </tr>\n",
       "    <tr>\n",
       "      <th>995</th>\n",
       "      <td>2021-01-01</td>\n",
       "      <td>2021-01-01 12:00:00</td>\n",
       "      <td>0.724803</td>\n",
       "    </tr>\n",
       "    <tr>\n",
       "      <th>996</th>\n",
       "      <td>2021-01-01</td>\n",
       "      <td>2021-01-01 12:00:00</td>\n",
       "      <td>0.235261</td>\n",
       "    </tr>\n",
       "    <tr>\n",
       "      <th>997</th>\n",
       "      <td>2021-01-01</td>\n",
       "      <td>2021-01-01 12:00:00</td>\n",
       "      <td>0.205549</td>\n",
       "    </tr>\n",
       "    <tr>\n",
       "      <th>998</th>\n",
       "      <td>2021-01-01</td>\n",
       "      <td>2021-01-01 12:00:00</td>\n",
       "      <td>0.337829</td>\n",
       "    </tr>\n",
       "    <tr>\n",
       "      <th>999</th>\n",
       "      <td>2021-01-01</td>\n",
       "      <td>2021-01-01 12:00:00</td>\n",
       "      <td>0.617930</td>\n",
       "    </tr>\n",
       "  </tbody>\n",
       "</table>\n",
       "<p>1000 rows × 3 columns</p>\n",
       "</div>"
      ],
      "text/plain": [
       "           date           timestamp     value\n",
       "0    2021-01-01 2021-01-01 12:00:00  0.982481\n",
       "1    2021-01-01 2021-01-01 12:00:00  0.212515\n",
       "2    2021-01-01 2021-01-01 12:00:00  0.239757\n",
       "3    2021-01-01 2021-01-01 12:00:00  0.078596\n",
       "4    2021-01-01 2021-01-01 12:00:00  0.564797\n",
       "..          ...                 ...       ...\n",
       "995  2021-01-01 2021-01-01 12:00:00  0.724803\n",
       "996  2021-01-01 2021-01-01 12:00:00  0.235261\n",
       "997  2021-01-01 2021-01-01 12:00:00  0.205549\n",
       "998  2021-01-01 2021-01-01 12:00:00  0.337829\n",
       "999  2021-01-01 2021-01-01 12:00:00  0.617930\n",
       "\n",
       "[1000 rows x 3 columns]"
      ]
     },
     "execution_count": 2,
     "metadata": {},
     "output_type": "execute_result"
    }
   ],
   "source": [
    "def record_observations(date: datetime) -> pa.Table:\n",
    "    \"\"\"Pulls data for a certain datetime\"\"\"\n",
    "    nrows = 1000\n",
    "    return pa.table({\n",
    "        \"date\": pa.array([date.date()] * nrows),\n",
    "        \"timestamp\": pa.array([date] * nrows),\n",
    "        \"value\": pc.random(nrows),\n",
    "    })\n",
    "\n",
    "# Example of output\n",
    "record_observations(datetime(2021, 1, 1, 12)).to_pandas()"
   ]
  },
  {
   "attachments": {},
   "cell_type": "markdown",
   "metadata": {},
   "source": [
    "First, we'll write 100 hours worth of data to the table."
   ]
  },
  {
   "cell_type": "code",
   "execution_count": 3,
   "metadata": {},
   "outputs": [],
   "source": [
    "# Every hour starting at midnight on 2021-01-01\n",
    "hours_iter = (datetime(2021, 1, 1) + timedelta(hours=i) for i in itertools.count())\n",
    "\n",
    "# Write 100 hours worth of data\n",
    "for timestamp in itertools.islice(hours_iter, 100):\n",
    "    write_deltalake(\n",
    "        \"observation_data\",\n",
    "        record_observations(timestamp),\n",
    "        partition_by=[\"date\"],\n",
    "        mode=\"append\",\n",
    "    )"
   ]
  },
  {
   "attachments": {},
   "cell_type": "markdown",
   "metadata": {},
   "source": [
    "We can now load out table's state with `DeltaTable(\"path/to/table\")`. How do we tell how many files there are? We can use the `.files()` method to get the list of files in the current version of the table."
   ]
  },
  {
   "cell_type": "code",
   "execution_count": 4,
   "metadata": {},
   "outputs": [
    {
     "data": {
      "text/plain": [
       "100"
      ]
     },
     "execution_count": 4,
     "metadata": {},
     "output_type": "execute_result"
    }
   ],
   "source": [
    "dt = DeltaTable(\"observation_data\")\n",
    "# We now have 100 files in our table\n",
    "len(dt.files())"
   ]
  },
  {
   "attachments": {},
   "cell_type": "markdown",
   "metadata": {},
   "source": [
    "We have 100 files, but how many partitions do we have? The `get_add_actions()` method gives us statistics for every file. With a little data wrangling, we can get the unique values for the `date` partition column."
   ]
  },
  {
   "cell_type": "code",
   "execution_count": 5,
   "metadata": {},
   "outputs": [
    {
     "data": {
      "text/plain": [
       "<pyarrow.lib.Date32Array object at 0x12f3e3940>\n",
       "[\n",
       "  2021-01-01,\n",
       "  2021-01-02,\n",
       "  2021-01-03,\n",
       "  2021-01-04,\n",
       "  2021-01-05\n",
       "]"
      ]
     },
     "execution_count": 5,
     "metadata": {},
     "output_type": "execute_result"
    }
   ],
   "source": [
    "# But there are only 5 unique partitions\n",
    "dt.get_add_actions(flatten=True).column(\"partition.date\").unique().sort()"
   ]
  },
  {
   "attachments": {},
   "cell_type": "markdown",
   "metadata": {},
   "source": [
    "Now we can run `optimize()` on our table. This compacts the 100 files into a single file per partition. Since we have 5 partitions, it adds 5 files to the table. The previous 100 files are removed from the table. All this is show in the metrics output by `optimize()`."
   ]
  },
  {
   "cell_type": "code",
   "execution_count": 6,
   "metadata": {},
   "outputs": [
    {
     "data": {
      "text/plain": [
       "{'numFilesAdded': 5,\n",
       " 'numFilesRemoved': 100,\n",
       " 'filesAdded': {'min': 39000,\n",
       "  'max': 238282,\n",
       "  'avg': 198425.6,\n",
       "  'totalFiles': 5,\n",
       "  'totalSize': 992128},\n",
       " 'filesRemoved': {'min': 10244,\n",
       "  'max': 10244,\n",
       "  'avg': 10244.0,\n",
       "  'totalFiles': 100,\n",
       "  'totalSize': 1024400},\n",
       " 'partitionsOptimized': 5,\n",
       " 'numBatches': 1,\n",
       " 'totalConsideredFiles': 100,\n",
       " 'totalFilesSkipped': 0,\n",
       " 'preserveInsertionOrder': True}"
      ]
     },
     "execution_count": 6,
     "metadata": {},
     "output_type": "execute_result"
    }
   ],
   "source": [
    "dt.optimize()"
   ]
  },
  {
   "attachments": {},
   "cell_type": "markdown",
   "metadata": {},
   "source": [
    "Now when we check the number of files, we see that we have 5 files, one per partition."
   ]
  },
  {
   "cell_type": "code",
   "execution_count": 7,
   "metadata": {},
   "outputs": [
    {
     "data": {
      "text/plain": [
       "5"
      ]
     },
     "execution_count": 7,
     "metadata": {},
     "output_type": "execute_result"
    }
   ],
   "source": [
    "# After running optimize, we have an equal number of files as partitions\n",
    "len(dt.files())"
   ]
  },
  {
   "attachments": {},
   "cell_type": "markdown",
   "metadata": {},
   "source": [
    "## Handling incremental updates\n",
    "\n",
    "Above, we optimized a table when the entire table had too many files. But when we incrementally update the table, we'll only have extra files in the new partitions. Let's take a look at how we handle incremental updates.\n",
    "\n",
    "We'll add another 24 hours worth of data."
   ]
  },
  {
   "cell_type": "code",
   "execution_count": 8,
   "metadata": {},
   "outputs": [],
   "source": [
    "# Add another 24 hours of data\n",
    "for timestamp in itertools.islice(hours_iter, 24):\n",
    "    write_deltalake(\n",
    "        dt,\n",
    "        record_observations(timestamp),\n",
    "        partition_by=[\"date\"],\n",
    "        mode=\"append\",\n",
    "    )"
   ]
  },
  {
   "attachments": {},
   "cell_type": "markdown",
   "metadata": {},
   "source": [
    "Now we can use `get_add_actions()` again to introspect the table state. We can see that `2021-01-06` has only a few hours of data so far, so we don't want to optimize that yet. But `2021-01-05` has all 24 hours of data, so it's ready to be optimized."
   ]
  },
  {
   "cell_type": "code",
   "execution_count": 9,
   "metadata": {},
   "outputs": [
    {
     "data": {
      "text/plain": [
       "2021-01-01     1\n",
       "2021-01-02     1\n",
       "2021-01-03     1\n",
       "2021-01-04     1\n",
       "2021-01-05    21\n",
       "2021-01-06     3\n",
       "Name: partition.date, dtype: int64"
      ]
     },
     "execution_count": 9,
     "metadata": {},
     "output_type": "execute_result"
    }
   ],
   "source": [
    "dt.get_add_actions(flatten=True).to_pandas()[\"partition.date\"].value_counts().sort_index()"
   ]
  },
  {
   "attachments": {},
   "cell_type": "markdown",
   "metadata": {},
   "source": [
    "To optimize a single partition, you can pass in a `partition_filters` argument speficying which partitions to optimize."
   ]
  },
  {
   "cell_type": "code",
   "execution_count": 10,
   "metadata": {},
   "outputs": [
    {
     "data": {
      "text/plain": [
       "{'numFilesAdded': 1,\n",
       " 'numFilesRemoved': 21,\n",
       " 'filesAdded': {'min': 238282,\n",
       "  'max': 238282,\n",
       "  'avg': 238282.0,\n",
       "  'totalFiles': 1,\n",
       "  'totalSize': 238282},\n",
       " 'filesRemoved': {'min': 10244,\n",
       "  'max': 39000,\n",
       "  'avg': 11613.333333333334,\n",
       "  'totalFiles': 21,\n",
       "  'totalSize': 243880},\n",
       " 'partitionsOptimized': 1,\n",
       " 'numBatches': 1,\n",
       " 'totalConsideredFiles': 21,\n",
       " 'totalFilesSkipped': 0,\n",
       " 'preserveInsertionOrder': True}"
      ]
     },
     "execution_count": 10,
     "metadata": {},
     "output_type": "execute_result"
    }
   ],
   "source": [
    "dt.optimize(partition_filters=[(\"date\", \"=\", \"2021-01-05\")])"
   ]
  },
  {
   "attachments": {},
   "cell_type": "markdown",
   "metadata": {},
   "source": [
    "## Vacuuming after optimizing\n",
    "\n",
    "When we optimize a table, we remove the old files from the table. However, these files are still in the table's transaction log. This is useful for tables where we might delete data, since we can look at old versions of the table. But for tables where we only append data and optimize partitions, the old files are mostly redundant.\n",
    "\n",
    "To remove them, we can use the `vacuum()` method. By default, this will remove all files that are older than 7 days. You can pass in a `retention_hours` argument to change this. However, for safety this argument won't allow windows that are too recent, unless you also pass the `enforce_retention_period=False` argument. Since for our workload the old files are redundant, we are okay with `rentention_hours=0`."
   ]
  },
  {
   "cell_type": "code",
   "execution_count": 11,
   "metadata": {},
   "outputs": [
    {
     "data": {
      "text/plain": [
       "['date=2021-01-02/42-24b42777-c22b-4cdd-8847-0c04f2cb6ac6-0.parquet',\n",
       " 'date=2021-01-02/39-29b0f345-fe21-4acf-becd-bd2cc9108718-0.parquet',\n",
       " 'date=2021-01-02/31-a2ea6e9c-fe3d-4676-8da0-0b14c9c99c74-0.parquet',\n",
       " 'date=2021-01-02/46-a730fcca-fd9c-4d86-b9f7-914f60185af3-0.parquet',\n",
       " 'date=2021-01-02/36-23e730c3-14ab-4101-a543-e5239652678e-0.parquet',\n",
       " 'date=2021-01-02/40-ee6a6111-facd-4d29-9973-35426997bce4-0.parquet',\n",
       " 'date=2021-01-02/32-36695bca-52e9-4872-bf54-4e0780e6c103-0.parquet',\n",
       " 'date=2021-01-02/27-05cdba48-93e3-4c4e-92ec-3b3c96db052d-0.parquet',\n",
       " 'date=2021-01-02/33-4edcbe0a-b43b-4bce-a20c-4141ae911f0b-0.parquet',\n",
       " 'date=2021-01-02/37-5d6c2c19-5261-4bbf-9b1a-02f1c5e723a9-0.parquet',\n",
       " 'date=2021-01-02/25-d613b9ee-f3fa-4136-b1b8-0151fdec2c19-0.parquet',\n",
       " 'date=2021-01-02/34-c975537c-2a1d-42cc-98cf-c5754a6c1c3e-0.parquet',\n",
       " 'date=2021-01-02/41-3ac72047-9a87-406c-8b1d-4de650b7987a-0.parquet',\n",
       " 'date=2021-01-02/35-d274fede-d209-4990-9375-9b49a341a912-0.parquet',\n",
       " 'date=2021-01-02/44-721c0183-d476-4d22-b73c-5256f06bde8b-0.parquet',\n",
       " 'date=2021-01-02/24-50d796a0-90fc-4e70-8017-60a68f5cb3d6-0.parquet',\n",
       " 'date=2021-01-02/45-5057e769-e173-4356-ab6a-5595ca33ba34-0.parquet',\n",
       " 'date=2021-01-02/30-8e51a611-8376-49cb-b0d1-0c1e75426df1-0.parquet',\n",
       " 'date=2021-01-02/29-c2c4a92a-0510-4e85-80fc-facd39b06bcd-0.parquet',\n",
       " 'date=2021-01-02/38-52a7c3a4-5948-45b0-aa08-90f0cd8d2578-0.parquet',\n",
       " 'date=2021-01-02/47-7c3b23a5-0e66-447d-b820-dbea752d7d5d-0.parquet',\n",
       " 'date=2021-01-02/26-9242ca85-fce7-436f-8ee6-e62ed64d59a3-0.parquet',\n",
       " 'date=2021-01-02/43-14ce7a09-3335-4d9b-a088-2080e7b83644-0.parquet',\n",
       " 'date=2021-01-02/28-38c07b34-3d43-4bc4-915f-c018b20f4581-0.parquet',\n",
       " 'date=2021-01-05/105-5fb3bfc8-dd2b-4496-9151-25df7e1d7231-0.parquet',\n",
       " 'date=2021-01-05/104-c0d53dc5-4078-4ed4-bf7b-16bd9d1bf339-0.parquet',\n",
       " 'date=2021-01-05/108-76b9aea7-cd33-41b3-8f23-a22e7622cf74-0.parquet',\n",
       " 'date=2021-01-05/110-d767e9e4-81b4-4f95-bec4-495ce947f477-0.parquet',\n",
       " 'date=2021-01-05/107-002e847e-c25d-4219-ad1f-d3c0d09279bf-0.parquet',\n",
       " 'date=2021-01-05/116-fe2be0bd-b506-425d-bb53-655c272e7269-0.parquet',\n",
       " 'date=2021-01-05/101-781c3011-ef5a-455a-9fb2-00d11d8ca306-0.parquet',\n",
       " 'date=2021-01-05/106-f2e27bdb-a7c4-458e-8dbe-5f9c263ec71a-0.parquet',\n",
       " 'date=2021-01-05/97-b72c6ec6-d5ea-4c8f-b353-87c1538eb825-0.parquet',\n",
       " 'date=2021-01-05/114-16626ce8-c39f-4032-8f78-93acc367c2e2-0.parquet',\n",
       " 'date=2021-01-05/99-ed4c8fe0-b7cf-4585-b74a-8ff8a6e1d725-0.parquet',\n",
       " 'date=2021-01-05/117-a89abbaf-85c2-42fc-8309-552a3aed6cd3-0.parquet',\n",
       " 'date=2021-01-05/96-88ddc499-ebb2-40d4-a2a8-3c6210014407-0.parquet',\n",
       " 'date=2021-01-05/111-c3e469fe-d5c5-4eaa-89bd-bb8254f77202-0.parquet',\n",
       " 'date=2021-01-05/102-2095e867-f383-4b53-a06c-ae9237482cba-0.parquet',\n",
       " 'date=2021-01-05/112-762ca240-9124-4752-9aed-e878a4450c54-0.parquet',\n",
       " 'date=2021-01-05/115-c48cba60-9a31-4a96-bf42-30b0df8ac626-0.parquet',\n",
       " 'date=2021-01-05/part-00000-2d410c4e-f972-4d25-a2b4-ea6b611fecfd-c000.snappy.parquet',\n",
       " 'date=2021-01-05/113-30e98d62-b42b-4472-bf44-730d7c8a8262-0.parquet',\n",
       " 'date=2021-01-05/103-fd6d743f-2d91-4025-aa68-9a9eb7fa55c7-0.parquet',\n",
       " 'date=2021-01-05/109-ab2dbc4a-9442-44da-8604-5e60e1135a36-0.parquet',\n",
       " 'date=2021-01-05/119-5bb112c8-ade4-4c30-8e50-0d4b6efecf37-0.parquet',\n",
       " 'date=2021-01-05/118-6923346b-64fc-4990-9799-24d9262204c8-0.parquet',\n",
       " 'date=2021-01-05/98-8cfdce21-2e74-44db-820d-d692f69e6b70-0.parquet',\n",
       " 'date=2021-01-05/120-91d5c146-0b73-4e94-9bd5-abc6c78f4853-0.parquet',\n",
       " 'date=2021-01-04/93-fd5d242e-dfff-41d0-8401-4f9c5ca0166d-0.parquet',\n",
       " 'date=2021-01-04/92-abdb566d-67f8-44cd-b0e9-74dabcedf27f-0.parquet',\n",
       " 'date=2021-01-04/75-82d157f4-bcb8-4677-ad4a-1a4566ea81fc-0.parquet',\n",
       " 'date=2021-01-04/86-99af5f02-ca7d-40bd-83f6-81c32ee7422f-0.parquet',\n",
       " 'date=2021-01-04/94-d08bf362-b8c0-47eb-86f2-00bd97019214-0.parquet',\n",
       " 'date=2021-01-04/95-e0303db4-57d7-477f-b70d-7b5f3dd189ba-0.parquet',\n",
       " 'date=2021-01-04/87-07f92086-3340-44e6-8faa-6faa33c4c094-0.parquet',\n",
       " 'date=2021-01-04/79-6d00d510-e8fe-4d30-a729-0159f89e5382-0.parquet',\n",
       " 'date=2021-01-04/78-bde1ff84-b7fb-49f3-a1f5-085211f180c0-0.parquet',\n",
       " 'date=2021-01-04/72-b7fb94b3-2244-40bc-aa8e-445833d3d7b5-0.parquet',\n",
       " 'date=2021-01-04/91-ba3dc62a-1c34-44ec-bede-d5eb92979cee-0.parquet',\n",
       " 'date=2021-01-04/82-c11f1ae3-e0a8-4858-8bff-7135218c0b9a-0.parquet',\n",
       " 'date=2021-01-04/80-8a94bdd7-1f6b-4c50-98a3-5e34147115e1-0.parquet',\n",
       " 'date=2021-01-04/84-32dee84e-be70-41dd-ac31-a2002be072f7-0.parquet',\n",
       " 'date=2021-01-04/90-1e8dcdff-e79c-4ad9-b8a2-e673cb01a2f2-0.parquet',\n",
       " 'date=2021-01-04/77-55569961-fce7-4e21-a5c2-3a501614a45e-0.parquet',\n",
       " 'date=2021-01-04/76-de0bba86-c81f-4ff2-9192-3ce1799efaa2-0.parquet',\n",
       " 'date=2021-01-04/81-e5c6abc9-0c8b-4d2c-b5e8-0019af2e4ed0-0.parquet',\n",
       " 'date=2021-01-04/85-9f783f70-624c-46f5-82e6-928369c23365-0.parquet',\n",
       " 'date=2021-01-04/89-56ffba71-efb0-4fe8-bd3d-422b8a88c41d-0.parquet',\n",
       " 'date=2021-01-04/74-7f31e367-084f-4f32-92cd-16445bd5f513-0.parquet',\n",
       " 'date=2021-01-04/83-5172c4d7-1fe2-409e-9ae3-49bb1ac98f10-0.parquet',\n",
       " 'date=2021-01-04/73-549de12c-dc54-4129-a547-37c4a076fd24-0.parquet',\n",
       " 'date=2021-01-04/88-bb933d75-f044-498d-814a-388767287ea4-0.parquet',\n",
       " 'date=2021-01-03/68-41445e97-5c93-46f6-b77c-acd47d3d4e35-0.parquet',\n",
       " 'date=2021-01-03/52-5b1d4e6f-0392-4b2a-a27c-acf87950fd38-0.parquet',\n",
       " 'date=2021-01-03/69-6808a2b0-b180-4442-b09d-5eb51be2688e-0.parquet',\n",
       " 'date=2021-01-03/71-39271382-b48e-44aa-b466-db6c08c1a13d-0.parquet',\n",
       " 'date=2021-01-03/67-136530d4-7fbf-477a-b0ac-11e2979a9f1d-0.parquet',\n",
       " 'date=2021-01-03/50-80d418f1-77ae-49f0-ba0c-1fe48d03bc96-0.parquet',\n",
       " 'date=2021-01-03/49-e24d3050-6689-4260-ac7f-32a0d35ab13f-0.parquet',\n",
       " 'date=2021-01-03/64-5b735dc0-a190-4ad7-b895-3183abce85b8-0.parquet',\n",
       " 'date=2021-01-03/58-fc0547da-07b3-4d4e-9f5d-ffe080f0ef41-0.parquet',\n",
       " 'date=2021-01-03/61-3ff88ca9-40e3-4bc7-ad1c-7e8124c05b3d-0.parquet',\n",
       " 'date=2021-01-03/60-d86f49e2-00c3-486a-94ac-6b4b9028c740-0.parquet',\n",
       " 'date=2021-01-03/57-6135e5dd-fab4-4b98-acde-45a1e5e59a37-0.parquet',\n",
       " 'date=2021-01-03/66-40f7bcf7-490c-4a89-9869-c8a8fbb00c02-0.parquet',\n",
       " 'date=2021-01-03/54-1188a249-1515-489b-8337-78a5a27a2168-0.parquet',\n",
       " 'date=2021-01-03/48-61ca34a0-6bd6-46ea-a009-6ef7434dce43-0.parquet',\n",
       " 'date=2021-01-03/51-fc36f1b3-f454-49d8-876c-b57e77a1dd7b-0.parquet',\n",
       " 'date=2021-01-03/56-2080d7ac-12cb-4efd-8e13-580bb12bf71e-0.parquet',\n",
       " 'date=2021-01-03/65-5616b8ec-aa50-4e89-9cab-19e8c1c2f17c-0.parquet',\n",
       " 'date=2021-01-03/62-a003a5c1-89ed-4f4a-a93f-59212c3e0b1b-0.parquet',\n",
       " 'date=2021-01-03/63-afe3f8f4-0f12-4802-9c05-131d38aab6dc-0.parquet',\n",
       " 'date=2021-01-03/53-1adc499b-30f9-444c-808b-8790e0993d32-0.parquet',\n",
       " 'date=2021-01-03/55-9ff25a78-3d0e-4a79-ae60-5245ca902bf8-0.parquet',\n",
       " 'date=2021-01-03/59-dadeaf86-6b64-49bb-9868-f07cf0cb701f-0.parquet',\n",
       " 'date=2021-01-03/70-0ce26737-9102-4edb-8d70-bec9ca03014f-0.parquet',\n",
       " 'date=2021-01-01/1-e7e0b8ed-583a-497f-9673-eae2e1dea8e0-0.parquet',\n",
       " 'date=2021-01-01/4-fba12dc1-4709-43a0-acc7-e0b281eb0023-0.parquet',\n",
       " 'date=2021-01-01/8-4712b2e5-08b2-4377-a59b-bad0cb341015-0.parquet',\n",
       " 'date=2021-01-01/5-9fbda94b-cf5c-49cb-a0d0-63a633043365-0.parquet',\n",
       " 'date=2021-01-01/3-f98376ee-a9b1-415c-80d3-41754f990ea8-0.parquet',\n",
       " 'date=2021-01-01/12-c7226e52-7bc2-4f79-a6f5-51da8c14fe5d-0.parquet',\n",
       " 'date=2021-01-01/21-941b9ffc-4753-4ebd-b5e3-af156d73d20b-0.parquet',\n",
       " 'date=2021-01-01/10-4426d3b8-c638-4ce2-8faf-fd984c5d789c-0.parquet',\n",
       " 'date=2021-01-01/14-1a883cc4-2831-46f4-b129-cf13eebe1e1a-0.parquet',\n",
       " 'date=2021-01-01/7-b2d58809-2e33-4763-a50c-238ea6d97cc2-0.parquet',\n",
       " 'date=2021-01-01/15-2a2f6c95-8a0b-4208-a3ef-48ff123882d3-0.parquet',\n",
       " 'date=2021-01-01/22-39c0219b-56f2-4e46-b70e-6ebe0eccf83b-0.parquet',\n",
       " 'date=2021-01-01/11-cc0af99f-833a-44aa-abd3-6d917eeb053d-0.parquet',\n",
       " 'date=2021-01-01/0-4248e317-1594-49c4-9092-97c47f9c50b8-0.parquet',\n",
       " 'date=2021-01-01/13-b0744a5e-242e-45fc-8445-79cf4217014f-0.parquet',\n",
       " 'date=2021-01-01/18-fe723db7-21a3-4b0c-affa-ededc5b1db86-0.parquet',\n",
       " 'date=2021-01-01/9-56d34995-310f-42c7-98bf-ab819c25e0c0-0.parquet',\n",
       " 'date=2021-01-01/19-00f2431f-1d6a-42cc-b53b-7db502230bd8-0.parquet',\n",
       " 'date=2021-01-01/16-a77b401b-d4e2-4e1b-a454-3ae67457ffe1-0.parquet',\n",
       " 'date=2021-01-01/17-403f3beb-ffe4-4f39-aef1-3425b5d88cc5-0.parquet',\n",
       " 'date=2021-01-01/20-aac4b180-1b95-4741-8c9a-753a8801a1ac-0.parquet',\n",
       " 'date=2021-01-01/23-7c9e32dc-793c-4520-828a-7faf7dd2aad3-0.parquet',\n",
       " 'date=2021-01-01/2-1b16af9f-60df-4f47-bc03-3d618d4a3f95-0.parquet',\n",
       " 'date=2021-01-01/6-54f4275f-b982-43b2-a462-1e9c46321fe8-0.parquet']"
      ]
     },
     "execution_count": 11,
     "metadata": {},
     "output_type": "execute_result"
    }
   ],
   "source": [
    "dt.vacuum(retention_hours=0, enforce_retention_duration=False, dry_run=False)"
   ]
  }
 ],
 "metadata": {
  "kernelspec": {
   "display_name": "notebooks",
   "language": "python",
   "name": "python3"
  },
  "language_info": {
   "codemirror_mode": {
    "name": "ipython",
    "version": 3
   },
   "file_extension": ".py",
   "mimetype": "text/x-python",
   "name": "python",
   "nbconvert_exporter": "python",
   "pygments_lexer": "ipython3",
   "version": "3.10.8"
  },
  "orig_nbformat": 4
 },
 "nbformat": 4,
 "nbformat_minor": 2
}

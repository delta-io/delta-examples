{
 "cells": [
  {
   "cell_type": "markdown",
   "id": "d5d667eb-3aa2-4965-a175-2c1891a510b3",
   "metadata": {},
   "source": [
    "# DuckDB Kernel Demo"
   ]
  },
  {
   "cell_type": "code",
   "execution_count": 1,
   "id": "2e3c541d-0366-4d97-8e5a-831e10191248",
   "metadata": {},
   "outputs": [],
   "source": [
    "import duckdb\n",
    "from deltalake import write_deltalake"
   ]
  },
  {
   "cell_type": "code",
   "execution_count": 2,
   "id": "5cdfd05a-0644-4468-be0c-e2d325d3123d",
   "metadata": {},
   "outputs": [],
   "source": [
    "con = duckdb.connect()"
   ]
  },
  {
   "cell_type": "markdown",
   "id": "47ac3f69-b8dc-4273-a0f5-362f4e3a8f12",
   "metadata": {},
   "source": [
    "## create Delta table"
   ]
  },
  {
   "cell_type": "code",
   "execution_count": 3,
   "id": "0970edce-cfbb-465e-a597-36ba31c76002",
   "metadata": {},
   "outputs": [],
   "source": [
    "df1 = con.query(\n",
    "    \"SELECT i AS id, i % 2 AS part, 'value-' || i AS value FROM range(0, 5) tbl(i)\"\n",
    ").df()"
   ]
  },
  {
   "cell_type": "code",
   "execution_count": 4,
   "id": "9c153fae-ac2b-433c-8835-a69579bb16aa",
   "metadata": {},
   "outputs": [
    {
     "name": "stdout",
     "output_type": "stream",
     "text": [
      "   id  part    value\n",
      "0   0     0  value-0\n",
      "1   1     1  value-1\n",
      "2   2     0  value-2\n",
      "3   3     1  value-3\n",
      "4   4     0  value-4\n"
     ]
    }
   ],
   "source": [
    "print(df1)"
   ]
  },
  {
   "cell_type": "code",
   "execution_count": 6,
   "id": "583489d8-60f7-4241-b7ea-6a7ea3819d7f",
   "metadata": {},
   "outputs": [],
   "source": [
    "write_deltalake(f\"./fun_delta_table\", df1)"
   ]
  },
  {
   "cell_type": "code",
   "execution_count": 8,
   "id": "a95ae5b0-3483-4a91-bf46-73b78be05788",
   "metadata": {},
   "outputs": [
    {
     "name": "stdout",
     "output_type": "stream",
     "text": [
      "┌───────┬───────┬─────────┐\n",
      "│  id   │ part  │  value  │\n",
      "│ int64 │ int64 │ varchar │\n",
      "├───────┼───────┼─────────┤\n",
      "│     0 │     0 │ value-0 │\n",
      "│     1 │     1 │ value-1 │\n",
      "│     2 │     0 │ value-2 │\n",
      "│     3 │     1 │ value-3 │\n",
      "│     4 │     0 │ value-4 │\n",
      "└───────┴───────┴─────────┘\n",
      "\n"
     ]
    }
   ],
   "source": [
    "duckdb.sql(\"SELECT * FROM delta_scan('./fun_delta_table') ORDER BY id;\").show()"
   ]
  },
  {
   "cell_type": "markdown",
   "id": "b17b761c-e18b-40a2-bb77-cd685d9fb28d",
   "metadata": {},
   "source": [
    "## append to Delta table"
   ]
  },
  {
   "cell_type": "code",
   "execution_count": 9,
   "id": "3b00bf04-fcb6-4d5a-8033-10b544b04ccd",
   "metadata": {},
   "outputs": [],
   "source": [
    "df2 = con.query(\n",
    "    \"SELECT i AS id, i % 2 AS part, 'value-' || i AS value FROM range(5, 10) tbl(i)\"\n",
    ").df()"
   ]
  },
  {
   "cell_type": "code",
   "execution_count": 12,
   "id": "497dd18d-4470-4b46-82b8-6d93c875356e",
   "metadata": {},
   "outputs": [],
   "source": [
    "write_deltalake(f\"./fun_delta_table\", df2, mode=\"append\")"
   ]
  },
  {
   "cell_type": "code",
   "execution_count": 13,
   "id": "4931c093-2efc-447d-9d91-9b004a7ae1e3",
   "metadata": {},
   "outputs": [
    {
     "name": "stdout",
     "output_type": "stream",
     "text": [
      "┌───────┬───────┬─────────┐\n",
      "│  id   │ part  │  value  │\n",
      "│ int64 │ int64 │ varchar │\n",
      "├───────┼───────┼─────────┤\n",
      "│     0 │     0 │ value-0 │\n",
      "│     1 │     1 │ value-1 │\n",
      "│     2 │     0 │ value-2 │\n",
      "│     3 │     1 │ value-3 │\n",
      "│     4 │     0 │ value-4 │\n",
      "│     5 │     1 │ value-5 │\n",
      "│     6 │     0 │ value-6 │\n",
      "│     7 │     1 │ value-7 │\n",
      "│     8 │     0 │ value-8 │\n",
      "│     9 │     1 │ value-9 │\n",
      "├───────┴───────┴─────────┤\n",
      "│ 10 rows       3 columns │\n",
      "└─────────────────────────┘\n",
      "\n"
     ]
    }
   ],
   "source": [
    "duckdb.sql(\"SELECT * FROM delta_scan('./fun_delta_table') ORDER BY id;\").show()"
   ]
  },
  {
   "cell_type": "markdown",
   "id": "fbff3ceb-cdc8-4a28-a2d0-a8f0acbe13f3",
   "metadata": {},
   "source": [
    "## Read table with deletion vectors"
   ]
  },
  {
   "cell_type": "code",
   "execution_count": 15,
   "id": "573dad9d-879f-4569-b36b-79ca4698d4e7",
   "metadata": {},
   "outputs": [],
   "source": [
    "path = \"/Users/matthew.powers/data/out/reader_tests/generated/deletion_vectors/delta\""
   ]
  },
  {
   "cell_type": "code",
   "execution_count": 20,
   "id": "9f8cde3a-aae0-44eb-bbc8-78e9918ca0c2",
   "metadata": {},
   "outputs": [
    {
     "name": "stdout",
     "output_type": "stream",
     "text": [
      "┌─────────┬───────┬────────────┐\n",
      "│ letter  │  int  │    date    │\n",
      "│ varchar │ int64 │    date    │\n",
      "├─────────┼───────┼────────────┤\n",
      "│ b       │   228 │ 1978-12-01 │\n",
      "└─────────┴───────┴────────────┘\n",
      "\n"
     ]
    }
   ],
   "source": [
    "duckdb.sql(f\"SELECT * FROM delta_scan('{path}');\").show()"
   ]
  },
  {
   "cell_type": "code",
   "execution_count": null,
   "id": "c6425bb9-c5aa-4cd4-95ec-a9e085e1b7c7",
   "metadata": {},
   "outputs": [],
   "source": []
  }
 ],
 "metadata": {
  "kernelspec": {
   "display_name": "deltalake-0201",
   "language": "python",
   "name": "deltalake-0201"
  },
  "language_info": {
   "codemirror_mode": {
    "name": "ipython",
    "version": 3
   },
   "file_extension": ".py",
   "mimetype": "text/x-python",
   "name": "python",
   "nbconvert_exporter": "python",
   "pygments_lexer": "ipython3",
   "version": "3.11.10"
  }
 },
 "nbformat": 4,
 "nbformat_minor": 5
}

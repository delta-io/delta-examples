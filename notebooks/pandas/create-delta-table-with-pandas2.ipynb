{
 "cells": [
  {
   "cell_type": "markdown",
   "id": "cfc2f1c5-2ccf-4af9-9c58-a2206de86bd9",
   "metadata": {},
   "source": [
    "# Create Delta table with pandas"
   ]
  },
  {
   "cell_type": "code",
   "execution_count": 24,
   "id": "8fe27013-8276-437c-a66a-bbf9e53724f9",
   "metadata": {},
   "outputs": [],
   "source": [
    "import os\n",
    "\n",
    "import pandas as pd\n",
    "from deltalake import DeltaTable, write_deltalake"
   ]
  },
  {
   "cell_type": "markdown",
   "id": "b3862d56-9c3e-4e60-befe-2b30ea4c2a30",
   "metadata": {},
   "source": [
    "## Create Delta Lake"
   ]
  },
  {
   "cell_type": "code",
   "execution_count": 25,
   "id": "dfa47dc0-1349-445b-93fa-b97372b05526",
   "metadata": {},
   "outputs": [],
   "source": [
    "os.makedirs(\"tmp/my_delta_lake\", exist_ok=True)"
   ]
  },
  {
   "cell_type": "code",
   "execution_count": 26,
   "id": "21e2ce74-13dd-40b1-b374-7304ea5a5d88",
   "metadata": {},
   "outputs": [],
   "source": [
    "df = pd.DataFrame({\"id\": [0, 1, 2]})"
   ]
  },
  {
   "cell_type": "code",
   "execution_count": 27,
   "id": "e6ea5957-9119-4c2e-b541-02d69bbd84c1",
   "metadata": {},
   "outputs": [],
   "source": [
    "write_deltalake(\"tmp/my_delta_lake\", df)"
   ]
  },
  {
   "cell_type": "code",
   "execution_count": 28,
   "id": "d494041e-80e2-4020-8512-ba47b103061a",
   "metadata": {},
   "outputs": [
    {
     "data": {
      "text/html": [
       "<div>\n",
       "<style scoped>\n",
       "    .dataframe tbody tr th:only-of-type {\n",
       "        vertical-align: middle;\n",
       "    }\n",
       "\n",
       "    .dataframe tbody tr th {\n",
       "        vertical-align: top;\n",
       "    }\n",
       "\n",
       "    .dataframe thead th {\n",
       "        text-align: right;\n",
       "    }\n",
       "</style>\n",
       "<table border=\"1\" class=\"dataframe\">\n",
       "  <thead>\n",
       "    <tr style=\"text-align: right;\">\n",
       "      <th></th>\n",
       "      <th>id</th>\n",
       "    </tr>\n",
       "  </thead>\n",
       "  <tbody>\n",
       "    <tr>\n",
       "      <th>0</th>\n",
       "      <td>0</td>\n",
       "    </tr>\n",
       "    <tr>\n",
       "      <th>1</th>\n",
       "      <td>1</td>\n",
       "    </tr>\n",
       "    <tr>\n",
       "      <th>2</th>\n",
       "      <td>2</td>\n",
       "    </tr>\n",
       "  </tbody>\n",
       "</table>\n",
       "</div>"
      ],
      "text/plain": [
       "   id\n",
       "0   0\n",
       "1   1\n",
       "2   2"
      ]
     },
     "execution_count": 28,
     "metadata": {},
     "output_type": "execute_result"
    }
   ],
   "source": [
    "DeltaTable(\"tmp/my_delta_lake\").to_pandas()"
   ]
  },
  {
   "cell_type": "code",
   "execution_count": 29,
   "id": "a3f8169d-36c6-4b31-a64b-554b7b2aeff2",
   "metadata": {},
   "outputs": [],
   "source": [
    "DeltaTable(\"tmp/my_delta_lake\").to_pandas().to_clipboard()"
   ]
  },
  {
   "cell_type": "markdown",
   "id": "aba959c0-f49b-47d0-aa96-bf599507cd36",
   "metadata": {},
   "source": [
    "## Append to Delta Lake"
   ]
  },
  {
   "cell_type": "code",
   "execution_count": 30,
   "id": "dabf919d-23fd-49ad-be06-a80722ae4319",
   "metadata": {},
   "outputs": [],
   "source": [
    "df2 = pd.DataFrame({\"id\": [4, 5]})"
   ]
  },
  {
   "cell_type": "code",
   "execution_count": 31,
   "id": "2f5b0243-b6be-4344-815e-bbd920ec09d4",
   "metadata": {},
   "outputs": [],
   "source": [
    "write_deltalake(\"tmp/my_delta_lake\", df2, mode=\"overwrite\")"
   ]
  },
  {
   "cell_type": "code",
   "execution_count": 32,
   "id": "20133937-ca5d-4163-981d-4a7b803c9bb7",
   "metadata": {},
   "outputs": [
    {
     "data": {
      "text/html": [
       "<div>\n",
       "<style scoped>\n",
       "    .dataframe tbody tr th:only-of-type {\n",
       "        vertical-align: middle;\n",
       "    }\n",
       "\n",
       "    .dataframe tbody tr th {\n",
       "        vertical-align: top;\n",
       "    }\n",
       "\n",
       "    .dataframe thead th {\n",
       "        text-align: right;\n",
       "    }\n",
       "</style>\n",
       "<table border=\"1\" class=\"dataframe\">\n",
       "  <thead>\n",
       "    <tr style=\"text-align: right;\">\n",
       "      <th></th>\n",
       "      <th>id</th>\n",
       "    </tr>\n",
       "  </thead>\n",
       "  <tbody>\n",
       "    <tr>\n",
       "      <th>0</th>\n",
       "      <td>4</td>\n",
       "    </tr>\n",
       "    <tr>\n",
       "      <th>1</th>\n",
       "      <td>5</td>\n",
       "    </tr>\n",
       "  </tbody>\n",
       "</table>\n",
       "</div>"
      ],
      "text/plain": [
       "   id\n",
       "0   4\n",
       "1   5"
      ]
     },
     "execution_count": 32,
     "metadata": {},
     "output_type": "execute_result"
    }
   ],
   "source": [
    "DeltaTable(\"tmp/my_delta_lake\").to_pandas()"
   ]
  },
  {
   "cell_type": "code",
   "execution_count": 33,
   "id": "926b7033-0101-4439-a00f-9f352e9fb686",
   "metadata": {
    "tags": []
   },
   "outputs": [],
   "source": [
    "DeltaTable(\"tmp/my_delta_lake\").to_pandas().to_clipboard()"
   ]
  },
  {
   "cell_type": "markdown",
   "id": "b2d5ecba-85f6-41cb-85df-ac6aca517e12",
   "metadata": {},
   "source": [
    "## pandas time travel"
   ]
  },
  {
   "cell_type": "code",
   "execution_count": 34,
   "id": "c7f57be5-ea29-45f5-a08d-2059fdb9730d",
   "metadata": {},
   "outputs": [],
   "source": [
    "dt = DeltaTable(\"tmp/my_delta_lake\", version=0)"
   ]
  },
  {
   "cell_type": "code",
   "execution_count": 35,
   "id": "1d92a417-4a81-42b2-957e-c54f5e0d68d0",
   "metadata": {},
   "outputs": [
    {
     "data": {
      "text/html": [
       "<div>\n",
       "<style scoped>\n",
       "    .dataframe tbody tr th:only-of-type {\n",
       "        vertical-align: middle;\n",
       "    }\n",
       "\n",
       "    .dataframe tbody tr th {\n",
       "        vertical-align: top;\n",
       "    }\n",
       "\n",
       "    .dataframe thead th {\n",
       "        text-align: right;\n",
       "    }\n",
       "</style>\n",
       "<table border=\"1\" class=\"dataframe\">\n",
       "  <thead>\n",
       "    <tr style=\"text-align: right;\">\n",
       "      <th></th>\n",
       "      <th>id</th>\n",
       "    </tr>\n",
       "  </thead>\n",
       "  <tbody>\n",
       "    <tr>\n",
       "      <th>0</th>\n",
       "      <td>0</td>\n",
       "    </tr>\n",
       "    <tr>\n",
       "      <th>1</th>\n",
       "      <td>1</td>\n",
       "    </tr>\n",
       "    <tr>\n",
       "      <th>2</th>\n",
       "      <td>2</td>\n",
       "    </tr>\n",
       "  </tbody>\n",
       "</table>\n",
       "</div>"
      ],
      "text/plain": [
       "   id\n",
       "0   0\n",
       "1   1\n",
       "2   2"
      ]
     },
     "execution_count": 35,
     "metadata": {},
     "output_type": "execute_result"
    }
   ],
   "source": [
    "dt.to_pandas()"
   ]
  },
  {
   "cell_type": "code",
   "execution_count": 36,
   "id": "fc68a7e9-f51e-47e4-8e2b-f8181668e206",
   "metadata": {},
   "outputs": [
    {
     "data": {
      "text/html": [
       "<div>\n",
       "<style scoped>\n",
       "    .dataframe tbody tr th:only-of-type {\n",
       "        vertical-align: middle;\n",
       "    }\n",
       "\n",
       "    .dataframe tbody tr th {\n",
       "        vertical-align: top;\n",
       "    }\n",
       "\n",
       "    .dataframe thead th {\n",
       "        text-align: right;\n",
       "    }\n",
       "</style>\n",
       "<table border=\"1\" class=\"dataframe\">\n",
       "  <thead>\n",
       "    <tr style=\"text-align: right;\">\n",
       "      <th></th>\n",
       "      <th>id</th>\n",
       "    </tr>\n",
       "  </thead>\n",
       "  <tbody>\n",
       "    <tr>\n",
       "      <th>0</th>\n",
       "      <td>4</td>\n",
       "    </tr>\n",
       "    <tr>\n",
       "      <th>1</th>\n",
       "      <td>5</td>\n",
       "    </tr>\n",
       "  </tbody>\n",
       "</table>\n",
       "</div>"
      ],
      "text/plain": [
       "   id\n",
       "0   4\n",
       "1   5"
      ]
     },
     "execution_count": 36,
     "metadata": {},
     "output_type": "execute_result"
    }
   ],
   "source": [
    "DeltaTable(\"tmp/my_delta_lake\").to_pandas()"
   ]
  },
  {
   "cell_type": "markdown",
   "id": "ead29583-fd54-47f7-965d-a1231eb5d944",
   "metadata": {},
   "source": [
    "## Overwrite Delta Lake"
   ]
  },
  {
   "cell_type": "code",
   "execution_count": 37,
   "id": "4199628a-1951-47df-856f-27e3d8f85175",
   "metadata": {},
   "outputs": [],
   "source": [
    "df3 = pd.DataFrame({\"id\": [7, 8, 9]})"
   ]
  },
  {
   "cell_type": "code",
   "execution_count": 38,
   "id": "87dba349-c0d3-42eb-ab7f-5e3c32b45d7d",
   "metadata": {},
   "outputs": [],
   "source": [
    "write_deltalake(\"tmp/my_delta_lake\", df3, mode=\"overwrite\")"
   ]
  },
  {
   "cell_type": "code",
   "execution_count": 39,
   "id": "97fe2c86-3212-47ac-84e9-4cf4df0a1dc5",
   "metadata": {},
   "outputs": [
    {
     "data": {
      "text/html": [
       "<div>\n",
       "<style scoped>\n",
       "    .dataframe tbody tr th:only-of-type {\n",
       "        vertical-align: middle;\n",
       "    }\n",
       "\n",
       "    .dataframe tbody tr th {\n",
       "        vertical-align: top;\n",
       "    }\n",
       "\n",
       "    .dataframe thead th {\n",
       "        text-align: right;\n",
       "    }\n",
       "</style>\n",
       "<table border=\"1\" class=\"dataframe\">\n",
       "  <thead>\n",
       "    <tr style=\"text-align: right;\">\n",
       "      <th></th>\n",
       "      <th>id</th>\n",
       "    </tr>\n",
       "  </thead>\n",
       "  <tbody>\n",
       "    <tr>\n",
       "      <th>0</th>\n",
       "      <td>7</td>\n",
       "    </tr>\n",
       "    <tr>\n",
       "      <th>1</th>\n",
       "      <td>8</td>\n",
       "    </tr>\n",
       "    <tr>\n",
       "      <th>2</th>\n",
       "      <td>9</td>\n",
       "    </tr>\n",
       "  </tbody>\n",
       "</table>\n",
       "</div>"
      ],
      "text/plain": [
       "   id\n",
       "0   7\n",
       "1   8\n",
       "2   9"
      ]
     },
     "execution_count": 39,
     "metadata": {},
     "output_type": "execute_result"
    }
   ],
   "source": [
    "DeltaTable(\"tmp/my_delta_lake\").to_pandas()"
   ]
  },
  {
   "cell_type": "code",
   "execution_count": 40,
   "id": "0e9fe97a-ca73-4d65-a926-3eef67a8cf5f",
   "metadata": {
    "tags": []
   },
   "outputs": [],
   "source": [
    "DeltaTable(\"tmp/my_delta_lake\").to_pandas().to_clipboard()"
   ]
  },
  {
   "cell_type": "markdown",
   "id": "a9ed946e-35cf-4d34-a4e6-7e0e1fffbfed",
   "metadata": {},
   "source": [
    "## Confirm other versions are still accessible"
   ]
  },
  {
   "cell_type": "code",
   "execution_count": 41,
   "id": "bc13c315-fa80-45f0-9ad8-7c21d96ed752",
   "metadata": {},
   "outputs": [
    {
     "data": {
      "text/html": [
       "<div>\n",
       "<style scoped>\n",
       "    .dataframe tbody tr th:only-of-type {\n",
       "        vertical-align: middle;\n",
       "    }\n",
       "\n",
       "    .dataframe tbody tr th {\n",
       "        vertical-align: top;\n",
       "    }\n",
       "\n",
       "    .dataframe thead th {\n",
       "        text-align: right;\n",
       "    }\n",
       "</style>\n",
       "<table border=\"1\" class=\"dataframe\">\n",
       "  <thead>\n",
       "    <tr style=\"text-align: right;\">\n",
       "      <th></th>\n",
       "      <th>id</th>\n",
       "    </tr>\n",
       "  </thead>\n",
       "  <tbody>\n",
       "    <tr>\n",
       "      <th>0</th>\n",
       "      <td>0</td>\n",
       "    </tr>\n",
       "    <tr>\n",
       "      <th>1</th>\n",
       "      <td>1</td>\n",
       "    </tr>\n",
       "    <tr>\n",
       "      <th>2</th>\n",
       "      <td>2</td>\n",
       "    </tr>\n",
       "  </tbody>\n",
       "</table>\n",
       "</div>"
      ],
      "text/plain": [
       "   id\n",
       "0   0\n",
       "1   1\n",
       "2   2"
      ]
     },
     "execution_count": 41,
     "metadata": {},
     "output_type": "execute_result"
    }
   ],
   "source": [
    "DeltaTable(\"tmp/my_delta_lake\", version=0).to_pandas()"
   ]
  },
  {
   "cell_type": "code",
   "execution_count": 23,
   "id": "9333c5d4-1221-45e0-a3e1-4d35ef224b4d",
   "metadata": {},
   "outputs": [
    {
     "data": {
      "text/html": [
       "<div>\n",
       "<style scoped>\n",
       "    .dataframe tbody tr th:only-of-type {\n",
       "        vertical-align: middle;\n",
       "    }\n",
       "\n",
       "    .dataframe tbody tr th {\n",
       "        vertical-align: top;\n",
       "    }\n",
       "\n",
       "    .dataframe thead th {\n",
       "        text-align: right;\n",
       "    }\n",
       "</style>\n",
       "<table border=\"1\" class=\"dataframe\">\n",
       "  <thead>\n",
       "    <tr style=\"text-align: right;\">\n",
       "      <th></th>\n",
       "      <th>id</th>\n",
       "    </tr>\n",
       "  </thead>\n",
       "  <tbody>\n",
       "    <tr>\n",
       "      <th>0</th>\n",
       "      <td>0</td>\n",
       "    </tr>\n",
       "    <tr>\n",
       "      <th>1</th>\n",
       "      <td>1</td>\n",
       "    </tr>\n",
       "    <tr>\n",
       "      <th>2</th>\n",
       "      <td>2</td>\n",
       "    </tr>\n",
       "    <tr>\n",
       "      <th>3</th>\n",
       "      <td>4</td>\n",
       "    </tr>\n",
       "    <tr>\n",
       "      <th>4</th>\n",
       "      <td>5</td>\n",
       "    </tr>\n",
       "  </tbody>\n",
       "</table>\n",
       "</div>"
      ],
      "text/plain": [
       "   id\n",
       "0   0\n",
       "1   1\n",
       "2   2\n",
       "3   4\n",
       "4   5"
      ]
     },
     "execution_count": 23,
     "metadata": {},
     "output_type": "execute_result"
    }
   ],
   "source": [
    "DeltaTable(\"tmp/my_delta_lake\", version=1).to_pandas()"
   ]
  },
  {
   "cell_type": "code",
   "execution_count": null,
   "id": "2b133dca-b8fd-4efe-a8ec-c2c4cfe6e7cd",
   "metadata": {},
   "outputs": [],
   "source": []
  }
 ],
 "metadata": {
  "kernelspec": {
   "display_name": "deltalake-0151",
   "language": "python",
   "name": "deltalake-0151"
  },
  "language_info": {
   "codemirror_mode": {
    "name": "ipython",
    "version": 3
   },
   "file_extension": ".py",
   "mimetype": "text/x-python",
   "name": "python",
   "nbconvert_exporter": "python",
   "pygments_lexer": "ipython3",
   "version": "3.9.18"
  }
 },
 "nbformat": 4,
 "nbformat_minor": 5
}

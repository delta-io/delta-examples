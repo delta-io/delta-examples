{
 "cells": [
  {
   "cell_type": "markdown",
   "id": "79a8e6a4-79f5-40e0-8934-ae98d3b98c6d",
   "metadata": {},
   "source": [
    "# Why deltalake for pandas?\n",
    "\n",
    "This notebook demonstrates why Delta Lake is the best storage format for pandas analyses."
   ]
  },
  {
   "cell_type": "code",
   "execution_count": 16,
   "id": "9766ff0b-48a2-4893-aea6-55c9df037884",
   "metadata": {
    "tags": []
   },
   "outputs": [],
   "source": [
    "import itertools\n",
    "import os\n",
    "import pathlib\n",
    "from datetime import datetime, timedelta\n",
    "\n",
    "import pandas as pd\n",
    "import pyarrow as pa\n",
    "import pyarrow.compute as pc\n",
    "import pyarrow.dataset as ds\n",
    "from deltalake import DeltaTable, write_deltalake"
   ]
  },
  {
   "cell_type": "markdown",
   "id": "2efd9e25-f425-4564-a409-430872bd45b7",
   "metadata": {},
   "source": [
    "## Reason 1: File skipping makes queries run faster\n",
    "\n",
    "Let's compare the runtime for a filter/aggregation query on data stored in a CSV file vs the same data in a Delta Lake table.\n",
    "\n",
    "We will see that the query runs much faster when the data is stored in a Delta table."
   ]
  },
  {
   "cell_type": "code",
   "execution_count": 9,
   "id": "0c79ea37-b182-450f-a618-52533ef8e820",
   "metadata": {
    "tags": []
   },
   "outputs": [
    {
     "data": {
      "text/html": [
       "<div>\n",
       "<style scoped>\n",
       "    .dataframe tbody tr th:only-of-type {\n",
       "        vertical-align: middle;\n",
       "    }\n",
       "\n",
       "    .dataframe tbody tr th {\n",
       "        vertical-align: top;\n",
       "    }\n",
       "\n",
       "    .dataframe thead th {\n",
       "        text-align: right;\n",
       "    }\n",
       "</style>\n",
       "<table border=\"1\" class=\"dataframe\">\n",
       "  <thead>\n",
       "    <tr style=\"text-align: right;\">\n",
       "      <th></th>\n",
       "      <th>id1</th>\n",
       "      <th>id2</th>\n",
       "      <th>id3</th>\n",
       "      <th>id4</th>\n",
       "      <th>id5</th>\n",
       "      <th>id6</th>\n",
       "      <th>v1</th>\n",
       "      <th>v2</th>\n",
       "      <th>v3</th>\n",
       "    </tr>\n",
       "  </thead>\n",
       "  <tbody>\n",
       "    <tr>\n",
       "      <th>0</th>\n",
       "      <td>id016</td>\n",
       "      <td>id046</td>\n",
       "      <td>id0000109363</td>\n",
       "      <td>88</td>\n",
       "      <td>13</td>\n",
       "      <td>146094</td>\n",
       "      <td>4</td>\n",
       "      <td>6</td>\n",
       "      <td>18.837686</td>\n",
       "    </tr>\n",
       "    <tr>\n",
       "      <th>1</th>\n",
       "      <td>id039</td>\n",
       "      <td>id087</td>\n",
       "      <td>id0000466766</td>\n",
       "      <td>14</td>\n",
       "      <td>30</td>\n",
       "      <td>111330</td>\n",
       "      <td>4</td>\n",
       "      <td>14</td>\n",
       "      <td>46.797328</td>\n",
       "    </tr>\n",
       "    <tr>\n",
       "      <th>2</th>\n",
       "      <td>id047</td>\n",
       "      <td>id098</td>\n",
       "      <td>id0000307804</td>\n",
       "      <td>85</td>\n",
       "      <td>23</td>\n",
       "      <td>187639</td>\n",
       "      <td>3</td>\n",
       "      <td>5</td>\n",
       "      <td>47.577311</td>\n",
       "    </tr>\n",
       "    <tr>\n",
       "      <th>3</th>\n",
       "      <td>id043</td>\n",
       "      <td>id017</td>\n",
       "      <td>id0000344864</td>\n",
       "      <td>87</td>\n",
       "      <td>76</td>\n",
       "      <td>256509</td>\n",
       "      <td>2</td>\n",
       "      <td>5</td>\n",
       "      <td>80.462924</td>\n",
       "    </tr>\n",
       "    <tr>\n",
       "      <th>4</th>\n",
       "      <td>id054</td>\n",
       "      <td>id027</td>\n",
       "      <td>id0000433679</td>\n",
       "      <td>99</td>\n",
       "      <td>67</td>\n",
       "      <td>32736</td>\n",
       "      <td>1</td>\n",
       "      <td>7</td>\n",
       "      <td>15.796662</td>\n",
       "    </tr>\n",
       "    <tr>\n",
       "      <th>...</th>\n",
       "      <td>...</td>\n",
       "      <td>...</td>\n",
       "      <td>...</td>\n",
       "      <td>...</td>\n",
       "      <td>...</td>\n",
       "      <td>...</td>\n",
       "      <td>...</td>\n",
       "      <td>...</td>\n",
       "      <td>...</td>\n",
       "    </tr>\n",
       "    <tr>\n",
       "      <th>99999995</th>\n",
       "      <td>id080</td>\n",
       "      <td>id025</td>\n",
       "      <td>id0000598386</td>\n",
       "      <td>43</td>\n",
       "      <td>72</td>\n",
       "      <td>56728</td>\n",
       "      <td>3</td>\n",
       "      <td>9</td>\n",
       "      <td>27.479070</td>\n",
       "    </tr>\n",
       "    <tr>\n",
       "      <th>99999996</th>\n",
       "      <td>id064</td>\n",
       "      <td>id012</td>\n",
       "      <td>id0000844471</td>\n",
       "      <td>19</td>\n",
       "      <td>33</td>\n",
       "      <td>203895</td>\n",
       "      <td>4</td>\n",
       "      <td>5</td>\n",
       "      <td>5.323666</td>\n",
       "    </tr>\n",
       "    <tr>\n",
       "      <th>99999997</th>\n",
       "      <td>id046</td>\n",
       "      <td>id053</td>\n",
       "      <td>id0000544024</td>\n",
       "      <td>31</td>\n",
       "      <td>71</td>\n",
       "      <td>711000</td>\n",
       "      <td>5</td>\n",
       "      <td>3</td>\n",
       "      <td>27.827385</td>\n",
       "    </tr>\n",
       "    <tr>\n",
       "      <th>99999998</th>\n",
       "      <td>id081</td>\n",
       "      <td>id090</td>\n",
       "      <td>id0000802094</td>\n",
       "      <td>53</td>\n",
       "      <td>60</td>\n",
       "      <td>57466</td>\n",
       "      <td>1</td>\n",
       "      <td>15</td>\n",
       "      <td>23.319917</td>\n",
       "    </tr>\n",
       "    <tr>\n",
       "      <th>99999999</th>\n",
       "      <td>id001</td>\n",
       "      <td>id057</td>\n",
       "      <td>id0000141978</td>\n",
       "      <td>93</td>\n",
       "      <td>48</td>\n",
       "      <td>224681</td>\n",
       "      <td>4</td>\n",
       "      <td>10</td>\n",
       "      <td>91.788497</td>\n",
       "    </tr>\n",
       "  </tbody>\n",
       "</table>\n",
       "<p>100000000 rows × 9 columns</p>\n",
       "</div>"
      ],
      "text/plain": [
       "            id1    id2           id3  id4  id5     id6  v1  v2         v3\n",
       "0         id016  id046  id0000109363   88   13  146094   4   6  18.837686\n",
       "1         id039  id087  id0000466766   14   30  111330   4  14  46.797328\n",
       "2         id047  id098  id0000307804   85   23  187639   3   5  47.577311\n",
       "3         id043  id017  id0000344864   87   76  256509   2   5  80.462924\n",
       "4         id054  id027  id0000433679   99   67   32736   1   7  15.796662\n",
       "...         ...    ...           ...  ...  ...     ...  ..  ..        ...\n",
       "99999995  id080  id025  id0000598386   43   72   56728   3   9  27.479070\n",
       "99999996  id064  id012  id0000844471   19   33  203895   4   5   5.323666\n",
       "99999997  id046  id053  id0000544024   31   71  711000   5   3  27.827385\n",
       "99999998  id081  id090  id0000802094   53   60   57466   1  15  23.319917\n",
       "99999999  id001  id057  id0000141978   93   48  224681   4  10  91.788497\n",
       "\n",
       "[100000000 rows x 9 columns]"
      ]
     },
     "execution_count": 9,
     "metadata": {},
     "output_type": "execute_result"
    }
   ],
   "source": [
    "pd.read_csv(\"~/data/G1_1e8_1e2_0_0.csv\")"
   ]
  },
  {
   "cell_type": "code",
   "execution_count": 10,
   "id": "d2010f08-a494-428d-9e5c-e5851232868c",
   "metadata": {},
   "outputs": [
    {
     "name": "stdout",
     "output_type": "stream",
     "text": [
      "CPU times: user 18.6 s, sys: 2.01 s, total: 20.6 s\n",
      "Wall time: 20.6 s\n"
     ]
    },
    {
     "data": {
      "text/html": [
       "<div>\n",
       "<style scoped>\n",
       "    .dataframe tbody tr th:only-of-type {\n",
       "        vertical-align: middle;\n",
       "    }\n",
       "\n",
       "    .dataframe tbody tr th {\n",
       "        vertical-align: top;\n",
       "    }\n",
       "\n",
       "    .dataframe thead th {\n",
       "        text-align: right;\n",
       "    }\n",
       "</style>\n",
       "<table border=\"1\" class=\"dataframe\">\n",
       "  <thead>\n",
       "    <tr style=\"text-align: right;\">\n",
       "      <th></th>\n",
       "      <th>v1</th>\n",
       "    </tr>\n",
       "    <tr>\n",
       "      <th>id2</th>\n",
       "      <th></th>\n",
       "    </tr>\n",
       "  </thead>\n",
       "  <tbody>\n",
       "    <tr>\n",
       "      <th>id001</th>\n",
       "      <td>29918</td>\n",
       "    </tr>\n",
       "    <tr>\n",
       "      <th>id002</th>\n",
       "      <td>30343</td>\n",
       "    </tr>\n",
       "    <tr>\n",
       "      <th>id003</th>\n",
       "      <td>30180</td>\n",
       "    </tr>\n",
       "    <tr>\n",
       "      <th>id004</th>\n",
       "      <td>30581</td>\n",
       "    </tr>\n",
       "    <tr>\n",
       "      <th>id005</th>\n",
       "      <td>30769</td>\n",
       "    </tr>\n",
       "    <tr>\n",
       "      <th>...</th>\n",
       "      <td>...</td>\n",
       "    </tr>\n",
       "    <tr>\n",
       "      <th>id096</th>\n",
       "      <td>30011</td>\n",
       "    </tr>\n",
       "    <tr>\n",
       "      <th>id097</th>\n",
       "      <td>29728</td>\n",
       "    </tr>\n",
       "    <tr>\n",
       "      <th>id098</th>\n",
       "      <td>30131</td>\n",
       "    </tr>\n",
       "    <tr>\n",
       "      <th>id099</th>\n",
       "      <td>30141</td>\n",
       "    </tr>\n",
       "    <tr>\n",
       "      <th>id100</th>\n",
       "      <td>29743</td>\n",
       "    </tr>\n",
       "  </tbody>\n",
       "</table>\n",
       "<p>100 rows × 1 columns</p>\n",
       "</div>"
      ],
      "text/plain": [
       "          v1\n",
       "id2         \n",
       "id001  29918\n",
       "id002  30343\n",
       "id003  30180\n",
       "id004  30581\n",
       "id005  30769\n",
       "...      ...\n",
       "id096  30011\n",
       "id097  29728\n",
       "id098  30131\n",
       "id099  30141\n",
       "id100  29743\n",
       "\n",
       "[100 rows x 1 columns]"
      ]
     },
     "execution_count": 10,
     "metadata": {},
     "output_type": "execute_result"
    }
   ],
   "source": [
    "%%time\n",
    "\n",
    "(\n",
    "    pd.read_csv(\"~/data/G1_1e8_1e2_0_0.csv\", usecols=[\"id1\", \"id2\", \"v1\"])\n",
    "    .query(\"id1 == 'id016'\")\n",
    "    .groupby(\"id2\")\n",
    "    .agg({\"v1\": \"sum\"})\n",
    ")"
   ]
  },
  {
   "cell_type": "code",
   "execution_count": 11,
   "id": "c197bc4a-6c2a-4344-8c2e-8de9418e1739",
   "metadata": {},
   "outputs": [
    {
     "name": "stdout",
     "output_type": "stream",
     "text": [
      "CPU times: user 2.12 s, sys: 241 ms, total: 2.36 s\n",
      "Wall time: 1.02 s\n"
     ]
    },
    {
     "data": {
      "text/html": [
       "<div>\n",
       "<style scoped>\n",
       "    .dataframe tbody tr th:only-of-type {\n",
       "        vertical-align: middle;\n",
       "    }\n",
       "\n",
       "    .dataframe tbody tr th {\n",
       "        vertical-align: top;\n",
       "    }\n",
       "\n",
       "    .dataframe thead th {\n",
       "        text-align: right;\n",
       "    }\n",
       "</style>\n",
       "<table border=\"1\" class=\"dataframe\">\n",
       "  <thead>\n",
       "    <tr style=\"text-align: right;\">\n",
       "      <th></th>\n",
       "      <th>v1</th>\n",
       "    </tr>\n",
       "    <tr>\n",
       "      <th>id2</th>\n",
       "      <th></th>\n",
       "    </tr>\n",
       "  </thead>\n",
       "  <tbody>\n",
       "    <tr>\n",
       "      <th>id001</th>\n",
       "      <td>29918</td>\n",
       "    </tr>\n",
       "    <tr>\n",
       "      <th>id002</th>\n",
       "      <td>30343</td>\n",
       "    </tr>\n",
       "    <tr>\n",
       "      <th>id003</th>\n",
       "      <td>30180</td>\n",
       "    </tr>\n",
       "    <tr>\n",
       "      <th>id004</th>\n",
       "      <td>30581</td>\n",
       "    </tr>\n",
       "    <tr>\n",
       "      <th>id005</th>\n",
       "      <td>30769</td>\n",
       "    </tr>\n",
       "    <tr>\n",
       "      <th>...</th>\n",
       "      <td>...</td>\n",
       "    </tr>\n",
       "    <tr>\n",
       "      <th>id096</th>\n",
       "      <td>30011</td>\n",
       "    </tr>\n",
       "    <tr>\n",
       "      <th>id097</th>\n",
       "      <td>29728</td>\n",
       "    </tr>\n",
       "    <tr>\n",
       "      <th>id098</th>\n",
       "      <td>30131</td>\n",
       "    </tr>\n",
       "    <tr>\n",
       "      <th>id099</th>\n",
       "      <td>30141</td>\n",
       "    </tr>\n",
       "    <tr>\n",
       "      <th>id100</th>\n",
       "      <td>29743</td>\n",
       "    </tr>\n",
       "  </tbody>\n",
       "</table>\n",
       "<p>100 rows × 1 columns</p>\n",
       "</div>"
      ],
      "text/plain": [
       "          v1\n",
       "id2         \n",
       "id001  29918\n",
       "id002  30343\n",
       "id003  30180\n",
       "id004  30581\n",
       "id005  30769\n",
       "...      ...\n",
       "id096  30011\n",
       "id097  29728\n",
       "id098  30131\n",
       "id099  30141\n",
       "id100  29743\n",
       "\n",
       "[100 rows x 1 columns]"
      ]
     },
     "execution_count": 11,
     "metadata": {},
     "output_type": "execute_result"
    }
   ],
   "source": [
    "%%time\n",
    "\n",
    "dt = DeltaTable(f\"{pathlib.Path.home()}/data/delta/G1_1e8_1e2_0_0\")\n",
    "dataset = dt.to_pyarrow_dataset()\n",
    "condition = ds.field(\"id1\") == \"id016\"\n",
    "(\n",
    "    dataset.to_table(filter=condition, columns=[\"id1\", \"id2\", \"v1\"])\n",
    "    .to_pandas()\n",
    "    .query(\"id1 == 'id016'\")\n",
    "    .groupby(\"id2\")\n",
    "    .agg({\"v1\": \"sum\"})\n",
    ")"
   ]
  },
  {
   "cell_type": "code",
   "execution_count": 12,
   "id": "d1737850-c743-47da-9b65-6cb9cf616ce0",
   "metadata": {
    "tags": []
   },
   "outputs": [
    {
     "name": "stdout",
     "output_type": "stream",
     "text": [
      "\u001b[01;34m/Users/matthew.powers/data/delta/G1_1e8_1e2_0_0\u001b[0m\n",
      "├── \u001b[01;34m_delta_log\u001b[0m\n",
      "│   ├── \u001b[00m00000000000000000000.json\u001b[0m\n",
      "│   └── \u001b[00m00000000000000000001.json\u001b[0m\n",
      "├── \u001b[00mpart-00000-963f5914-a816-443c-bc30-cfc59c545830-c000.snappy.parquet\u001b[0m\n",
      "├── \u001b[00mpart-00000-ec2ee652-7ad5-4ee2-a991-86c7e166dbc7-c000.snappy.parquet\u001b[0m\n",
      "├── \u001b[00mpart-00001-12860cab-145a-4e74-8a0c-b5ad846b4f7b-c000.snappy.parquet\u001b[0m\n",
      "├── \u001b[00mpart-00001-bb6e847f-2f99-4594-8282-383a944de4e0-c000.snappy.parquet\u001b[0m\n",
      "├── \u001b[00mpart-00002-02303d25-73ae-412c-b7c1-963f5ab2cf56-c000.snappy.parquet\u001b[0m\n",
      "├── \u001b[00mpart-00003-2fe74bfc-6422-4911-8858-00ea4318f7af-c000.snappy.parquet\u001b[0m\n",
      "├── \u001b[00mpart-00004-a9a3a44e-751e-444a-ba34-528fd07ce880-c000.snappy.parquet\u001b[0m\n",
      "├── \u001b[00mpart-00005-426c8fae-4d6c-4101-bff8-d5594fdccbfe-c000.snappy.parquet\u001b[0m\n",
      "├── \u001b[00mpart-00006-4f506872-d826-447a-9b09-532927108965-c000.snappy.parquet\u001b[0m\n",
      "├── \u001b[00mpart-00007-8afb5a64-9633-4374-a47a-1866d5c136ae-c000.snappy.parquet\u001b[0m\n",
      "├── \u001b[00mpart-00008-cbd73cff-9d40-4cca-b298-9f85687f4ff2-c000.snappy.parquet\u001b[0m\n",
      "├── \u001b[00mpart-00009-0155204a-c22d-4601-a888-ad92c8f79744-c000.snappy.parquet\u001b[0m\n",
      "├── \u001b[00mpart-00010-314c1261-4172-41fd-b6fb-6f9c54cfb37b-c000.snappy.parquet\u001b[0m\n",
      "├── \u001b[00mpart-00011-0c98256b-aa21-400e-98ce-a073a78692e7-c000.snappy.parquet\u001b[0m\n",
      "├── \u001b[00mpart-00012-3940601d-0269-49dc-86df-fe52f77242c8-c000.snappy.parquet\u001b[0m\n",
      "├── \u001b[00mpart-00013-30db7853-d14f-4ea0-9065-54f0b7d0ca91-c000.snappy.parquet\u001b[0m\n",
      "├── \u001b[00mpart-00014-055cfe48-2571-432f-b871-616e22a49859-c000.snappy.parquet\u001b[0m\n",
      "├── \u001b[00mpart-00015-63b4e9ae-53ad-4bbd-bf5e-2dc0d46c8eff-c000.snappy.parquet\u001b[0m\n",
      "├── \u001b[00mpart-00016-8ebcab50-5fc6-4f46-9f99-6dc1e0ac629f-c000.snappy.parquet\u001b[0m\n",
      "├── \u001b[00mpart-00017-2e8f179f-dff4-4e55-851a-84081c330ba4-c000.snappy.parquet\u001b[0m\n",
      "├── \u001b[00mpart-00018-27b7a198-51f7-43e3-bea6-cd2a1de27a50-c000.snappy.parquet\u001b[0m\n",
      "├── \u001b[00mpart-00019-d3c9c45a-0157-4cbb-bb14-b4d9d734a16c-c000.snappy.parquet\u001b[0m\n",
      "├── \u001b[00mpart-00020-8c0fee2c-414e-42dc-8b06-24df04fb4ffd-c000.snappy.parquet\u001b[0m\n",
      "├── \u001b[00mpart-00021-e1bbf8b9-00b9-4a24-a989-8f7d682315d4-c000.snappy.parquet\u001b[0m\n",
      "├── \u001b[00mpart-00022-38d1ad39-d2a6-49cf-86ca-1aaf6d515cad-c000.snappy.parquet\u001b[0m\n",
      "├── \u001b[00mpart-00023-e3d2c497-e6f5-4c69-b4ae-f8272b4c92e0-c000.snappy.parquet\u001b[0m\n",
      "├── \u001b[00mpart-00024-464fc071-5ccf-40e3-b878-db63ce79d96f-c000.snappy.parquet\u001b[0m\n",
      "├── \u001b[00mpart-00025-03545423-7302-4038-a160-aa1b36f85379-c000.snappy.parquet\u001b[0m\n",
      "├── \u001b[00mpart-00026-ecfafb24-1edb-4816-9c41-2f81a41c1598-c000.snappy.parquet\u001b[0m\n",
      "├── \u001b[00mpart-00027-4e4068e5-9b73-44a6-9776-95495d6952b6-c000.snappy.parquet\u001b[0m\n",
      "├── \u001b[00mpart-00028-51ef34ec-466c-4a91-9ab7-500a0d0eca74-c000.snappy.parquet\u001b[0m\n",
      "├── \u001b[00mpart-00029-a72241b7-ccdd-42af-8639-1202e398246d-c000.snappy.parquet\u001b[0m\n",
      "├── \u001b[00mpart-00030-6a0091e2-6078-488d-a9e9-d0fb34d12b6c-c000.snappy.parquet\u001b[0m\n",
      "├── \u001b[00mpart-00031-9578e34b-1e77-4795-a2ff-14cb8760a252-c000.snappy.parquet\u001b[0m\n",
      "├── \u001b[00mpart-00032-36493535-808b-4054-979f-26cd2b6a14b6-c000.snappy.parquet\u001b[0m\n",
      "├── \u001b[00mpart-00033-4ce84e16-6297-403e-be50-ac286318d354-c000.snappy.parquet\u001b[0m\n",
      "├── \u001b[00mpart-00034-02f1da52-5f9f-49fb-a70f-f5d34810ce04-c000.snappy.parquet\u001b[0m\n",
      "├── \u001b[00mpart-00035-d8d18d1e-32dc-4aa2-800c-9206d33f6925-c000.snappy.parquet\u001b[0m\n",
      "├── \u001b[00mpart-00036-b21034f0-c2ad-4ba9-b970-e760fb39895c-c000.snappy.parquet\u001b[0m\n",
      "├── \u001b[00mpart-00037-8be772e9-b649-400c-97f6-41b563017aaf-c000.snappy.parquet\u001b[0m\n",
      "└── \u001b[00mpart-00038-f6b9fa96-1b48-4497-8b1d-c1f6868dd3f1-c000.snappy.parquet\u001b[0m\n",
      "\n",
      "1 directory, 43 files\n"
     ]
    }
   ],
   "source": [
    "!tree ~/data/delta/G1_1e8_1e2_0_0"
   ]
  },
  {
   "cell_type": "markdown",
   "id": "635a6b2a-aecb-43b2-a4bc-6c1edebbc9cf",
   "metadata": {},
   "source": [
    "## Reason 2: Time travel / versioned data\n",
    "\n",
    "Delta Lake versions your data table, so you can time travel between different versions.  This is great for advanced analytics, to maintain data quality, and for undoing mistakes.\n",
    "\n",
    "Let's create a Delta table with three different versions to illustrate."
   ]
  },
  {
   "cell_type": "markdown",
   "id": "7ee7bfbe-751d-4f30-88ad-2489e0ad4413",
   "metadata": {},
   "source": [
    "### Create Delta Lake"
   ]
  },
  {
   "cell_type": "code",
   "execution_count": 13,
   "id": "cfeab79a-d00b-4bd7-aa9b-a95c0781d0e6",
   "metadata": {},
   "outputs": [],
   "source": [
    "df = pd.DataFrame({\"x\": [1, 2, 3]})"
   ]
  },
  {
   "cell_type": "code",
   "execution_count": 14,
   "id": "e781f5b8-8506-42ad-a564-7d6e16baa8d6",
   "metadata": {
    "tags": []
   },
   "outputs": [
    {
     "data": {
      "text/html": [
       "<div>\n",
       "<style scoped>\n",
       "    .dataframe tbody tr th:only-of-type {\n",
       "        vertical-align: middle;\n",
       "    }\n",
       "\n",
       "    .dataframe tbody tr th {\n",
       "        vertical-align: top;\n",
       "    }\n",
       "\n",
       "    .dataframe thead th {\n",
       "        text-align: right;\n",
       "    }\n",
       "</style>\n",
       "<table border=\"1\" class=\"dataframe\">\n",
       "  <thead>\n",
       "    <tr style=\"text-align: right;\">\n",
       "      <th></th>\n",
       "      <th>x</th>\n",
       "    </tr>\n",
       "  </thead>\n",
       "  <tbody>\n",
       "    <tr>\n",
       "      <th>0</th>\n",
       "      <td>1</td>\n",
       "    </tr>\n",
       "    <tr>\n",
       "      <th>1</th>\n",
       "      <td>2</td>\n",
       "    </tr>\n",
       "    <tr>\n",
       "      <th>2</th>\n",
       "      <td>3</td>\n",
       "    </tr>\n",
       "  </tbody>\n",
       "</table>\n",
       "</div>"
      ],
      "text/plain": [
       "   x\n",
       "0  1\n",
       "1  2\n",
       "2  3"
      ]
     },
     "execution_count": 14,
     "metadata": {},
     "output_type": "execute_result"
    }
   ],
   "source": [
    "df"
   ]
  },
  {
   "cell_type": "code",
   "execution_count": 17,
   "id": "d238a449-7a6b-4413-9f09-5d764fc94830",
   "metadata": {
    "tags": []
   },
   "outputs": [],
   "source": [
    "os.makedirs(\"tmp/some_delta_lake\", exist_ok=True)"
   ]
  },
  {
   "cell_type": "code",
   "execution_count": 18,
   "id": "8c5297a5-bab2-458b-af67-d599bfe26458",
   "metadata": {},
   "outputs": [],
   "source": [
    "write_deltalake(\"tmp/some_delta_lake\", df)"
   ]
  },
  {
   "cell_type": "code",
   "execution_count": 19,
   "id": "6bdb63f2-b214-46e2-b40c-e127c60dbfb0",
   "metadata": {},
   "outputs": [],
   "source": [
    "dt = DeltaTable(\"tmp/some_delta_lake\")"
   ]
  },
  {
   "cell_type": "code",
   "execution_count": 20,
   "id": "1a9007a8-1d7c-495e-a72e-2eaeacb36f67",
   "metadata": {},
   "outputs": [
    {
     "data": {
      "text/html": [
       "<div>\n",
       "<style scoped>\n",
       "    .dataframe tbody tr th:only-of-type {\n",
       "        vertical-align: middle;\n",
       "    }\n",
       "\n",
       "    .dataframe tbody tr th {\n",
       "        vertical-align: top;\n",
       "    }\n",
       "\n",
       "    .dataframe thead th {\n",
       "        text-align: right;\n",
       "    }\n",
       "</style>\n",
       "<table border=\"1\" class=\"dataframe\">\n",
       "  <thead>\n",
       "    <tr style=\"text-align: right;\">\n",
       "      <th></th>\n",
       "      <th>x</th>\n",
       "    </tr>\n",
       "  </thead>\n",
       "  <tbody>\n",
       "    <tr>\n",
       "      <th>0</th>\n",
       "      <td>1</td>\n",
       "    </tr>\n",
       "    <tr>\n",
       "      <th>1</th>\n",
       "      <td>2</td>\n",
       "    </tr>\n",
       "    <tr>\n",
       "      <th>2</th>\n",
       "      <td>3</td>\n",
       "    </tr>\n",
       "  </tbody>\n",
       "</table>\n",
       "</div>"
      ],
      "text/plain": [
       "   x\n",
       "0  1\n",
       "1  2\n",
       "2  3"
      ]
     },
     "execution_count": 20,
     "metadata": {},
     "output_type": "execute_result"
    }
   ],
   "source": [
    "dt.to_pandas()"
   ]
  },
  {
   "cell_type": "code",
   "execution_count": 21,
   "id": "3c4fd317-7e85-48cc-b020-813420a7911a",
   "metadata": {
    "tags": []
   },
   "outputs": [
    {
     "name": "stdout",
     "output_type": "stream",
     "text": [
      "\u001b[01;34mtmp/some_delta_lake\u001b[0m\n",
      "├── \u001b[00m0-19bd224f-e590-4917-a5b6-ac7110a4aabf-0.parquet\u001b[0m\n",
      "└── \u001b[01;34m_delta_log\u001b[0m\n",
      "    └── \u001b[00m00000000000000000000.json\u001b[0m\n",
      "\n",
      "1 directory, 2 files\n"
     ]
    }
   ],
   "source": [
    "!tree tmp/some_delta_lake"
   ]
  },
  {
   "cell_type": "code",
   "execution_count": 22,
   "id": "8412ebad-1275-46de-ae83-85b2607e3112",
   "metadata": {
    "tags": []
   },
   "outputs": [
    {
     "name": "stdout",
     "output_type": "stream",
     "text": [
      "\u001b[1;39m{\n",
      "  \u001b[0m\u001b[34;1m\"commitInfo\"\u001b[0m\u001b[1;39m: \u001b[0m\u001b[1;39m{\n",
      "    \u001b[0m\u001b[34;1m\"delta-rs\"\u001b[0m\u001b[1;39m: \u001b[0m\u001b[0;32m\"0.8.0\"\u001b[0m\u001b[1;39m,\n",
      "    \u001b[0m\u001b[34;1m\"timestamp\"\u001b[0m\u001b[1;39m: \u001b[0m\u001b[0;39m1684252189986\u001b[0m\u001b[1;39m\n",
      "  \u001b[1;39m}\u001b[0m\u001b[1;39m\n",
      "\u001b[1;39m}\u001b[0m\n",
      "\u001b[1;39m{\n",
      "  \u001b[0m\u001b[34;1m\"protocol\"\u001b[0m\u001b[1;39m: \u001b[0m\u001b[1;39m{\n",
      "    \u001b[0m\u001b[34;1m\"minReaderVersion\"\u001b[0m\u001b[1;39m: \u001b[0m\u001b[0;39m1\u001b[0m\u001b[1;39m,\n",
      "    \u001b[0m\u001b[34;1m\"minWriterVersion\"\u001b[0m\u001b[1;39m: \u001b[0m\u001b[0;39m1\u001b[0m\u001b[1;39m\n",
      "  \u001b[1;39m}\u001b[0m\u001b[1;39m\n",
      "\u001b[1;39m}\u001b[0m\n",
      "\u001b[1;39m{\n",
      "  \u001b[0m\u001b[34;1m\"metaData\"\u001b[0m\u001b[1;39m: \u001b[0m\u001b[1;39m{\n",
      "    \u001b[0m\u001b[34;1m\"id\"\u001b[0m\u001b[1;39m: \u001b[0m\u001b[0;32m\"8e24978e-9957-4c6b-806c-1d2bf90a1e5b\"\u001b[0m\u001b[1;39m,\n",
      "    \u001b[0m\u001b[34;1m\"name\"\u001b[0m\u001b[1;39m: \u001b[0m\u001b[1;30mnull\u001b[0m\u001b[1;39m,\n",
      "    \u001b[0m\u001b[34;1m\"description\"\u001b[0m\u001b[1;39m: \u001b[0m\u001b[1;30mnull\u001b[0m\u001b[1;39m,\n",
      "    \u001b[0m\u001b[34;1m\"format\"\u001b[0m\u001b[1;39m: \u001b[0m\u001b[1;39m{\n",
      "      \u001b[0m\u001b[34;1m\"provider\"\u001b[0m\u001b[1;39m: \u001b[0m\u001b[0;32m\"parquet\"\u001b[0m\u001b[1;39m,\n",
      "      \u001b[0m\u001b[34;1m\"options\"\u001b[0m\u001b[1;39m: \u001b[0m\u001b[1;39m{}\u001b[0m\u001b[1;39m\n",
      "    \u001b[1;39m}\u001b[0m\u001b[1;39m,\n",
      "    \u001b[0m\u001b[34;1m\"schemaString\"\u001b[0m\u001b[1;39m: \u001b[0m\u001b[0;32m\"{\\\"type\\\":\\\"struct\\\",\\\"fields\\\":[{\\\"name\\\":\\\"x\\\",\\\"type\\\":\\\"long\\\",\\\"nullable\\\":true,\\\"metadata\\\":{}}]}\"\u001b[0m\u001b[1;39m,\n",
      "    \u001b[0m\u001b[34;1m\"partitionColumns\"\u001b[0m\u001b[1;39m: \u001b[0m\u001b[1;39m[]\u001b[0m\u001b[1;39m,\n",
      "    \u001b[0m\u001b[34;1m\"createdTime\"\u001b[0m\u001b[1;39m: \u001b[0m\u001b[0;39m1684252189986\u001b[0m\u001b[1;39m,\n",
      "    \u001b[0m\u001b[34;1m\"configuration\"\u001b[0m\u001b[1;39m: \u001b[0m\u001b[1;39m{}\u001b[0m\u001b[1;39m\n",
      "  \u001b[1;39m}\u001b[0m\u001b[1;39m\n",
      "\u001b[1;39m}\u001b[0m\n",
      "\u001b[1;39m{\n",
      "  \u001b[0m\u001b[34;1m\"add\"\u001b[0m\u001b[1;39m: \u001b[0m\u001b[1;39m{\n",
      "    \u001b[0m\u001b[34;1m\"path\"\u001b[0m\u001b[1;39m: \u001b[0m\u001b[0;32m\"0-19bd224f-e590-4917-a5b6-ac7110a4aabf-0.parquet\"\u001b[0m\u001b[1;39m,\n",
      "    \u001b[0m\u001b[34;1m\"size\"\u001b[0m\u001b[1;39m: \u001b[0m\u001b[0;39m1654\u001b[0m\u001b[1;39m,\n",
      "    \u001b[0m\u001b[34;1m\"partitionValues\"\u001b[0m\u001b[1;39m: \u001b[0m\u001b[1;39m{}\u001b[0m\u001b[1;39m,\n",
      "    \u001b[0m\u001b[34;1m\"modificationTime\"\u001b[0m\u001b[1;39m: \u001b[0m\u001b[0;39m1684252189985\u001b[0m\u001b[1;39m,\n",
      "    \u001b[0m\u001b[34;1m\"dataChange\"\u001b[0m\u001b[1;39m: \u001b[0m\u001b[0;39mtrue\u001b[0m\u001b[1;39m,\n",
      "    \u001b[0m\u001b[34;1m\"stats\"\u001b[0m\u001b[1;39m: \u001b[0m\u001b[0;32m\"{\\\"numRecords\\\": 3, \\\"minValues\\\": {\\\"x\\\": 1}, \\\"maxValues\\\": {\\\"x\\\": 3}, \\\"nullCount\\\": {\\\"x\\\": 0}}\"\u001b[0m\u001b[1;39m,\n",
      "    \u001b[0m\u001b[34;1m\"tags\"\u001b[0m\u001b[1;39m: \u001b[0m\u001b[1;30mnull\u001b[0m\u001b[1;39m\n",
      "  \u001b[1;39m}\u001b[0m\u001b[1;39m\n",
      "\u001b[1;39m}\u001b[0m\n"
     ]
    }
   ],
   "source": [
    "!jq . tmp/some_delta_lake/_delta_log/00000000000000000000.json"
   ]
  },
  {
   "cell_type": "markdown",
   "id": "4d66bce5-d78d-49c6-b1b0-77d342abdc1b",
   "metadata": {},
   "source": [
    "### Append to Delta Lake"
   ]
  },
  {
   "cell_type": "code",
   "execution_count": 23,
   "id": "2b3bd1d6-cd48-44b2-a17b-a9660d476728",
   "metadata": {},
   "outputs": [],
   "source": [
    "df2 = pd.DataFrame({\"x\": [8, 9, 10]})"
   ]
  },
  {
   "cell_type": "code",
   "execution_count": 24,
   "id": "875fc034-24dd-49e7-bc97-02df24d4e074",
   "metadata": {},
   "outputs": [],
   "source": [
    "write_deltalake(\"tmp/some_delta_lake\", df2, mode=\"append\")"
   ]
  },
  {
   "cell_type": "code",
   "execution_count": 25,
   "id": "538b824c-15f9-4d6d-b434-056ac8479921",
   "metadata": {
    "tags": []
   },
   "outputs": [
    {
     "name": "stdout",
     "output_type": "stream",
     "text": [
      "\u001b[01;34mtmp/some_delta_lake\u001b[0m\n",
      "├── \u001b[00m0-19bd224f-e590-4917-a5b6-ac7110a4aabf-0.parquet\u001b[0m\n",
      "├── \u001b[00m1-b94f89f4-3ca1-47d7-86a6-4d73f56c1d61-0.parquet\u001b[0m\n",
      "└── \u001b[01;34m_delta_log\u001b[0m\n",
      "    ├── \u001b[00m00000000000000000000.json\u001b[0m\n",
      "    └── \u001b[00m00000000000000000001.json\u001b[0m\n",
      "\n",
      "1 directory, 4 files\n"
     ]
    }
   ],
   "source": [
    "!tree tmp/some_delta_lake"
   ]
  },
  {
   "cell_type": "code",
   "execution_count": 26,
   "id": "c0501976-bd6b-478d-8718-b792c68a0439",
   "metadata": {},
   "outputs": [
    {
     "data": {
      "text/html": [
       "<div>\n",
       "<style scoped>\n",
       "    .dataframe tbody tr th:only-of-type {\n",
       "        vertical-align: middle;\n",
       "    }\n",
       "\n",
       "    .dataframe tbody tr th {\n",
       "        vertical-align: top;\n",
       "    }\n",
       "\n",
       "    .dataframe thead th {\n",
       "        text-align: right;\n",
       "    }\n",
       "</style>\n",
       "<table border=\"1\" class=\"dataframe\">\n",
       "  <thead>\n",
       "    <tr style=\"text-align: right;\">\n",
       "      <th></th>\n",
       "      <th>x</th>\n",
       "    </tr>\n",
       "  </thead>\n",
       "  <tbody>\n",
       "    <tr>\n",
       "      <th>0</th>\n",
       "      <td>1</td>\n",
       "    </tr>\n",
       "    <tr>\n",
       "      <th>1</th>\n",
       "      <td>2</td>\n",
       "    </tr>\n",
       "    <tr>\n",
       "      <th>2</th>\n",
       "      <td>3</td>\n",
       "    </tr>\n",
       "    <tr>\n",
       "      <th>3</th>\n",
       "      <td>8</td>\n",
       "    </tr>\n",
       "    <tr>\n",
       "      <th>4</th>\n",
       "      <td>9</td>\n",
       "    </tr>\n",
       "    <tr>\n",
       "      <th>5</th>\n",
       "      <td>10</td>\n",
       "    </tr>\n",
       "  </tbody>\n",
       "</table>\n",
       "</div>"
      ],
      "text/plain": [
       "    x\n",
       "0   1\n",
       "1   2\n",
       "2   3\n",
       "3   8\n",
       "4   9\n",
       "5  10"
      ]
     },
     "execution_count": 26,
     "metadata": {},
     "output_type": "execute_result"
    }
   ],
   "source": [
    "DeltaTable(\"tmp/some_delta_lake\").to_pandas()"
   ]
  },
  {
   "cell_type": "markdown",
   "id": "a7346702-7a35-45e4-b58c-8ca86d70257d",
   "metadata": {},
   "source": [
    "### Overwrite Delta Lake"
   ]
  },
  {
   "cell_type": "code",
   "execution_count": 27,
   "id": "9a637b0c-3f45-41db-b490-3a50498e93e3",
   "metadata": {},
   "outputs": [],
   "source": [
    "df3 = pd.DataFrame({\"x\": [55, 66, 77]})"
   ]
  },
  {
   "cell_type": "code",
   "execution_count": 28,
   "id": "c37aab09-5255-4376-aafb-4abb21fc164b",
   "metadata": {
    "tags": []
   },
   "outputs": [
    {
     "data": {
      "text/html": [
       "<div>\n",
       "<style scoped>\n",
       "    .dataframe tbody tr th:only-of-type {\n",
       "        vertical-align: middle;\n",
       "    }\n",
       "\n",
       "    .dataframe tbody tr th {\n",
       "        vertical-align: top;\n",
       "    }\n",
       "\n",
       "    .dataframe thead th {\n",
       "        text-align: right;\n",
       "    }\n",
       "</style>\n",
       "<table border=\"1\" class=\"dataframe\">\n",
       "  <thead>\n",
       "    <tr style=\"text-align: right;\">\n",
       "      <th></th>\n",
       "      <th>x</th>\n",
       "    </tr>\n",
       "  </thead>\n",
       "  <tbody>\n",
       "    <tr>\n",
       "      <th>0</th>\n",
       "      <td>55</td>\n",
       "    </tr>\n",
       "    <tr>\n",
       "      <th>1</th>\n",
       "      <td>66</td>\n",
       "    </tr>\n",
       "    <tr>\n",
       "      <th>2</th>\n",
       "      <td>77</td>\n",
       "    </tr>\n",
       "  </tbody>\n",
       "</table>\n",
       "</div>"
      ],
      "text/plain": [
       "    x\n",
       "0  55\n",
       "1  66\n",
       "2  77"
      ]
     },
     "execution_count": 28,
     "metadata": {},
     "output_type": "execute_result"
    }
   ],
   "source": [
    "df3"
   ]
  },
  {
   "cell_type": "code",
   "execution_count": 29,
   "id": "c1a9d21a-5c84-4b53-a6a9-61f6d9d8f8aa",
   "metadata": {},
   "outputs": [],
   "source": [
    "write_deltalake(\"tmp/some_delta_lake\", df3, mode=\"overwrite\")"
   ]
  },
  {
   "cell_type": "code",
   "execution_count": 30,
   "id": "ac41cb18-7653-4ec8-a7d1-7d34a96775ad",
   "metadata": {
    "tags": []
   },
   "outputs": [
    {
     "name": "stdout",
     "output_type": "stream",
     "text": [
      "\u001b[01;34mtmp/some_delta_lake\u001b[0m\n",
      "├── \u001b[00m0-19bd224f-e590-4917-a5b6-ac7110a4aabf-0.parquet\u001b[0m\n",
      "├── \u001b[00m1-b94f89f4-3ca1-47d7-86a6-4d73f56c1d61-0.parquet\u001b[0m\n",
      "├── \u001b[00m2-1c22d1ec-db38-4679-b19e-1c05cd682a7b-0.parquet\u001b[0m\n",
      "└── \u001b[01;34m_delta_log\u001b[0m\n",
      "    ├── \u001b[00m00000000000000000000.json\u001b[0m\n",
      "    ├── \u001b[00m00000000000000000001.json\u001b[0m\n",
      "    └── \u001b[00m00000000000000000002.json\u001b[0m\n",
      "\n",
      "1 directory, 6 files\n"
     ]
    }
   ],
   "source": [
    "!tree tmp/some_delta_lake"
   ]
  },
  {
   "cell_type": "code",
   "execution_count": 31,
   "id": "a03db8b4-35fb-4213-b750-4ed57cff71c1",
   "metadata": {},
   "outputs": [
    {
     "data": {
      "text/html": [
       "<div>\n",
       "<style scoped>\n",
       "    .dataframe tbody tr th:only-of-type {\n",
       "        vertical-align: middle;\n",
       "    }\n",
       "\n",
       "    .dataframe tbody tr th {\n",
       "        vertical-align: top;\n",
       "    }\n",
       "\n",
       "    .dataframe thead th {\n",
       "        text-align: right;\n",
       "    }\n",
       "</style>\n",
       "<table border=\"1\" class=\"dataframe\">\n",
       "  <thead>\n",
       "    <tr style=\"text-align: right;\">\n",
       "      <th></th>\n",
       "      <th>x</th>\n",
       "    </tr>\n",
       "  </thead>\n",
       "  <tbody>\n",
       "    <tr>\n",
       "      <th>0</th>\n",
       "      <td>55</td>\n",
       "    </tr>\n",
       "    <tr>\n",
       "      <th>1</th>\n",
       "      <td>66</td>\n",
       "    </tr>\n",
       "    <tr>\n",
       "      <th>2</th>\n",
       "      <td>77</td>\n",
       "    </tr>\n",
       "  </tbody>\n",
       "</table>\n",
       "</div>"
      ],
      "text/plain": [
       "    x\n",
       "0  55\n",
       "1  66\n",
       "2  77"
      ]
     },
     "execution_count": 31,
     "metadata": {},
     "output_type": "execute_result"
    }
   ],
   "source": [
    "DeltaTable(\"tmp/some_delta_lake\").to_pandas()"
   ]
  },
  {
   "cell_type": "code",
   "execution_count": 32,
   "id": "e810f430-c700-41b8-9733-e2d6861d8287",
   "metadata": {
    "tags": []
   },
   "outputs": [
    {
     "name": "stdout",
     "output_type": "stream",
     "text": [
      "\u001b[1;39m{\n",
      "  \u001b[0m\u001b[34;1m\"add\"\u001b[0m\u001b[1;39m: \u001b[0m\u001b[1;39m{\n",
      "    \u001b[0m\u001b[34;1m\"path\"\u001b[0m\u001b[1;39m: \u001b[0m\u001b[0;32m\"2-1c22d1ec-db38-4679-b19e-1c05cd682a7b-0.parquet\"\u001b[0m\u001b[1;39m,\n",
      "    \u001b[0m\u001b[34;1m\"size\"\u001b[0m\u001b[1;39m: \u001b[0m\u001b[0;39m1654\u001b[0m\u001b[1;39m,\n",
      "    \u001b[0m\u001b[34;1m\"partitionValues\"\u001b[0m\u001b[1;39m: \u001b[0m\u001b[1;39m{}\u001b[0m\u001b[1;39m,\n",
      "    \u001b[0m\u001b[34;1m\"modificationTime\"\u001b[0m\u001b[1;39m: \u001b[0m\u001b[0;39m1684252211992\u001b[0m\u001b[1;39m,\n",
      "    \u001b[0m\u001b[34;1m\"dataChange\"\u001b[0m\u001b[1;39m: \u001b[0m\u001b[0;39mtrue\u001b[0m\u001b[1;39m,\n",
      "    \u001b[0m\u001b[34;1m\"stats\"\u001b[0m\u001b[1;39m: \u001b[0m\u001b[0;32m\"{\\\"numRecords\\\": 3, \\\"minValues\\\": {\\\"x\\\": 55}, \\\"maxValues\\\": {\\\"x\\\": 77}, \\\"nullCount\\\": {\\\"x\\\": 0}}\"\u001b[0m\u001b[1;39m,\n",
      "    \u001b[0m\u001b[34;1m\"tags\"\u001b[0m\u001b[1;39m: \u001b[0m\u001b[1;30mnull\u001b[0m\u001b[1;39m\n",
      "  \u001b[1;39m}\u001b[0m\u001b[1;39m\n",
      "\u001b[1;39m}\u001b[0m\n",
      "\u001b[1;39m{\n",
      "  \u001b[0m\u001b[34;1m\"remove\"\u001b[0m\u001b[1;39m: \u001b[0m\u001b[1;39m{\n",
      "    \u001b[0m\u001b[34;1m\"path\"\u001b[0m\u001b[1;39m: \u001b[0m\u001b[0;32m\"0-19bd224f-e590-4917-a5b6-ac7110a4aabf-0.parquet\"\u001b[0m\u001b[1;39m,\n",
      "    \u001b[0m\u001b[34;1m\"deletionTimestamp\"\u001b[0m\u001b[1;39m: \u001b[0m\u001b[0;39m1684252211992\u001b[0m\u001b[1;39m,\n",
      "    \u001b[0m\u001b[34;1m\"dataChange\"\u001b[0m\u001b[1;39m: \u001b[0m\u001b[0;39mtrue\u001b[0m\u001b[1;39m,\n",
      "    \u001b[0m\u001b[34;1m\"extendedFileMetadata\"\u001b[0m\u001b[1;39m: \u001b[0m\u001b[0;39mfalse\u001b[0m\u001b[1;39m,\n",
      "    \u001b[0m\u001b[34;1m\"partitionValues\"\u001b[0m\u001b[1;39m: \u001b[0m\u001b[1;39m{}\u001b[0m\u001b[1;39m,\n",
      "    \u001b[0m\u001b[34;1m\"size\"\u001b[0m\u001b[1;39m: \u001b[0m\u001b[0;39m1654\u001b[0m\u001b[1;39m,\n",
      "    \u001b[0m\u001b[34;1m\"tags\"\u001b[0m\u001b[1;39m: \u001b[0m\u001b[1;30mnull\u001b[0m\u001b[1;39m\n",
      "  \u001b[1;39m}\u001b[0m\u001b[1;39m\n",
      "\u001b[1;39m}\u001b[0m\n",
      "\u001b[1;39m{\n",
      "  \u001b[0m\u001b[34;1m\"remove\"\u001b[0m\u001b[1;39m: \u001b[0m\u001b[1;39m{\n",
      "    \u001b[0m\u001b[34;1m\"path\"\u001b[0m\u001b[1;39m: \u001b[0m\u001b[0;32m\"1-b94f89f4-3ca1-47d7-86a6-4d73f56c1d61-0.parquet\"\u001b[0m\u001b[1;39m,\n",
      "    \u001b[0m\u001b[34;1m\"deletionTimestamp\"\u001b[0m\u001b[1;39m: \u001b[0m\u001b[0;39m1684252211992\u001b[0m\u001b[1;39m,\n",
      "    \u001b[0m\u001b[34;1m\"dataChange\"\u001b[0m\u001b[1;39m: \u001b[0m\u001b[0;39mtrue\u001b[0m\u001b[1;39m,\n",
      "    \u001b[0m\u001b[34;1m\"extendedFileMetadata\"\u001b[0m\u001b[1;39m: \u001b[0m\u001b[0;39mfalse\u001b[0m\u001b[1;39m,\n",
      "    \u001b[0m\u001b[34;1m\"partitionValues\"\u001b[0m\u001b[1;39m: \u001b[0m\u001b[1;39m{}\u001b[0m\u001b[1;39m,\n",
      "    \u001b[0m\u001b[34;1m\"size\"\u001b[0m\u001b[1;39m: \u001b[0m\u001b[0;39m1654\u001b[0m\u001b[1;39m,\n",
      "    \u001b[0m\u001b[34;1m\"tags\"\u001b[0m\u001b[1;39m: \u001b[0m\u001b[1;30mnull\u001b[0m\u001b[1;39m\n",
      "  \u001b[1;39m}\u001b[0m\u001b[1;39m\n",
      "\u001b[1;39m}\u001b[0m\n",
      "\u001b[1;39m{\n",
      "  \u001b[0m\u001b[34;1m\"commitInfo\"\u001b[0m\u001b[1;39m: \u001b[0m\u001b[1;39m{\n",
      "    \u001b[0m\u001b[34;1m\"timestamp\"\u001b[0m\u001b[1;39m: \u001b[0m\u001b[0;39m1684252211993\u001b[0m\u001b[1;39m,\n",
      "    \u001b[0m\u001b[34;1m\"operation\"\u001b[0m\u001b[1;39m: \u001b[0m\u001b[0;32m\"WRITE\"\u001b[0m\u001b[1;39m,\n",
      "    \u001b[0m\u001b[34;1m\"operationParameters\"\u001b[0m\u001b[1;39m: \u001b[0m\u001b[1;39m{\n",
      "      \u001b[0m\u001b[34;1m\"partitionBy\"\u001b[0m\u001b[1;39m: \u001b[0m\u001b[0;32m\"[]\"\u001b[0m\u001b[1;39m,\n",
      "      \u001b[0m\u001b[34;1m\"mode\"\u001b[0m\u001b[1;39m: \u001b[0m\u001b[0;32m\"Overwrite\"\u001b[0m\u001b[1;39m\n",
      "    \u001b[1;39m}\u001b[0m\u001b[1;39m,\n",
      "    \u001b[0m\u001b[34;1m\"clientVersion\"\u001b[0m\u001b[1;39m: \u001b[0m\u001b[0;32m\"delta-rs.0.8.0\"\u001b[0m\u001b[1;39m\n",
      "  \u001b[1;39m}\u001b[0m\u001b[1;39m\n",
      "\u001b[1;39m}\u001b[0m\n"
     ]
    }
   ],
   "source": [
    "!jq . tmp/some_delta_lake/_delta_log/00000000000000000002.json"
   ]
  },
  {
   "cell_type": "markdown",
   "id": "0c0d4031-021d-4ffa-b5f2-17c56c370ba3",
   "metadata": {},
   "source": [
    "### Confirm other versions are still accessible"
   ]
  },
  {
   "cell_type": "code",
   "execution_count": 33,
   "id": "ff2001ec-7588-4bea-a80b-608a8e6d5d90",
   "metadata": {},
   "outputs": [
    {
     "data": {
      "text/html": [
       "<div>\n",
       "<style scoped>\n",
       "    .dataframe tbody tr th:only-of-type {\n",
       "        vertical-align: middle;\n",
       "    }\n",
       "\n",
       "    .dataframe tbody tr th {\n",
       "        vertical-align: top;\n",
       "    }\n",
       "\n",
       "    .dataframe thead th {\n",
       "        text-align: right;\n",
       "    }\n",
       "</style>\n",
       "<table border=\"1\" class=\"dataframe\">\n",
       "  <thead>\n",
       "    <tr style=\"text-align: right;\">\n",
       "      <th></th>\n",
       "      <th>x</th>\n",
       "    </tr>\n",
       "  </thead>\n",
       "  <tbody>\n",
       "    <tr>\n",
       "      <th>0</th>\n",
       "      <td>1</td>\n",
       "    </tr>\n",
       "    <tr>\n",
       "      <th>1</th>\n",
       "      <td>2</td>\n",
       "    </tr>\n",
       "    <tr>\n",
       "      <th>2</th>\n",
       "      <td>3</td>\n",
       "    </tr>\n",
       "  </tbody>\n",
       "</table>\n",
       "</div>"
      ],
      "text/plain": [
       "   x\n",
       "0  1\n",
       "1  2\n",
       "2  3"
      ]
     },
     "execution_count": 33,
     "metadata": {},
     "output_type": "execute_result"
    }
   ],
   "source": [
    "DeltaTable(\"tmp/some_delta_lake\", version=0).to_pandas()"
   ]
  },
  {
   "cell_type": "code",
   "execution_count": 34,
   "id": "baf40809-0d56-40b1-8749-7840c2a7d465",
   "metadata": {},
   "outputs": [
    {
     "data": {
      "text/html": [
       "<div>\n",
       "<style scoped>\n",
       "    .dataframe tbody tr th:only-of-type {\n",
       "        vertical-align: middle;\n",
       "    }\n",
       "\n",
       "    .dataframe tbody tr th {\n",
       "        vertical-align: top;\n",
       "    }\n",
       "\n",
       "    .dataframe thead th {\n",
       "        text-align: right;\n",
       "    }\n",
       "</style>\n",
       "<table border=\"1\" class=\"dataframe\">\n",
       "  <thead>\n",
       "    <tr style=\"text-align: right;\">\n",
       "      <th></th>\n",
       "      <th>x</th>\n",
       "    </tr>\n",
       "  </thead>\n",
       "  <tbody>\n",
       "    <tr>\n",
       "      <th>0</th>\n",
       "      <td>1</td>\n",
       "    </tr>\n",
       "    <tr>\n",
       "      <th>1</th>\n",
       "      <td>2</td>\n",
       "    </tr>\n",
       "    <tr>\n",
       "      <th>2</th>\n",
       "      <td>3</td>\n",
       "    </tr>\n",
       "    <tr>\n",
       "      <th>3</th>\n",
       "      <td>8</td>\n",
       "    </tr>\n",
       "    <tr>\n",
       "      <th>4</th>\n",
       "      <td>9</td>\n",
       "    </tr>\n",
       "    <tr>\n",
       "      <th>5</th>\n",
       "      <td>10</td>\n",
       "    </tr>\n",
       "  </tbody>\n",
       "</table>\n",
       "</div>"
      ],
      "text/plain": [
       "    x\n",
       "0   1\n",
       "1   2\n",
       "2   3\n",
       "3   8\n",
       "4   9\n",
       "5  10"
      ]
     },
     "execution_count": 34,
     "metadata": {},
     "output_type": "execute_result"
    }
   ],
   "source": [
    "DeltaTable(\"tmp/some_delta_lake\", version=1).to_pandas()"
   ]
  },
  {
   "cell_type": "code",
   "execution_count": 35,
   "id": "77ea8c44-dc81-49fd-87fb-7ec53bbac9ff",
   "metadata": {
    "tags": []
   },
   "outputs": [
    {
     "data": {
      "text/html": [
       "<div>\n",
       "<style scoped>\n",
       "    .dataframe tbody tr th:only-of-type {\n",
       "        vertical-align: middle;\n",
       "    }\n",
       "\n",
       "    .dataframe tbody tr th {\n",
       "        vertical-align: top;\n",
       "    }\n",
       "\n",
       "    .dataframe thead th {\n",
       "        text-align: right;\n",
       "    }\n",
       "</style>\n",
       "<table border=\"1\" class=\"dataframe\">\n",
       "  <thead>\n",
       "    <tr style=\"text-align: right;\">\n",
       "      <th></th>\n",
       "      <th>x</th>\n",
       "    </tr>\n",
       "  </thead>\n",
       "  <tbody>\n",
       "    <tr>\n",
       "      <th>0</th>\n",
       "      <td>55</td>\n",
       "    </tr>\n",
       "    <tr>\n",
       "      <th>1</th>\n",
       "      <td>66</td>\n",
       "    </tr>\n",
       "    <tr>\n",
       "      <th>2</th>\n",
       "      <td>77</td>\n",
       "    </tr>\n",
       "  </tbody>\n",
       "</table>\n",
       "</div>"
      ],
      "text/plain": [
       "    x\n",
       "0  55\n",
       "1  66\n",
       "2  77"
      ]
     },
     "execution_count": 35,
     "metadata": {},
     "output_type": "execute_result"
    }
   ],
   "source": [
    "DeltaTable(\"tmp/some_delta_lake\").to_pandas()"
   ]
  },
  {
   "cell_type": "code",
   "execution_count": 36,
   "id": "c37bb055-0019-43bd-b47b-4a05268cfd85",
   "metadata": {
    "tags": []
   },
   "outputs": [
    {
     "data": {
      "text/html": [
       "<div>\n",
       "<style scoped>\n",
       "    .dataframe tbody tr th:only-of-type {\n",
       "        vertical-align: middle;\n",
       "    }\n",
       "\n",
       "    .dataframe tbody tr th {\n",
       "        vertical-align: top;\n",
       "    }\n",
       "\n",
       "    .dataframe thead th {\n",
       "        text-align: right;\n",
       "    }\n",
       "</style>\n",
       "<table border=\"1\" class=\"dataframe\">\n",
       "  <thead>\n",
       "    <tr style=\"text-align: right;\">\n",
       "      <th></th>\n",
       "      <th>x</th>\n",
       "    </tr>\n",
       "  </thead>\n",
       "  <tbody>\n",
       "    <tr>\n",
       "      <th>0</th>\n",
       "      <td>55</td>\n",
       "    </tr>\n",
       "    <tr>\n",
       "      <th>1</th>\n",
       "      <td>66</td>\n",
       "    </tr>\n",
       "    <tr>\n",
       "      <th>2</th>\n",
       "      <td>77</td>\n",
       "    </tr>\n",
       "  </tbody>\n",
       "</table>\n",
       "</div>"
      ],
      "text/plain": [
       "    x\n",
       "0  55\n",
       "1  66\n",
       "2  77"
      ]
     },
     "execution_count": 36,
     "metadata": {},
     "output_type": "execute_result"
    }
   ],
   "source": [
    "DeltaTable(\"tmp/some_delta_lake\", version=2).to_pandas()"
   ]
  },
  {
   "cell_type": "markdown",
   "id": "3fea68cb-2c43-4c4f-9ce6-392b58d262b4",
   "metadata": {},
   "source": [
    "## Reason 3: Schema enforcement prevents bad appends"
   ]
  },
  {
   "cell_type": "code",
   "execution_count": 37,
   "id": "23ce0a0d-5a7e-4574-9fcf-145191553e91",
   "metadata": {},
   "outputs": [],
   "source": [
    "df4 = pd.DataFrame({\"y\": [111, 222]})"
   ]
  },
  {
   "cell_type": "code",
   "execution_count": 38,
   "id": "f7b376ce-d2bb-49f6-992d-db4423b52a96",
   "metadata": {},
   "outputs": [
    {
     "ename": "ValueError",
     "evalue": "Schema of data does not match table schema\nTable schema:\ny: int64\n-- schema metadata --\npandas: '{\"index_columns\": [{\"kind\": \"range\", \"name\": null, \"start\": 0, \"' + 358\nData Schema:\nx: int64",
     "output_type": "error",
     "traceback": [
      "\u001b[0;31m---------------------------------------------------------------------------\u001b[0m",
      "\u001b[0;31mValueError\u001b[0m                                Traceback (most recent call last)",
      "Cell \u001b[0;32mIn[38], line 1\u001b[0m\n\u001b[0;32m----> 1\u001b[0m \u001b[43mwrite_deltalake\u001b[49m\u001b[43m(\u001b[49m\u001b[38;5;124;43m\"\u001b[39;49m\u001b[38;5;124;43mtmp/some_delta_lake\u001b[39;49m\u001b[38;5;124;43m\"\u001b[39;49m\u001b[43m,\u001b[49m\u001b[43m \u001b[49m\u001b[43mdf4\u001b[49m\u001b[43m,\u001b[49m\u001b[43m \u001b[49m\u001b[43mmode\u001b[49m\u001b[38;5;241;43m=\u001b[39;49m\u001b[38;5;124;43m\"\u001b[39;49m\u001b[38;5;124;43mappend\u001b[39;49m\u001b[38;5;124;43m\"\u001b[39;49m\u001b[43m)\u001b[49m\n",
      "File \u001b[0;32m~/opt/miniconda3/envs/deltalake-090/lib/python3.9/site-packages/deltalake/writer.py:171\u001b[0m, in \u001b[0;36mwrite_deltalake\u001b[0;34m(table_or_uri, data, schema, partition_by, filesystem, mode, file_options, max_open_files, max_rows_per_file, min_rows_per_group, max_rows_per_group, name, description, configuration, overwrite_schema, storage_options, partition_filters)\u001b[0m\n\u001b[1;32m    167\u001b[0m \u001b[38;5;28;01mif\u001b[39;00m table:  \u001b[38;5;66;03m# already exists\u001b[39;00m\n\u001b[1;32m    168\u001b[0m     \u001b[38;5;28;01mif\u001b[39;00m schema \u001b[38;5;241m!=\u001b[39m table\u001b[38;5;241m.\u001b[39mschema()\u001b[38;5;241m.\u001b[39mto_pyarrow() \u001b[38;5;129;01mand\u001b[39;00m \u001b[38;5;129;01mnot\u001b[39;00m (\n\u001b[1;32m    169\u001b[0m         mode \u001b[38;5;241m==\u001b[39m \u001b[38;5;124m\"\u001b[39m\u001b[38;5;124moverwrite\u001b[39m\u001b[38;5;124m\"\u001b[39m \u001b[38;5;129;01mand\u001b[39;00m overwrite_schema\n\u001b[1;32m    170\u001b[0m     ):\n\u001b[0;32m--> 171\u001b[0m         \u001b[38;5;28;01mraise\u001b[39;00m \u001b[38;5;167;01mValueError\u001b[39;00m(\n\u001b[1;32m    172\u001b[0m             \u001b[38;5;124m\"\u001b[39m\u001b[38;5;124mSchema of data does not match table schema\u001b[39m\u001b[38;5;130;01m\\n\u001b[39;00m\u001b[38;5;124m\"\u001b[39m\n\u001b[1;32m    173\u001b[0m             \u001b[38;5;124mf\u001b[39m\u001b[38;5;124m\"\u001b[39m\u001b[38;5;124mTable schema:\u001b[39m\u001b[38;5;130;01m\\n\u001b[39;00m\u001b[38;5;132;01m{\u001b[39;00mschema\u001b[38;5;132;01m}\u001b[39;00m\u001b[38;5;130;01m\\n\u001b[39;00m\u001b[38;5;124mData Schema:\u001b[39m\u001b[38;5;130;01m\\n\u001b[39;00m\u001b[38;5;132;01m{\u001b[39;00mtable\u001b[38;5;241m.\u001b[39mschema()\u001b[38;5;241m.\u001b[39mto_pyarrow()\u001b[38;5;132;01m}\u001b[39;00m\u001b[38;5;124m\"\u001b[39m\n\u001b[1;32m    174\u001b[0m         )\n\u001b[1;32m    176\u001b[0m     \u001b[38;5;28;01mif\u001b[39;00m mode \u001b[38;5;241m==\u001b[39m \u001b[38;5;124m\"\u001b[39m\u001b[38;5;124merror\u001b[39m\u001b[38;5;124m\"\u001b[39m:\n\u001b[1;32m    177\u001b[0m         \u001b[38;5;28;01mraise\u001b[39;00m \u001b[38;5;167;01mAssertionError\u001b[39;00m(\u001b[38;5;124m\"\u001b[39m\u001b[38;5;124mDeltaTable already exists.\u001b[39m\u001b[38;5;124m\"\u001b[39m)\n",
      "\u001b[0;31mValueError\u001b[0m: Schema of data does not match table schema\nTable schema:\ny: int64\n-- schema metadata --\npandas: '{\"index_columns\": [{\"kind\": \"range\", \"name\": null, \"start\": 0, \"' + 358\nData Schema:\nx: int64"
     ]
    }
   ],
   "source": [
    "write_deltalake(\"tmp/some_delta_lake\", df4, mode=\"append\")"
   ]
  },
  {
   "cell_type": "markdown",
   "id": "f1472d6c-d453-45be-9926-a668565c2c8b",
   "metadata": {},
   "source": [
    "## Reason 4: Better partition management (adding & removing partitions)"
   ]
  },
  {
   "cell_type": "code",
   "execution_count": 39,
   "id": "24525bb5-02c9-4bda-b56d-ce0f5c3ee3d0",
   "metadata": {
    "tags": []
   },
   "outputs": [],
   "source": [
    "df = pd.DataFrame(\n",
    "    {\"name\": [\"li\", \"xi\", \"sally\", \"fred\"], \"country\": [\"china\", \"china\", \"us\", \"us\"]}\n",
    ")"
   ]
  },
  {
   "cell_type": "code",
   "execution_count": 40,
   "id": "fa7616ca-f1cb-4b5a-8d00-032d94a7a88a",
   "metadata": {
    "tags": []
   },
   "outputs": [
    {
     "data": {
      "text/html": [
       "<div>\n",
       "<style scoped>\n",
       "    .dataframe tbody tr th:only-of-type {\n",
       "        vertical-align: middle;\n",
       "    }\n",
       "\n",
       "    .dataframe tbody tr th {\n",
       "        vertical-align: top;\n",
       "    }\n",
       "\n",
       "    .dataframe thead th {\n",
       "        text-align: right;\n",
       "    }\n",
       "</style>\n",
       "<table border=\"1\" class=\"dataframe\">\n",
       "  <thead>\n",
       "    <tr style=\"text-align: right;\">\n",
       "      <th></th>\n",
       "      <th>name</th>\n",
       "      <th>country</th>\n",
       "    </tr>\n",
       "  </thead>\n",
       "  <tbody>\n",
       "    <tr>\n",
       "      <th>0</th>\n",
       "      <td>li</td>\n",
       "      <td>china</td>\n",
       "    </tr>\n",
       "    <tr>\n",
       "      <th>1</th>\n",
       "      <td>xi</td>\n",
       "      <td>china</td>\n",
       "    </tr>\n",
       "    <tr>\n",
       "      <th>2</th>\n",
       "      <td>sally</td>\n",
       "      <td>us</td>\n",
       "    </tr>\n",
       "    <tr>\n",
       "      <th>3</th>\n",
       "      <td>fred</td>\n",
       "      <td>us</td>\n",
       "    </tr>\n",
       "  </tbody>\n",
       "</table>\n",
       "</div>"
      ],
      "text/plain": [
       "    name country\n",
       "0     li   china\n",
       "1     xi   china\n",
       "2  sally      us\n",
       "3   fred      us"
      ]
     },
     "execution_count": 40,
     "metadata": {},
     "output_type": "execute_result"
    }
   ],
   "source": [
    "df"
   ]
  },
  {
   "cell_type": "code",
   "execution_count": 41,
   "id": "67877895-2d73-490a-9f8d-626397dd712f",
   "metadata": {
    "tags": []
   },
   "outputs": [],
   "source": [
    "write_deltalake(\n",
    "    \"tmp/some_people\",\n",
    "    df,\n",
    "    partition_by=[\"country\"],\n",
    ")"
   ]
  },
  {
   "cell_type": "code",
   "execution_count": 42,
   "id": "7c7b74da-d2b6-495f-9491-40c6c08cd411",
   "metadata": {
    "tags": []
   },
   "outputs": [
    {
     "name": "stdout",
     "output_type": "stream",
     "text": [
      "\u001b[01;34mtmp/some_people\u001b[0m\n",
      "├── \u001b[01;34m_delta_log\u001b[0m\n",
      "│   └── \u001b[00m00000000000000000000.json\u001b[0m\n",
      "├── \u001b[01;34mcountry=china\u001b[0m\n",
      "│   └── \u001b[00m0-5d6a45de-7ccd-4107-91a2-d2239142a608-0.parquet\u001b[0m\n",
      "└── \u001b[01;34mcountry=us\u001b[0m\n",
      "    └── \u001b[00m0-5d6a45de-7ccd-4107-91a2-d2239142a608-0.parquet\u001b[0m\n",
      "\n",
      "3 directories, 3 files\n"
     ]
    }
   ],
   "source": [
    "!tree tmp/some_people"
   ]
  },
  {
   "cell_type": "code",
   "execution_count": 43,
   "id": "9f04cae5-0155-4699-abc1-c69dbed63482",
   "metadata": {
    "tags": []
   },
   "outputs": [
    {
     "data": {
      "text/html": [
       "<div>\n",
       "<style scoped>\n",
       "    .dataframe tbody tr th:only-of-type {\n",
       "        vertical-align: middle;\n",
       "    }\n",
       "\n",
       "    .dataframe tbody tr th {\n",
       "        vertical-align: top;\n",
       "    }\n",
       "\n",
       "    .dataframe thead th {\n",
       "        text-align: right;\n",
       "    }\n",
       "</style>\n",
       "<table border=\"1\" class=\"dataframe\">\n",
       "  <thead>\n",
       "    <tr style=\"text-align: right;\">\n",
       "      <th></th>\n",
       "      <th>name</th>\n",
       "      <th>country</th>\n",
       "    </tr>\n",
       "  </thead>\n",
       "  <tbody>\n",
       "    <tr>\n",
       "      <th>0</th>\n",
       "      <td>sally</td>\n",
       "      <td>us</td>\n",
       "    </tr>\n",
       "    <tr>\n",
       "      <th>1</th>\n",
       "      <td>fred</td>\n",
       "      <td>us</td>\n",
       "    </tr>\n",
       "    <tr>\n",
       "      <th>2</th>\n",
       "      <td>li</td>\n",
       "      <td>china</td>\n",
       "    </tr>\n",
       "    <tr>\n",
       "      <th>3</th>\n",
       "      <td>xi</td>\n",
       "      <td>china</td>\n",
       "    </tr>\n",
       "  </tbody>\n",
       "</table>\n",
       "</div>"
      ],
      "text/plain": [
       "    name country\n",
       "0  sally      us\n",
       "1   fred      us\n",
       "2     li   china\n",
       "3     xi   china"
      ]
     },
     "execution_count": 43,
     "metadata": {},
     "output_type": "execute_result"
    }
   ],
   "source": [
    "DeltaTable(\"tmp/some_people\").to_pandas()"
   ]
  },
  {
   "cell_type": "code",
   "execution_count": 44,
   "id": "4641e8fd-af8a-42a9-8bcf-929d8737ca3f",
   "metadata": {
    "tags": []
   },
   "outputs": [],
   "source": [
    "df = pd.DataFrame(\n",
    "    {\"name\": [\"jack\", \"bruce\", \"yao\"], \"country\": [\"china\", \"china\", \"china\"]}\n",
    ")"
   ]
  },
  {
   "cell_type": "code",
   "execution_count": 45,
   "id": "83bed3e3-ca3c-4a4d-b5e9-5d15570dd3dc",
   "metadata": {
    "tags": []
   },
   "outputs": [
    {
     "data": {
      "text/html": [
       "<div>\n",
       "<style scoped>\n",
       "    .dataframe tbody tr th:only-of-type {\n",
       "        vertical-align: middle;\n",
       "    }\n",
       "\n",
       "    .dataframe tbody tr th {\n",
       "        vertical-align: top;\n",
       "    }\n",
       "\n",
       "    .dataframe thead th {\n",
       "        text-align: right;\n",
       "    }\n",
       "</style>\n",
       "<table border=\"1\" class=\"dataframe\">\n",
       "  <thead>\n",
       "    <tr style=\"text-align: right;\">\n",
       "      <th></th>\n",
       "      <th>name</th>\n",
       "      <th>country</th>\n",
       "    </tr>\n",
       "  </thead>\n",
       "  <tbody>\n",
       "    <tr>\n",
       "      <th>0</th>\n",
       "      <td>jack</td>\n",
       "      <td>china</td>\n",
       "    </tr>\n",
       "    <tr>\n",
       "      <th>1</th>\n",
       "      <td>bruce</td>\n",
       "      <td>china</td>\n",
       "    </tr>\n",
       "    <tr>\n",
       "      <th>2</th>\n",
       "      <td>yao</td>\n",
       "      <td>china</td>\n",
       "    </tr>\n",
       "  </tbody>\n",
       "</table>\n",
       "</div>"
      ],
      "text/plain": [
       "    name country\n",
       "0   jack   china\n",
       "1  bruce   china\n",
       "2    yao   china"
      ]
     },
     "execution_count": 45,
     "metadata": {},
     "output_type": "execute_result"
    }
   ],
   "source": [
    "df"
   ]
  },
  {
   "cell_type": "code",
   "execution_count": 46,
   "id": "8c31f367-2f65-4ddf-b5b3-654fe94cf84b",
   "metadata": {
    "tags": []
   },
   "outputs": [],
   "source": [
    "write_deltalake(\n",
    "    \"tmp/some_people\",\n",
    "    df,\n",
    "    mode=\"overwrite\",\n",
    "    partition_filters=[(\"country\", \"=\", \"china\")],\n",
    ")"
   ]
  },
  {
   "cell_type": "code",
   "execution_count": 47,
   "id": "681919d2-ae0f-4b96-bad3-89cfe5240d4f",
   "metadata": {
    "tags": []
   },
   "outputs": [
    {
     "data": {
      "text/html": [
       "<div>\n",
       "<style scoped>\n",
       "    .dataframe tbody tr th:only-of-type {\n",
       "        vertical-align: middle;\n",
       "    }\n",
       "\n",
       "    .dataframe tbody tr th {\n",
       "        vertical-align: top;\n",
       "    }\n",
       "\n",
       "    .dataframe thead th {\n",
       "        text-align: right;\n",
       "    }\n",
       "</style>\n",
       "<table border=\"1\" class=\"dataframe\">\n",
       "  <thead>\n",
       "    <tr style=\"text-align: right;\">\n",
       "      <th></th>\n",
       "      <th>name</th>\n",
       "      <th>country</th>\n",
       "    </tr>\n",
       "  </thead>\n",
       "  <tbody>\n",
       "    <tr>\n",
       "      <th>0</th>\n",
       "      <td>sally</td>\n",
       "      <td>us</td>\n",
       "    </tr>\n",
       "    <tr>\n",
       "      <th>1</th>\n",
       "      <td>fred</td>\n",
       "      <td>us</td>\n",
       "    </tr>\n",
       "    <tr>\n",
       "      <th>2</th>\n",
       "      <td>jack</td>\n",
       "      <td>china</td>\n",
       "    </tr>\n",
       "    <tr>\n",
       "      <th>3</th>\n",
       "      <td>bruce</td>\n",
       "      <td>china</td>\n",
       "    </tr>\n",
       "    <tr>\n",
       "      <th>4</th>\n",
       "      <td>yao</td>\n",
       "      <td>china</td>\n",
       "    </tr>\n",
       "  </tbody>\n",
       "</table>\n",
       "</div>"
      ],
      "text/plain": [
       "    name country\n",
       "0  sally      us\n",
       "1   fred      us\n",
       "2   jack   china\n",
       "3  bruce   china\n",
       "4    yao   china"
      ]
     },
     "execution_count": 47,
     "metadata": {},
     "output_type": "execute_result"
    }
   ],
   "source": [
    "DeltaTable(\"tmp/some_people\").to_pandas()"
   ]
  },
  {
   "cell_type": "code",
   "execution_count": 48,
   "id": "7d3a310b-3986-4d11-9da3-d2159a91559f",
   "metadata": {
    "tags": []
   },
   "outputs": [
    {
     "data": {
      "text/html": [
       "<div>\n",
       "<style scoped>\n",
       "    .dataframe tbody tr th:only-of-type {\n",
       "        vertical-align: middle;\n",
       "    }\n",
       "\n",
       "    .dataframe tbody tr th {\n",
       "        vertical-align: top;\n",
       "    }\n",
       "\n",
       "    .dataframe thead th {\n",
       "        text-align: right;\n",
       "    }\n",
       "</style>\n",
       "<table border=\"1\" class=\"dataframe\">\n",
       "  <thead>\n",
       "    <tr style=\"text-align: right;\">\n",
       "      <th></th>\n",
       "      <th>name</th>\n",
       "      <th>country</th>\n",
       "    </tr>\n",
       "  </thead>\n",
       "  <tbody>\n",
       "    <tr>\n",
       "      <th>0</th>\n",
       "      <td>sally</td>\n",
       "      <td>us</td>\n",
       "    </tr>\n",
       "    <tr>\n",
       "      <th>1</th>\n",
       "      <td>fred</td>\n",
       "      <td>us</td>\n",
       "    </tr>\n",
       "    <tr>\n",
       "      <th>2</th>\n",
       "      <td>li</td>\n",
       "      <td>china</td>\n",
       "    </tr>\n",
       "    <tr>\n",
       "      <th>3</th>\n",
       "      <td>xi</td>\n",
       "      <td>china</td>\n",
       "    </tr>\n",
       "  </tbody>\n",
       "</table>\n",
       "</div>"
      ],
      "text/plain": [
       "    name country\n",
       "0  sally      us\n",
       "1   fred      us\n",
       "2     li   china\n",
       "3     xi   china"
      ]
     },
     "execution_count": 48,
     "metadata": {},
     "output_type": "execute_result"
    }
   ],
   "source": [
    "DeltaTable(\"tmp/some_people\", version=0).to_pandas()"
   ]
  },
  {
   "cell_type": "markdown",
   "id": "4bea3977-1ddc-4d7b-a746-fb622cc9d4b0",
   "metadata": {},
   "source": [
    "## Reason 5: Small file compaction"
   ]
  },
  {
   "cell_type": "code",
   "execution_count": 49,
   "id": "1b5a028b-f256-42c0-a500-2cb741dd3609",
   "metadata": {
    "tags": []
   },
   "outputs": [
    {
     "data": {
      "text/html": [
       "<div>\n",
       "<style scoped>\n",
       "    .dataframe tbody tr th:only-of-type {\n",
       "        vertical-align: middle;\n",
       "    }\n",
       "\n",
       "    .dataframe tbody tr th {\n",
       "        vertical-align: top;\n",
       "    }\n",
       "\n",
       "    .dataframe thead th {\n",
       "        text-align: right;\n",
       "    }\n",
       "</style>\n",
       "<table border=\"1\" class=\"dataframe\">\n",
       "  <thead>\n",
       "    <tr style=\"text-align: right;\">\n",
       "      <th></th>\n",
       "      <th>date</th>\n",
       "      <th>timestamp</th>\n",
       "      <th>value</th>\n",
       "    </tr>\n",
       "  </thead>\n",
       "  <tbody>\n",
       "    <tr>\n",
       "      <th>0</th>\n",
       "      <td>2021-01-01</td>\n",
       "      <td>2021-01-01 12:00:00</td>\n",
       "      <td>0.052734</td>\n",
       "    </tr>\n",
       "    <tr>\n",
       "      <th>1</th>\n",
       "      <td>2021-01-01</td>\n",
       "      <td>2021-01-01 12:00:00</td>\n",
       "      <td>0.043073</td>\n",
       "    </tr>\n",
       "    <tr>\n",
       "      <th>2</th>\n",
       "      <td>2021-01-01</td>\n",
       "      <td>2021-01-01 12:00:00</td>\n",
       "      <td>0.834527</td>\n",
       "    </tr>\n",
       "    <tr>\n",
       "      <th>3</th>\n",
       "      <td>2021-01-01</td>\n",
       "      <td>2021-01-01 12:00:00</td>\n",
       "      <td>0.741786</td>\n",
       "    </tr>\n",
       "    <tr>\n",
       "      <th>4</th>\n",
       "      <td>2021-01-01</td>\n",
       "      <td>2021-01-01 12:00:00</td>\n",
       "      <td>0.217829</td>\n",
       "    </tr>\n",
       "    <tr>\n",
       "      <th>...</th>\n",
       "      <td>...</td>\n",
       "      <td>...</td>\n",
       "      <td>...</td>\n",
       "    </tr>\n",
       "    <tr>\n",
       "      <th>995</th>\n",
       "      <td>2021-01-01</td>\n",
       "      <td>2021-01-01 12:00:00</td>\n",
       "      <td>0.118247</td>\n",
       "    </tr>\n",
       "    <tr>\n",
       "      <th>996</th>\n",
       "      <td>2021-01-01</td>\n",
       "      <td>2021-01-01 12:00:00</td>\n",
       "      <td>0.856370</td>\n",
       "    </tr>\n",
       "    <tr>\n",
       "      <th>997</th>\n",
       "      <td>2021-01-01</td>\n",
       "      <td>2021-01-01 12:00:00</td>\n",
       "      <td>0.489655</td>\n",
       "    </tr>\n",
       "    <tr>\n",
       "      <th>998</th>\n",
       "      <td>2021-01-01</td>\n",
       "      <td>2021-01-01 12:00:00</td>\n",
       "      <td>0.168350</td>\n",
       "    </tr>\n",
       "    <tr>\n",
       "      <th>999</th>\n",
       "      <td>2021-01-01</td>\n",
       "      <td>2021-01-01 12:00:00</td>\n",
       "      <td>0.115687</td>\n",
       "    </tr>\n",
       "  </tbody>\n",
       "</table>\n",
       "<p>1000 rows × 3 columns</p>\n",
       "</div>"
      ],
      "text/plain": [
       "           date           timestamp     value\n",
       "0    2021-01-01 2021-01-01 12:00:00  0.052734\n",
       "1    2021-01-01 2021-01-01 12:00:00  0.043073\n",
       "2    2021-01-01 2021-01-01 12:00:00  0.834527\n",
       "3    2021-01-01 2021-01-01 12:00:00  0.741786\n",
       "4    2021-01-01 2021-01-01 12:00:00  0.217829\n",
       "..          ...                 ...       ...\n",
       "995  2021-01-01 2021-01-01 12:00:00  0.118247\n",
       "996  2021-01-01 2021-01-01 12:00:00  0.856370\n",
       "997  2021-01-01 2021-01-01 12:00:00  0.489655\n",
       "998  2021-01-01 2021-01-01 12:00:00  0.168350\n",
       "999  2021-01-01 2021-01-01 12:00:00  0.115687\n",
       "\n",
       "[1000 rows x 3 columns]"
      ]
     },
     "execution_count": 49,
     "metadata": {},
     "output_type": "execute_result"
    }
   ],
   "source": [
    "def record_observations(date: datetime) -> pa.Table:\n",
    "    \"\"\"Pulls data for a certain datetime\"\"\"\n",
    "    nrows = 1000\n",
    "    return pa.table(\n",
    "        {\n",
    "            \"date\": pa.array([date.date()] * nrows),\n",
    "            \"timestamp\": pa.array([date] * nrows),\n",
    "            \"value\": pc.random(nrows),\n",
    "        }\n",
    "    )\n",
    "\n",
    "\n",
    "# Example of output\n",
    "record_observations(datetime(2021, 1, 1, 12)).to_pandas()"
   ]
  },
  {
   "cell_type": "code",
   "execution_count": 50,
   "id": "433d41e3-b59a-4889-8e2d-5fa3caf460b5",
   "metadata": {
    "tags": []
   },
   "outputs": [],
   "source": [
    "# Every hour starting at midnight on 2021-01-01\n",
    "hours_iter = (datetime(2021, 1, 1) + timedelta(hours=i) for i in itertools.count())\n",
    "\n",
    "# Write 100 hours worth of data\n",
    "for timestamp in itertools.islice(hours_iter, 100):\n",
    "    write_deltalake(\n",
    "        \"observation_data\",\n",
    "        record_observations(timestamp),\n",
    "        partition_by=[\"date\"],\n",
    "        mode=\"append\",\n",
    "    )"
   ]
  },
  {
   "cell_type": "code",
   "execution_count": 51,
   "id": "477cb6e0-ac03-4aa1-8f2b-eb97fb83f6ea",
   "metadata": {
    "tags": []
   },
   "outputs": [
    {
     "data": {
      "text/plain": [
       "100"
      ]
     },
     "execution_count": 51,
     "metadata": {},
     "output_type": "execute_result"
    }
   ],
   "source": [
    "dt = DeltaTable(\"observation_data\")\n",
    "# We now have 100 files in our table\n",
    "len(dt.files())"
   ]
  },
  {
   "cell_type": "code",
   "execution_count": 52,
   "id": "9797e187-1e09-40b5-9850-944231eb53ce",
   "metadata": {
    "tags": []
   },
   "outputs": [
    {
     "data": {
      "text/plain": [
       "<pyarrow.lib.Date32Array object at 0x15a8a5460>\n",
       "[\n",
       "  2021-01-01,\n",
       "  2021-01-02,\n",
       "  2021-01-03,\n",
       "  2021-01-04,\n",
       "  2021-01-05\n",
       "]"
      ]
     },
     "execution_count": 52,
     "metadata": {},
     "output_type": "execute_result"
    }
   ],
   "source": [
    "# But there are only 5 unique partitions\n",
    "dt.get_add_actions(flatten=True).column(\"partition.date\").unique().sort()"
   ]
  },
  {
   "cell_type": "code",
   "execution_count": 53,
   "id": "1e54ec6f-ab07-4d3f-8aa0-ff2929059300",
   "metadata": {
    "tags": []
   },
   "outputs": [
    {
     "ename": "AttributeError",
     "evalue": "'DeltaTable' object has no attribute 'optimize'",
     "output_type": "error",
     "traceback": [
      "\u001b[0;31m---------------------------------------------------------------------------\u001b[0m",
      "\u001b[0;31mAttributeError\u001b[0m                            Traceback (most recent call last)",
      "Cell \u001b[0;32mIn[53], line 1\u001b[0m\n\u001b[0;32m----> 1\u001b[0m \u001b[43mdt\u001b[49m\u001b[38;5;241;43m.\u001b[39;49m\u001b[43moptimize\u001b[49m()\n",
      "\u001b[0;31mAttributeError\u001b[0m: 'DeltaTable' object has no attribute 'optimize'"
     ]
    }
   ],
   "source": [
    "dt.optimize()"
   ]
  },
  {
   "cell_type": "code",
   "execution_count": null,
   "id": "b994e1bd-4f07-4d55-89f0-c1af7afde0bd",
   "metadata": {},
   "outputs": [],
   "source": [
    "# After running optimize, we have an equal number of files as partitions\n",
    "len(dt.files())"
   ]
  },
  {
   "cell_type": "code",
   "execution_count": null,
   "id": "055340db-eb90-4b01-9846-5b5de7a5f0c4",
   "metadata": {},
   "outputs": [],
   "source": [
    "dt.vacuum(retention_hours=0, enforce_retention_duration=False, dry_run=False)"
   ]
  },
  {
   "cell_type": "code",
   "execution_count": null,
   "id": "00b14cb6-6147-4193-9dde-59140e53476a",
   "metadata": {},
   "outputs": [],
   "source": []
  },
  {
   "cell_type": "markdown",
   "id": "22a120df-0018-483a-a690-14e05c298f85",
   "metadata": {},
   "source": [
    "## Cleanup"
   ]
  },
  {
   "cell_type": "code",
   "execution_count": 7,
   "id": "777c0dd7-38e9-496a-a56a-6d3fde216cd7",
   "metadata": {},
   "outputs": [],
   "source": [
    "!rm -rf tmp observation_data"
   ]
  },
  {
   "cell_type": "code",
   "execution_count": null,
   "id": "05826b5d-4f92-4992-86bd-a1fc546a57f3",
   "metadata": {},
   "outputs": [],
   "source": []
  }
 ],
 "metadata": {
  "kernelspec": {
   "display_name": "Python [conda env:deltalake-090] *",
   "language": "python",
   "name": "conda-env-deltalake-090-py"
  },
  "language_info": {
   "codemirror_mode": {
    "name": "ipython",
    "version": 3
   },
   "file_extension": ".py",
   "mimetype": "text/x-python",
   "name": "python",
   "nbconvert_exporter": "python",
   "pygments_lexer": "ipython3",
   "version": "3.9.16"
  }
 },
 "nbformat": 4,
 "nbformat_minor": 5
}

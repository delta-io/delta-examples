{
 "cells": [
  {
   "cell_type": "markdown",
   "id": "f9945a68-c777-4a7f-808c-7aebfd4a619a",
   "metadata": {},
   "source": [
    "# Delta Lake Uniform\n",
    "\n",
    "This notebook demonstrates Delta Lake Uniform, which allows you to read Delta tables with Iceberg reader clients. UniForm automatically generates Iceberg metadata asynchronously, without rewriting data, so that Iceberg clients can read Delta tables as if they were Iceberg tables."
   ]
  },
  {
   "cell_type": "code",
   "execution_count": 1,
   "id": "0c7dc705-d5cf-4049-9cbf-eba39c44a3ab",
   "metadata": {},
   "outputs": [],
   "source": [
    "from pathlib import Path\n",
    "\n",
    "import delta\n",
    "import pyspark\n",
    "from delta import *\n",
    "from pyspark.sql import functions as F"
   ]
  },
  {
   "cell_type": "code",
   "execution_count": 2,
   "id": "c2bd38b0-b326-4611-bd27-e06a87b58757",
   "metadata": {},
   "outputs": [
    {
     "name": "stdout",
     "output_type": "stream",
     "text": [
      ":: loading settings :: file = ../../ivy/3.0.0rc1.xml\n",
      ":: loading settings :: url = jar:file:/opt/homebrew/anaconda3/envs/pyspark-340-delta-300rc1/lib/python3.9/site-packages/pyspark/jars/ivy-2.5.1.jar!/org/apache/ivy/core/settings/ivysettings.xml\n"
     ]
    },
    {
     "name": "stderr",
     "output_type": "stream",
     "text": [
      "Ivy Default Cache set to: /Users/nick.karpov/.ivy2/cache\n",
      "The jars for the packages stored in: /Users/nick.karpov/.ivy2/jars\n",
      "io.delta#delta-spark_2.12 added as a dependency\n",
      "io.delta#delta-iceberg_2.12 added as a dependency\n",
      ":: resolving dependencies :: org.apache.spark#spark-submit-parent-d154d83b-c551-48d1-b7c4-ba6c3a764f78;1.0\n",
      "\tconfs: [default]\n",
      "\tfound io.delta#delta-spark_2.12;3.0.0rc1 in central\n",
      "\tfound io.delta#delta-storage;3.0.0rc1 in central\n",
      "\tfound org.antlr#antlr4-runtime;4.9.3 in central\n",
      "\tfound io.delta#delta-iceberg_2.12;3.0.0rc1 in central\n",
      "\tfound org.scala-lang.modules#scala-collection-compat_2.12;2.1.1 in central\n",
      "\tfound com.github.ben-manes.caffeine#caffeine;2.9.3 in central\n",
      "\tfound org.checkerframework#checker-qual;3.19.0 in central\n",
      "\tfound com.google.errorprone#error_prone_annotations;2.10.0 in central\n",
      "downloading https://repo1.maven.org/maven2/io/delta/delta-iceberg_2.12/3.0.0rc1/delta-iceberg_2.12-3.0.0rc1.jar ...\n",
      "\t[SUCCESSFUL ] io.delta#delta-iceberg_2.12;3.0.0rc1!delta-iceberg_2.12.jar (302ms)\n",
      "downloading https://repo1.maven.org/maven2/org/scala-lang/modules/scala-collection-compat_2.12/2.1.1/scala-collection-compat_2.12-2.1.1.jar ...\n",
      "\t[SUCCESSFUL ] org.scala-lang.modules#scala-collection-compat_2.12;2.1.1!scala-collection-compat_2.12.jar(bundle) (94ms)\n",
      "downloading https://repo1.maven.org/maven2/com/github/ben-manes/caffeine/caffeine/2.9.3/caffeine-2.9.3.jar ...\n",
      "\t[SUCCESSFUL ] com.github.ben-manes.caffeine#caffeine;2.9.3!caffeine.jar (62ms)\n",
      "downloading https://repo1.maven.org/maven2/org/checkerframework/checker-qual/3.19.0/checker-qual-3.19.0.jar ...\n",
      "\t[SUCCESSFUL ] org.checkerframework#checker-qual;3.19.0!checker-qual.jar (43ms)\n",
      "downloading https://repo1.maven.org/maven2/com/google/errorprone/error_prone_annotations/2.10.0/error_prone_annotations-2.10.0.jar ...\n",
      "\t[SUCCESSFUL ] com.google.errorprone#error_prone_annotations;2.10.0!error_prone_annotations.jar (44ms)\n",
      ":: resolution report :: resolve 3517ms :: artifacts dl 550ms\n",
      "\t---------------------------------------------------------------------\n",
      "\t|                  |            modules            ||   artifacts   |\n",
      "\t|       conf       | number| search|dwnlded|evicted|| number|dwnlded|\n",
      "\t---------------------------------------------------------------------\n",
      "\t|      default     |   8   |   5   |   5   |   0   ||   8   |   5   |\n",
      "\t---------------------------------------------------------------------\n",
      ":: retrieving :: org.apache.spark#spark-submit-parent-d154d83b-c551-48d1-b7c4-ba6c3a764f78\n",
      "\tconfs: [default]\n",
      "\t5 artifacts copied, 3 already retrieved (11483kB/14ms)\n",
      "23/08/07 10:28:57 WARN NativeCodeLoader: Unable to load native-hadoop library for your platform... using builtin-java classes where applicable\n",
      "Setting default log level to \"WARN\".\n",
      "To adjust logging level use sc.setLogLevel(newLevel). For SparkR, use setLogLevel(newLevel).\n"
     ]
    }
   ],
   "source": [
    "extras = [\"io.delta:delta-iceberg_2.12:3.0.0rc1\"]\n",
    "\n",
    "builder = (\n",
    "    pyspark.sql.SparkSession.builder.appName(\"MyApp\")\n",
    "    .config(\"spark.sql.extensions\", \"io.delta.sql.DeltaSparkSessionExtension\")\n",
    "    .config(\n",
    "        \"spark.sql.catalog.spark_catalog\",\n",
    "        \"org.apache.spark.sql.delta.catalog.DeltaCatalog\",\n",
    "    )\n",
    "    .config(\"spark.jars.ivySettings\", \"../../ivy/3.0.0rc1.xml\")\n",
    ")\n",
    "\n",
    "spark = configure_spark_with_delta_pip(builder, extra_packages=extras).getOrCreate()"
   ]
  },
  {
   "cell_type": "code",
   "execution_count": 7,
   "id": "3896b2b9-4074-4282-ab38-8f556bb876b5",
   "metadata": {},
   "outputs": [
    {
     "data": {
      "text/plain": [
       "DataFrame[]"
      ]
     },
     "execution_count": 7,
     "metadata": {},
     "output_type": "execute_result"
    }
   ],
   "source": [
    "# Create a Delta Table with Uniform enabled\n",
    "\n",
    "spark.sql(\n",
    "    \"\"\"\n",
    "    CREATE TABLE T(c1 BIGINT) \n",
    "    USING delta\n",
    "    TBLPROPERTIES(\n",
    "      'delta.universalFormat.enabledFormats' = 'iceberg')\n",
    "    LOCATION '/tmp/tables/T'\n",
    "\"\"\"\n",
    ")"
   ]
  },
  {
   "cell_type": "code",
   "execution_count": 10,
   "id": "37677d72-4e3a-46f0-a23f-290ae523390f",
   "metadata": {},
   "outputs": [
    {
     "name": "stdout",
     "output_type": "stream",
     "text": [
      "total 0\n",
      "drwxr-xr-x@ 4 nick.karpov  wheel  128 Aug  7 10:36 \u001b[34m.\u001b[m\u001b[m\n",
      "drwxr-xr-x@ 4 nick.karpov  wheel  128 Aug  7 10:36 \u001b[34m..\u001b[m\u001b[m\n",
      "drwxr-xr-x@ 4 nick.karpov  wheel  128 Aug  7 10:36 \u001b[34m_delta_log\u001b[m\u001b[m\n",
      "drwxr-xr-x@ 6 nick.karpov  wheel  192 Aug  7 10:36 \u001b[34mmetadata\u001b[m\u001b[m\n"
     ]
    }
   ],
   "source": [
    "%%bash\n",
    "# List the table directory\n",
    "# Note the `metadata` folder which contains Iceberg metadata\n",
    "ls -al /tmp/tables/T"
   ]
  },
  {
   "cell_type": "code",
   "execution_count": 11,
   "id": "94deb87d-0201-4213-95fd-19bbb547bbc9",
   "metadata": {},
   "outputs": [
    {
     "name": "stdout",
     "output_type": "stream",
     "text": [
      "total 32\n",
      "drwxr-xr-x@ 6 nick.karpov  wheel   192 Aug  7 10:36 \u001b[34m.\u001b[m\u001b[m\n",
      "drwxr-xr-x@ 4 nick.karpov  wheel   128 Aug  7 10:36 \u001b[34m..\u001b[m\u001b[m\n",
      "-rw-r--r--@ 1 nick.karpov  wheel    20 Aug  7 10:36 .v1.metadata.json.crc\n",
      "-rw-r--r--@ 1 nick.karpov  wheel    12 Aug  7 10:36 .version-hint.text.crc\n",
      "-rw-r--r--@ 1 nick.karpov  wheel  1043 Aug  7 10:36 v1.metadata.json\n",
      "-rw-r--r--@ 1 nick.karpov  wheel     1 Aug  7 10:36 version-hint.text\n"
     ]
    }
   ],
   "source": [
    "%%bash\n",
    "# Take a closer look at the Iceberg metadata\n",
    "ls -al /tmp/tables/T/metadata"
   ]
  },
  {
   "cell_type": "code",
   "execution_count": 12,
   "id": "de986b9e-fd47-4031-a89c-ebf6278d5756",
   "metadata": {},
   "outputs": [],
   "source": [
    "# Append some new data\n",
    "\n",
    "(\n",
    "    spark.range(10).coalesce(1)\n",
    "    .withColumnRenamed(\"id\", \"c1\")\n",
    "    .write.format(\"delta\")\n",
    "    .mode(\"append\")\n",
    "    .save(\"/tmp/tables/T\")\n",
    ")"
   ]
  },
  {
   "cell_type": "code",
   "execution_count": 22,
   "id": "c8d18d71-2fd3-4b88-bccc-e98e19a69673",
   "metadata": {},
   "outputs": [
    {
     "name": "stdout",
     "output_type": "stream",
     "text": [
      "part-00000-8e4ccae8-59e8-4dcd-959a-ec53cb7c7d0f-c000.snappy.parquet\n"
     ]
    }
   ],
   "source": [
    "%%bash\n",
    "# List the data files. Only a single copy of the data files exists.\n",
    "ls -p /tmp/tables/T | grep -v / "
   ]
  },
  {
   "cell_type": "code",
   "execution_count": 23,
   "id": "75fa8bbe-df79-4ce1-8809-e91ef1aeb7ef",
   "metadata": {},
   "outputs": [
    {
     "name": "stdout",
     "output_type": "stream",
     "text": [
      "total 16\n",
      "-rw-r--r--@ 1 nick.karpov  wheel  1131 Aug  7 10:36 00000000000000000000.json\n",
      "-rw-r--r--@ 1 nick.karpov  wheel   761 Aug  7 10:38 00000000000000000001.json\n"
     ]
    }
   ],
   "source": [
    "%%bash\n",
    "# List the Delta Lake metadata\n",
    "ls -l /tmp/tables/T/_delta_log"
   ]
  },
  {
   "cell_type": "code",
   "execution_count": 24,
   "id": "1a7cfe28-9cc7-4400-afb8-a12c2f1797a1",
   "metadata": {},
   "outputs": [
    {
     "name": "stdout",
     "output_type": "stream",
     "text": [
      "total 48\n",
      "-rw-r--r--@ 1 nick.karpov  wheel  5678 Aug  7 10:38 b985b02d-8f43-4c31-9fc0-dc1832a993ff-m0.avro\n",
      "-rw-r--r--@ 1 nick.karpov  wheel  3742 Aug  7 10:38 snap-6163827902736455386-1-b985b02d-8f43-4c31-9fc0-dc1832a993ff.avro\n",
      "-rw-r--r--@ 1 nick.karpov  wheel  1043 Aug  7 10:36 v1.metadata.json\n",
      "-rw-r--r--@ 1 nick.karpov  wheel  1963 Aug  7 10:38 v2.metadata.json\n",
      "-rw-r--r--@ 1 nick.karpov  wheel     1 Aug  7 10:38 version-hint.text\n"
     ]
    }
   ],
   "source": [
    "%%bash\n",
    "# List the Iceberg metadata\n",
    "ls -l /tmp/tables/T/metadata"
   ]
  }
 ],
 "metadata": {
  "kernelspec": {
   "display_name": "Python 3 (ipykernel)",
   "language": "python",
   "name": "python3"
  },
  "language_info": {
   "codemirror_mode": {
    "name": "ipython",
    "version": 3
   },
   "file_extension": ".py",
   "mimetype": "text/x-python",
   "name": "python",
   "nbconvert_exporter": "python",
   "pygments_lexer": "ipython3",
   "version": "3.9.16"
  }
 },
 "nbformat": 4,
 "nbformat_minor": 5
}

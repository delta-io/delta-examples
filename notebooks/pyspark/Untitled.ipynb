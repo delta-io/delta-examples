{
 "cells": [
  {
   "cell_type": "code",
   "execution_count": 1,
   "id": "35d5f629-c5f0-44c5-85b1-04a8c7e8dfcb",
   "metadata": {},
   "outputs": [
    {
     "name": "stdout",
     "output_type": "stream",
     "text": [
      ":: loading settings :: file = ../../ivy/2.4.0rc1.xml\n",
      ":: loading settings :: url = jar:file:/Users/nick.karpov/miniconda3/envs/pyspark-340-delta-240rc1/lib/python3.9/site-packages/pyspark/jars/ivy-2.5.1.jar!/org/apache/ivy/core/settings/ivysettings.xml\n"
     ]
    },
    {
     "name": "stderr",
     "output_type": "stream",
     "text": [
      "Ivy Default Cache set to: /Users/nick.karpov/.ivy2/cache\n",
      "The jars for the packages stored in: /Users/nick.karpov/.ivy2/jars\n",
      "io.delta#delta-core_2.12 added as a dependency\n",
      ":: resolving dependencies :: org.apache.spark#spark-submit-parent-e817e035-ee4c-4604-9a56-597cb802059f;1.0\n",
      "\tconfs: [default]\n",
      "\tfound io.delta#delta-core_2.12;2.4.0rc1 in custom\n",
      "\tfound io.delta#delta-storage;2.4.0rc1 in custom\n",
      "\tfound org.antlr#antlr4-runtime;4.9.3 in central\n",
      "downloading https://oss.sonatype.org/content/repositories/iodelta-1080/io/delta/delta-core_2.12/2.4.0rc1/delta-core_2.12-2.4.0rc1.jar ...\n",
      "\t[SUCCESSFUL ] io.delta#delta-core_2.12;2.4.0rc1!delta-core_2.12.jar (936ms)\n",
      "downloading https://oss.sonatype.org/content/repositories/iodelta-1080/io/delta/delta-storage/2.4.0rc1/delta-storage-2.4.0rc1.jar ...\n",
      "\t[SUCCESSFUL ] io.delta#delta-storage;2.4.0rc1!delta-storage.jar (321ms)\n",
      ":: resolution report :: resolve 2065ms :: artifacts dl 1262ms\n",
      "\t---------------------------------------------------------------------\n",
      "\t|                  |            modules            ||   artifacts   |\n",
      "\t|       conf       | number| search|dwnlded|evicted|| number|dwnlded|\n",
      "\t---------------------------------------------------------------------\n",
      "\t|      default     |   3   |   2   |   2   |   0   ||   3   |   2   |\n",
      "\t---------------------------------------------------------------------\n",
      ":: retrieving :: org.apache.spark#spark-submit-parent-e817e035-ee4c-4604-9a56-597cb802059f\n",
      "\tconfs: [default]\n",
      "\t0 artifacts copied, 3 already retrieved (0kB/6ms)\n",
      "23/05/24 17:08:21 WARN NativeCodeLoader: Unable to load native-hadoop library for your platform... using builtin-java classes where applicable\n",
      "Setting default log level to \"WARN\".\n",
      "To adjust logging level use sc.setLogLevel(newLevel). For SparkR, use setLogLevel(newLevel).\n"
     ]
    }
   ],
   "source": [
    "import pyspark\n",
    "from delta import *\n",
    "from pyspark.sql import functions as F\n",
    "\n",
    "builder = (\n",
    "    pyspark.sql.SparkSession.builder.appName(\"MyApp\")\n",
    "    .config(\"spark.sql.extensions\", \"io.delta.sql.DeltaSparkSessionExtension\")\n",
    "    .config(\n",
    "        \"spark.sql.catalog.spark_catalog\",\n",
    "        \"org.apache.spark.sql.delta.catalog.DeltaCatalog\",\n",
    "    )\n",
    "    .config(\n",
    "        \"spark.jars.ivySettings\",\n",
    "        \"../../ivy/2.4.0rc1.xml\"\n",
    "    )\n",
    ")\n",
    "\n",
    "spark = configure_spark_with_delta_pip(builder).getOrCreate()"
   ]
  },
  {
   "cell_type": "code",
   "execution_count": null,
   "id": "84ea8714-7487-4e4c-8f3e-942ca9402a9d",
   "metadata": {},
   "outputs": [],
   "source": []
  }
 ],
 "metadata": {
  "kernelspec": {
   "display_name": "Python [conda env:pyspark-340-delta-240rc1]",
   "language": "python",
   "name": "conda-env-pyspark-340-delta-240rc1-py"
  },
  "language_info": {
   "codemirror_mode": {
    "name": "ipython",
    "version": 3
   },
   "file_extension": ".py",
   "mimetype": "text/x-python",
   "name": "python",
   "nbconvert_exporter": "python",
   "pygments_lexer": "ipython3",
   "version": "3.9.16"
  }
 },
 "nbformat": 4,
 "nbformat_minor": 5
}

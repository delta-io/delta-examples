{
 "cells": [
  {
   "cell_type": "markdown",
   "id": "af6cdd46-f080-4d21-bf1e-358d5bf735ae",
   "metadata": {},
   "source": [
    "# Delta Lake Change Data Feed"
   ]
  },
  {
   "cell_type": "code",
   "execution_count": 1,
   "id": "740ce135-0b97-4719-a28e-9c72fcabae7f",
   "metadata": {
    "tags": []
   },
   "outputs": [
    {
     "name": "stdout",
     "output_type": "stream",
     "text": [
      ":: loading settings :: url = jar:file:/Users/matthew.powers/opt/miniconda3/envs/pyspark-332-delta-230/lib/python3.9/site-packages/pyspark/jars/ivy-2.5.1.jar!/org/apache/ivy/core/settings/ivysettings.xml\n"
     ]
    },
    {
     "name": "stderr",
     "output_type": "stream",
     "text": [
      "Ivy Default Cache set to: /Users/matthew.powers/.ivy2/cache\n",
      "The jars for the packages stored in: /Users/matthew.powers/.ivy2/jars\n",
      "io.delta#delta-core_2.12 added as a dependency\n",
      ":: resolving dependencies :: org.apache.spark#spark-submit-parent-d4c18e40-a7d8-431c-9f6f-e7c4a04053a8;1.0\n",
      "\tconfs: [default]\n",
      "\tfound io.delta#delta-core_2.12;2.3.0 in central\n",
      "\tfound io.delta#delta-storage;2.3.0 in central\n",
      "\tfound org.antlr#antlr4-runtime;4.8 in central\n",
      ":: resolution report :: resolve 95ms :: artifacts dl 5ms\n",
      "\t:: modules in use:\n",
      "\tio.delta#delta-core_2.12;2.3.0 from central in [default]\n",
      "\tio.delta#delta-storage;2.3.0 from central in [default]\n",
      "\torg.antlr#antlr4-runtime;4.8 from central in [default]\n",
      "\t---------------------------------------------------------------------\n",
      "\t|                  |            modules            ||   artifacts   |\n",
      "\t|       conf       | number| search|dwnlded|evicted|| number|dwnlded|\n",
      "\t---------------------------------------------------------------------\n",
      "\t|      default     |   3   |   0   |   0   |   0   ||   3   |   0   |\n",
      "\t---------------------------------------------------------------------\n",
      ":: retrieving :: org.apache.spark#spark-submit-parent-d4c18e40-a7d8-431c-9f6f-e7c4a04053a8\n",
      "\tconfs: [default]\n",
      "\t0 artifacts copied, 3 already retrieved (0kB/3ms)\n"
     ]
    },
    {
     "name": "stdout",
     "output_type": "stream",
     "text": [
      "23/06/04 17:25:56 WARN NativeCodeLoader: Unable to load native-hadoop library for your platform... using builtin-java classes where applicable\n"
     ]
    },
    {
     "name": "stderr",
     "output_type": "stream",
     "text": [
      "Setting default log level to \"WARN\".\n",
      "To adjust logging level use sc.setLogLevel(newLevel). For SparkR, use setLogLevel(newLevel).\n"
     ]
    }
   ],
   "source": [
    "import pyspark\n",
    "from delta import *\n",
    "from pyspark.sql import functions as F\n",
    "\n",
    "builder = (\n",
    "    pyspark.sql.SparkSession.builder.appName(\"MyApp\")\n",
    "    .config(\"spark.sql.extensions\", \"io.delta.sql.DeltaSparkSessionExtension\")\n",
    "    .config(\n",
    "        \"spark.sql.catalog.spark_catalog\",\n",
    "        \"org.apache.spark.sql.delta.catalog.DeltaCatalog\",\n",
    "    )\n",
    ")\n",
    "\n",
    "spark = configure_spark_with_delta_pip(builder).getOrCreate()"
   ]
  },
  {
   "cell_type": "markdown",
   "id": "4a3413f7-4c97-43cd-a969-87ff1f048533",
   "metadata": {},
   "source": [
    "## Create Delta table with change data feed enabled"
   ]
  },
  {
   "cell_type": "code",
   "execution_count": 11,
   "id": "0aad8e6f-6519-4c9e-9853-892a40c40a8f",
   "metadata": {
    "tags": []
   },
   "outputs": [],
   "source": [
    "spark.conf.set(\"spark.sql.legacy.createHiveTableByDefault\", \"false\")"
   ]
  },
  {
   "cell_type": "code",
   "execution_count": 12,
   "id": "a6e0a0fa-48a0-4dd5-950e-69938064bd19",
   "metadata": {
    "tags": []
   },
   "outputs": [
    {
     "data": {
      "text/plain": [
       "DataFrame[]"
      ]
     },
     "execution_count": 12,
     "metadata": {},
     "output_type": "execute_result"
    }
   ],
   "source": [
    "spark.sql(\n",
    "    \"CREATE TABLE students (id LONG, name STRING, age LONG) USING delta TBLPROPERTIES (delta.enableChangeDataFeed = true)\"\n",
    ")"
   ]
  },
  {
   "cell_type": "markdown",
   "id": "26600f0d-4b0b-43f1-b518-5afb4fad6cee",
   "metadata": {},
   "source": [
    "### Append data"
   ]
  },
  {
   "cell_type": "code",
   "execution_count": 4,
   "id": "d9714899-773e-4616-9079-c859dcf62ec5",
   "metadata": {
    "tags": []
   },
   "outputs": [],
   "source": [
    "df = spark.createDataFrame([(0, \"Bob\", 23), (1, \"Sue\", 25), (2, \"Jim\", 27)]).toDF(\n",
    "    \"id\", \"name\", \"age\"\n",
    ")"
   ]
  },
  {
   "cell_type": "code",
   "execution_count": 5,
   "id": "d653d13e-5b97-4ca1-80f2-9f8cc81b4fc1",
   "metadata": {
    "tags": []
   },
   "outputs": [
    {
     "name": "stderr",
     "output_type": "stream",
     "text": [
      "                                                                                \r"
     ]
    }
   ],
   "source": [
    "df.repartition(1).write.mode(\"append\").format(\"delta\").saveAsTable(\"students\")"
   ]
  },
  {
   "cell_type": "code",
   "execution_count": 6,
   "id": "4308b32b-d430-4f63-b87f-e901c0de0bb9",
   "metadata": {
    "tags": []
   },
   "outputs": [
    {
     "name": "stdout",
     "output_type": "stream",
     "text": [
      "+---+----+---+\n",
      "| id|name|age|\n",
      "+---+----+---+\n",
      "|  0| Bob| 23|\n",
      "|  1| Sue| 25|\n",
      "|  2| Jim| 27|\n",
      "+---+----+---+\n",
      "\n"
     ]
    }
   ],
   "source": [
    "spark.sql(\"SELECT * FROM students\").show()"
   ]
  },
  {
   "cell_type": "code",
   "execution_count": 7,
   "id": "27bea8d3-8a0c-4da1-8068-2fb50c6c446a",
   "metadata": {
    "tags": []
   },
   "outputs": [
    {
     "name": "stdout",
     "output_type": "stream",
     "text": [
      "+---+----+---+------------+---------------+-----------------------+\n",
      "|id |name|age|_change_type|_commit_version|_commit_timestamp      |\n",
      "+---+----+---+------------+---------------+-----------------------+\n",
      "|0  |Bob |23 |insert      |1              |2023-05-28 07:50:45.469|\n",
      "|1  |Sue |25 |insert      |1              |2023-05-28 07:50:45.469|\n",
      "|2  |Jim |27 |insert      |1              |2023-05-28 07:50:45.469|\n",
      "+---+----+---+------------+---------------+-----------------------+\n",
      "\n"
     ]
    }
   ],
   "source": [
    "spark.sql(\"SELECT * FROM table_changes('students', 0)\").show(truncate=False)"
   ]
  },
  {
   "cell_type": "markdown",
   "id": "ba108cea-2456-4d0a-aaca-6c314bb768ad",
   "metadata": {},
   "source": [
    "### Append more data"
   ]
  },
  {
   "cell_type": "code",
   "execution_count": 8,
   "id": "2c7d74f8-47a6-4e46-be11-8902ba1eab8a",
   "metadata": {},
   "outputs": [],
   "source": [
    "df = spark.createDataFrame([(5, \"Jack\", 18), (6, \"Nora\", 19), (7, \"Clare\", 20)]).toDF(\n",
    "    \"id\", \"name\", \"age\"\n",
    ")"
   ]
  },
  {
   "cell_type": "code",
   "execution_count": 9,
   "id": "284250d9-d397-4597-9b20-fed9fe49df60",
   "metadata": {},
   "outputs": [],
   "source": [
    "df.repartition(1).write.mode(\"append\").format(\"delta\").saveAsTable(\"students\")"
   ]
  },
  {
   "cell_type": "code",
   "execution_count": 10,
   "id": "674e1b2f-657e-461e-8733-521c17671d97",
   "metadata": {
    "tags": []
   },
   "outputs": [
    {
     "name": "stdout",
     "output_type": "stream",
     "text": [
      "+---+-----+---+\n",
      "| id| name|age|\n",
      "+---+-----+---+\n",
      "|  5| Jack| 18|\n",
      "|  6| Nora| 19|\n",
      "|  7|Clare| 20|\n",
      "|  0|  Bob| 23|\n",
      "|  1|  Sue| 25|\n",
      "|  2|  Jim| 27|\n",
      "+---+-----+---+\n",
      "\n"
     ]
    }
   ],
   "source": [
    "spark.sql(\"SELECT * FROM students\").show()"
   ]
  },
  {
   "cell_type": "code",
   "execution_count": 11,
   "id": "99466198-cfbf-4fed-9fc1-d130344f1a71",
   "metadata": {
    "tags": []
   },
   "outputs": [
    {
     "name": "stdout",
     "output_type": "stream",
     "text": [
      "+---+-----+---+------------+---------------+-----------------------+\n",
      "|id |name |age|_change_type|_commit_version|_commit_timestamp      |\n",
      "+---+-----+---+------------+---------------+-----------------------+\n",
      "|5  |Jack |18 |insert      |2              |2023-05-28 07:50:53.737|\n",
      "|6  |Nora |19 |insert      |2              |2023-05-28 07:50:53.737|\n",
      "|7  |Clare|20 |insert      |2              |2023-05-28 07:50:53.737|\n",
      "|0  |Bob  |23 |insert      |1              |2023-05-28 07:50:45.469|\n",
      "|1  |Sue  |25 |insert      |1              |2023-05-28 07:50:45.469|\n",
      "|2  |Jim  |27 |insert      |1              |2023-05-28 07:50:45.469|\n",
      "+---+-----+---+------------+---------------+-----------------------+\n",
      "\n"
     ]
    }
   ],
   "source": [
    "spark.sql(\"SELECT * FROM table_changes('students', 0)\").show(truncate=False)"
   ]
  },
  {
   "cell_type": "markdown",
   "id": "de360cbb-d5b6-4d7c-b230-85216d57a53d",
   "metadata": {},
   "source": [
    "### Delete rows of data"
   ]
  },
  {
   "cell_type": "code",
   "execution_count": 12,
   "id": "a4171b06-3cdb-4c7c-936e-96873a18a48d",
   "metadata": {},
   "outputs": [],
   "source": [
    "delta_table = DeltaTable.forName(spark, \"students\")"
   ]
  },
  {
   "cell_type": "code",
   "execution_count": 13,
   "id": "9cd08013-50fd-42f9-85c2-deba1e4d772e",
   "metadata": {},
   "outputs": [],
   "source": [
    "delta_table.delete(F.col(\"age\") > 20)"
   ]
  },
  {
   "cell_type": "code",
   "execution_count": 14,
   "id": "656ac4b6-01a7-4380-b92a-d8620dc4f2c5",
   "metadata": {
    "tags": []
   },
   "outputs": [
    {
     "name": "stdout",
     "output_type": "stream",
     "text": [
      "+---+-----+---+\n",
      "| id| name|age|\n",
      "+---+-----+---+\n",
      "|  5| Jack| 18|\n",
      "|  6| Nora| 19|\n",
      "|  7|Clare| 20|\n",
      "+---+-----+---+\n",
      "\n"
     ]
    }
   ],
   "source": [
    "spark.sql(\"SELECT * FROM students\").show()"
   ]
  },
  {
   "cell_type": "code",
   "execution_count": 15,
   "id": "1cfdb148-a5e1-44c0-b03a-169f466c13e0",
   "metadata": {},
   "outputs": [
    {
     "name": "stdout",
     "output_type": "stream",
     "text": [
      "+---+-----+---+------------+---------------+-----------------------+\n",
      "|id |name |age|_change_type|_commit_version|_commit_timestamp      |\n",
      "+---+-----+---+------------+---------------+-----------------------+\n",
      "|0  |Bob  |23 |delete      |3              |2023-05-28 07:50:59.026|\n",
      "|1  |Sue  |25 |delete      |3              |2023-05-28 07:50:59.026|\n",
      "|2  |Jim  |27 |delete      |3              |2023-05-28 07:50:59.026|\n",
      "|5  |Jack |18 |insert      |2              |2023-05-28 07:50:53.737|\n",
      "|6  |Nora |19 |insert      |2              |2023-05-28 07:50:53.737|\n",
      "|7  |Clare|20 |insert      |2              |2023-05-28 07:50:53.737|\n",
      "|0  |Bob  |23 |insert      |1              |2023-05-28 07:50:45.469|\n",
      "|1  |Sue  |25 |insert      |1              |2023-05-28 07:50:45.469|\n",
      "|2  |Jim  |27 |insert      |1              |2023-05-28 07:50:45.469|\n",
      "+---+-----+---+------------+---------------+-----------------------+\n",
      "\n"
     ]
    }
   ],
   "source": [
    "spark.sql(\"SELECT * FROM table_changes('students', 0)\").show(truncate=False)"
   ]
  },
  {
   "cell_type": "markdown",
   "id": "069411f9-fa0c-4dc1-90ef-292d69cc9483",
   "metadata": {},
   "source": [
    "## Query change data feed"
   ]
  },
  {
   "cell_type": "code",
   "execution_count": 16,
   "id": "53a55e92-5fea-42e0-8117-771be49dc3dc",
   "metadata": {},
   "outputs": [
    {
     "name": "stdout",
     "output_type": "stream",
     "text": [
      "+---+-----+---+------------+---------------+-----------------------+\n",
      "|id |name |age|_change_type|_commit_version|_commit_timestamp      |\n",
      "+---+-----+---+------------+---------------+-----------------------+\n",
      "|0  |Bob  |23 |delete      |3              |2023-05-28 07:50:59.026|\n",
      "|1  |Sue  |25 |delete      |3              |2023-05-28 07:50:59.026|\n",
      "|2  |Jim  |27 |delete      |3              |2023-05-28 07:50:59.026|\n",
      "|5  |Jack |18 |insert      |2              |2023-05-28 07:50:53.737|\n",
      "|6  |Nora |19 |insert      |2              |2023-05-28 07:50:53.737|\n",
      "|7  |Clare|20 |insert      |2              |2023-05-28 07:50:53.737|\n",
      "|0  |Bob  |23 |insert      |1              |2023-05-28 07:50:45.469|\n",
      "|1  |Sue  |25 |insert      |1              |2023-05-28 07:50:45.469|\n",
      "|2  |Jim  |27 |insert      |1              |2023-05-28 07:50:45.469|\n",
      "+---+-----+---+------------+---------------+-----------------------+\n",
      "\n"
     ]
    }
   ],
   "source": [
    "spark.sql(\"SELECT * FROM table_changes('students', 0)\").show(truncate=False)"
   ]
  },
  {
   "cell_type": "code",
   "execution_count": 17,
   "id": "cf91cb84-963e-4139-824e-b1af47c661b5",
   "metadata": {
    "tags": []
   },
   "outputs": [
    {
     "name": "stdout",
     "output_type": "stream",
     "text": [
      "+---+-----+---+------------+---------------+-----------------------+\n",
      "|id |name |age|_change_type|_commit_version|_commit_timestamp      |\n",
      "+---+-----+---+------------+---------------+-----------------------+\n",
      "|0  |Bob  |23 |delete      |3              |2023-05-28 07:50:59.026|\n",
      "|1  |Sue  |25 |delete      |3              |2023-05-28 07:50:59.026|\n",
      "|2  |Jim  |27 |delete      |3              |2023-05-28 07:50:59.026|\n",
      "|5  |Jack |18 |insert      |2              |2023-05-28 07:50:53.737|\n",
      "|6  |Nora |19 |insert      |2              |2023-05-28 07:50:53.737|\n",
      "|7  |Clare|20 |insert      |2              |2023-05-28 07:50:53.737|\n",
      "+---+-----+---+------------+---------------+-----------------------+\n",
      "\n"
     ]
    }
   ],
   "source": [
    "spark.sql(\"SELECT * FROM table_changes('students', 2, 3)\").show(truncate=False)"
   ]
  },
  {
   "cell_type": "markdown",
   "id": "4c22a2c3-9e8b-4a31-a391-8793f02cc9f9",
   "metadata": {},
   "source": [
    "## Cleanup"
   ]
  },
  {
   "cell_type": "code",
   "execution_count": 18,
   "id": "7ffc5d51-f592-4965-956b-4b0ccaa65566",
   "metadata": {
    "tags": []
   },
   "outputs": [
    {
     "data": {
      "text/plain": [
       "DataFrame[]"
      ]
     },
     "execution_count": 18,
     "metadata": {},
     "output_type": "execute_result"
    }
   ],
   "source": [
    "spark.sql(\"DROP TABLE IF EXISTS students\")"
   ]
  },
  {
   "cell_type": "markdown",
   "id": "2d0d5ecb-1a28-4d3a-bc07-1503cddc4226",
   "metadata": {},
   "source": [
    "## Create a minimal example"
   ]
  },
  {
   "cell_type": "code",
   "execution_count": 19,
   "id": "b0fad253-8365-4672-9e09-6e99d18261cf",
   "metadata": {
    "tags": []
   },
   "outputs": [
    {
     "data": {
      "text/plain": [
       "DataFrame[]"
      ]
     },
     "execution_count": 19,
     "metadata": {},
     "output_type": "execute_result"
    }
   ],
   "source": [
    "spark.sql(\n",
    "    \"CREATE TABLE people (first_name STRING, age LONG) USING delta TBLPROPERTIES (delta.enableChangeDataFeed = true)\"\n",
    ")"
   ]
  },
  {
   "cell_type": "code",
   "execution_count": 20,
   "id": "f881c7e1-0149-4463-86a8-43bd73c3a6b7",
   "metadata": {},
   "outputs": [],
   "source": [
    "df = spark.createDataFrame([(\"Bob\", 23), (\"Sue\", 25), (\"Jim\", 27)]).toDF(\n",
    "    \"first_name\", \"age\"\n",
    ")"
   ]
  },
  {
   "cell_type": "code",
   "execution_count": 21,
   "id": "d714e760-3d48-4189-9b5f-fb4e6c957387",
   "metadata": {
    "tags": []
   },
   "outputs": [
    {
     "name": "stdout",
     "output_type": "stream",
     "text": [
      "+----------+---+\n",
      "|first_name|age|\n",
      "+----------+---+\n",
      "|       Bob| 23|\n",
      "|       Sue| 25|\n",
      "|       Jim| 27|\n",
      "+----------+---+\n",
      "\n"
     ]
    }
   ],
   "source": [
    "df.show()"
   ]
  },
  {
   "cell_type": "code",
   "execution_count": 22,
   "id": "ba14c0fa-58db-4a53-bcd9-213fac4da0a4",
   "metadata": {
    "tags": []
   },
   "outputs": [],
   "source": [
    "df.repartition(1).write.mode(\"append\").format(\"delta\").saveAsTable(\"people\")"
   ]
  },
  {
   "cell_type": "code",
   "execution_count": 23,
   "id": "047d1c24-6a0f-41d9-ac58-ad9bbbd39dc9",
   "metadata": {
    "tags": []
   },
   "outputs": [],
   "source": [
    "delta_table = DeltaTable.forName(spark, \"people\")"
   ]
  },
  {
   "cell_type": "code",
   "execution_count": 24,
   "id": "e304b4f4-fffe-47d3-9f75-1acd43ffac3f",
   "metadata": {
    "tags": []
   },
   "outputs": [],
   "source": [
    "delta_table.delete(F.col(\"first_name\") == \"Sue\")"
   ]
  },
  {
   "cell_type": "code",
   "execution_count": 25,
   "id": "460dc08e-cfc7-4f2a-be82-7b98d3e1daa8",
   "metadata": {
    "tags": []
   },
   "outputs": [
    {
     "name": "stdout",
     "output_type": "stream",
     "text": [
      "+----------+---+------------+---------------+-----------------------+\n",
      "|first_name|age|_change_type|_commit_version|_commit_timestamp      |\n",
      "+----------+---+------------+---------------+-----------------------+\n",
      "|Sue       |25 |delete      |2              |2023-05-28 07:51:36.929|\n",
      "|Bob       |23 |insert      |1              |2023-05-28 07:51:31.661|\n",
      "|Sue       |25 |insert      |1              |2023-05-28 07:51:31.661|\n",
      "|Jim       |27 |insert      |1              |2023-05-28 07:51:31.661|\n",
      "+----------+---+------------+---------------+-----------------------+\n",
      "\n"
     ]
    }
   ],
   "source": [
    "(\n",
    "    spark.read.format(\"delta\")\n",
    "    .option(\"readChangeFeed\", \"true\")\n",
    "    .option(\"startingVersion\", 0)\n",
    "    .table(\"people\")\n",
    "    .show(truncate=False)\n",
    ")"
   ]
  },
  {
   "cell_type": "code",
   "execution_count": 26,
   "id": "73c4ab03-b1a4-451c-b594-475c9d23a7b8",
   "metadata": {},
   "outputs": [
    {
     "name": "stdout",
     "output_type": "stream",
     "text": [
      "\u001b[01;34mspark-warehouse/people\u001b[0m\n",
      "├── \u001b[01;34m_change_data\u001b[0m\n",
      "│   └── \u001b[00mcdc-00000-1fedcc32-6734-48c2-ab4e-97c5ba65f2f4.c000.snappy.parquet\u001b[0m\n",
      "├── \u001b[01;34m_delta_log\u001b[0m\n",
      "│   ├── \u001b[00m00000000000000000000.json\u001b[0m\n",
      "│   ├── \u001b[00m00000000000000000001.json\u001b[0m\n",
      "│   └── \u001b[00m00000000000000000002.json\u001b[0m\n",
      "├── \u001b[00mpart-00000-a90e51ff-c595-47d2-a2b3-c1c161102e8e-c000.snappy.parquet\u001b[0m\n",
      "└── \u001b[00mpart-00000-edd0d32f-3a48-416a-8f3b-bcce9eb5aa25.c000.snappy.parquet\u001b[0m\n",
      "\n",
      "2 directories, 6 files\n"
     ]
    }
   ],
   "source": [
    "!tree spark-warehouse/people"
   ]
  },
  {
   "cell_type": "code",
   "execution_count": 28,
   "id": "d925eb46-c567-4a88-9e69-f93d1118d37d",
   "metadata": {},
   "outputs": [
    {
     "name": "stdout",
     "output_type": "stream",
     "text": [
      "\u001b[1;39m{\n",
      "  \u001b[0m\u001b[34;1m\"commitInfo\"\u001b[0m\u001b[1;39m: \u001b[0m\u001b[1;39m{\n",
      "    \u001b[0m\u001b[34;1m\"timestamp\"\u001b[0m\u001b[1;39m: \u001b[0m\u001b[0;39m1685274681713\u001b[0m\u001b[1;39m,\n",
      "    \u001b[0m\u001b[34;1m\"operation\"\u001b[0m\u001b[1;39m: \u001b[0m\u001b[0;32m\"CREATE TABLE\"\u001b[0m\u001b[1;39m,\n",
      "    \u001b[0m\u001b[34;1m\"operationParameters\"\u001b[0m\u001b[1;39m: \u001b[0m\u001b[1;39m{\n",
      "      \u001b[0m\u001b[34;1m\"isManaged\"\u001b[0m\u001b[1;39m: \u001b[0m\u001b[0;32m\"true\"\u001b[0m\u001b[1;39m,\n",
      "      \u001b[0m\u001b[34;1m\"description\"\u001b[0m\u001b[1;39m: \u001b[0m\u001b[1;30mnull\u001b[0m\u001b[1;39m,\n",
      "      \u001b[0m\u001b[34;1m\"partitionBy\"\u001b[0m\u001b[1;39m: \u001b[0m\u001b[0;32m\"[]\"\u001b[0m\u001b[1;39m,\n",
      "      \u001b[0m\u001b[34;1m\"properties\"\u001b[0m\u001b[1;39m: \u001b[0m\u001b[0;32m\"{\\\"delta.enableChangeDataFeed\\\":\\\"true\\\"}\"\u001b[0m\u001b[1;39m\n",
      "    \u001b[1;39m}\u001b[0m\u001b[1;39m,\n",
      "    \u001b[0m\u001b[34;1m\"isolationLevel\"\u001b[0m\u001b[1;39m: \u001b[0m\u001b[0;32m\"Serializable\"\u001b[0m\u001b[1;39m,\n",
      "    \u001b[0m\u001b[34;1m\"isBlindAppend\"\u001b[0m\u001b[1;39m: \u001b[0m\u001b[0;39mtrue\u001b[0m\u001b[1;39m,\n",
      "    \u001b[0m\u001b[34;1m\"operationMetrics\"\u001b[0m\u001b[1;39m: \u001b[0m\u001b[1;39m{}\u001b[0m\u001b[1;39m,\n",
      "    \u001b[0m\u001b[34;1m\"engineInfo\"\u001b[0m\u001b[1;39m: \u001b[0m\u001b[0;32m\"Apache-Spark/3.3.2 Delta-Lake/2.3.0\"\u001b[0m\u001b[1;39m,\n",
      "    \u001b[0m\u001b[34;1m\"txnId\"\u001b[0m\u001b[1;39m: \u001b[0m\u001b[0;32m\"084e0e38-f3a2-4049-bca4-72b0b0f60428\"\u001b[0m\u001b[1;39m\n",
      "  \u001b[1;39m}\u001b[0m\u001b[1;39m\n",
      "\u001b[1;39m}\u001b[0m\n",
      "\u001b[1;39m{\n",
      "  \u001b[0m\u001b[34;1m\"protocol\"\u001b[0m\u001b[1;39m: \u001b[0m\u001b[1;39m{\n",
      "    \u001b[0m\u001b[34;1m\"minReaderVersion\"\u001b[0m\u001b[1;39m: \u001b[0m\u001b[0;39m1\u001b[0m\u001b[1;39m,\n",
      "    \u001b[0m\u001b[34;1m\"minWriterVersion\"\u001b[0m\u001b[1;39m: \u001b[0m\u001b[0;39m4\u001b[0m\u001b[1;39m\n",
      "  \u001b[1;39m}\u001b[0m\u001b[1;39m\n",
      "\u001b[1;39m}\u001b[0m\n",
      "\u001b[1;39m{\n",
      "  \u001b[0m\u001b[34;1m\"metaData\"\u001b[0m\u001b[1;39m: \u001b[0m\u001b[1;39m{\n",
      "    \u001b[0m\u001b[34;1m\"id\"\u001b[0m\u001b[1;39m: \u001b[0m\u001b[0;32m\"c32d622d-5293-4ab0-82c1-bbc51275229a\"\u001b[0m\u001b[1;39m,\n",
      "    \u001b[0m\u001b[34;1m\"format\"\u001b[0m\u001b[1;39m: \u001b[0m\u001b[1;39m{\n",
      "      \u001b[0m\u001b[34;1m\"provider\"\u001b[0m\u001b[1;39m: \u001b[0m\u001b[0;32m\"parquet\"\u001b[0m\u001b[1;39m,\n",
      "      \u001b[0m\u001b[34;1m\"options\"\u001b[0m\u001b[1;39m: \u001b[0m\u001b[1;39m{}\u001b[0m\u001b[1;39m\n",
      "    \u001b[1;39m}\u001b[0m\u001b[1;39m,\n",
      "    \u001b[0m\u001b[34;1m\"schemaString\"\u001b[0m\u001b[1;39m: \u001b[0m\u001b[0;32m\"{\\\"type\\\":\\\"struct\\\",\\\"fields\\\":[{\\\"name\\\":\\\"first_name\\\",\\\"type\\\":\\\"string\\\",\\\"nullable\\\":true,\\\"metadata\\\":{}},{\\\"name\\\":\\\"age\\\",\\\"type\\\":\\\"long\\\",\\\"nullable\\\":true,\\\"metadata\\\":{}}]}\"\u001b[0m\u001b[1;39m,\n",
      "    \u001b[0m\u001b[34;1m\"partitionColumns\"\u001b[0m\u001b[1;39m: \u001b[0m\u001b[1;39m[]\u001b[0m\u001b[1;39m,\n",
      "    \u001b[0m\u001b[34;1m\"configuration\"\u001b[0m\u001b[1;39m: \u001b[0m\u001b[1;39m{\n",
      "      \u001b[0m\u001b[34;1m\"delta.enableChangeDataFeed\"\u001b[0m\u001b[1;39m: \u001b[0m\u001b[0;32m\"true\"\u001b[0m\u001b[1;39m\n",
      "    \u001b[1;39m}\u001b[0m\u001b[1;39m,\n",
      "    \u001b[0m\u001b[34;1m\"createdTime\"\u001b[0m\u001b[1;39m: \u001b[0m\u001b[0;39m1685274681678\u001b[0m\u001b[1;39m\n",
      "  \u001b[1;39m}\u001b[0m\u001b[1;39m\n",
      "\u001b[1;39m}\u001b[0m\n"
     ]
    }
   ],
   "source": [
    "!jq . spark-warehouse/people/_delta_log/00000000000000000000.json"
   ]
  },
  {
   "cell_type": "code",
   "execution_count": 29,
   "id": "ac8d390e-91d5-4b4c-8d52-306e1004dee7",
   "metadata": {},
   "outputs": [
    {
     "name": "stdout",
     "output_type": "stream",
     "text": [
      "\u001b[1;39m{\n",
      "  \u001b[0m\u001b[34;1m\"commitInfo\"\u001b[0m\u001b[1;39m: \u001b[0m\u001b[1;39m{\n",
      "    \u001b[0m\u001b[34;1m\"timestamp\"\u001b[0m\u001b[1;39m: \u001b[0m\u001b[0;39m1685274691639\u001b[0m\u001b[1;39m,\n",
      "    \u001b[0m\u001b[34;1m\"operation\"\u001b[0m\u001b[1;39m: \u001b[0m\u001b[0;32m\"WRITE\"\u001b[0m\u001b[1;39m,\n",
      "    \u001b[0m\u001b[34;1m\"operationParameters\"\u001b[0m\u001b[1;39m: \u001b[0m\u001b[1;39m{\n",
      "      \u001b[0m\u001b[34;1m\"mode\"\u001b[0m\u001b[1;39m: \u001b[0m\u001b[0;32m\"Append\"\u001b[0m\u001b[1;39m,\n",
      "      \u001b[0m\u001b[34;1m\"partitionBy\"\u001b[0m\u001b[1;39m: \u001b[0m\u001b[0;32m\"[]\"\u001b[0m\u001b[1;39m\n",
      "    \u001b[1;39m}\u001b[0m\u001b[1;39m,\n",
      "    \u001b[0m\u001b[34;1m\"readVersion\"\u001b[0m\u001b[1;39m: \u001b[0m\u001b[0;39m0\u001b[0m\u001b[1;39m,\n",
      "    \u001b[0m\u001b[34;1m\"isolationLevel\"\u001b[0m\u001b[1;39m: \u001b[0m\u001b[0;32m\"Serializable\"\u001b[0m\u001b[1;39m,\n",
      "    \u001b[0m\u001b[34;1m\"isBlindAppend\"\u001b[0m\u001b[1;39m: \u001b[0m\u001b[0;39mtrue\u001b[0m\u001b[1;39m,\n",
      "    \u001b[0m\u001b[34;1m\"operationMetrics\"\u001b[0m\u001b[1;39m: \u001b[0m\u001b[1;39m{\n",
      "      \u001b[0m\u001b[34;1m\"numFiles\"\u001b[0m\u001b[1;39m: \u001b[0m\u001b[0;32m\"1\"\u001b[0m\u001b[1;39m,\n",
      "      \u001b[0m\u001b[34;1m\"numOutputRows\"\u001b[0m\u001b[1;39m: \u001b[0m\u001b[0;32m\"3\"\u001b[0m\u001b[1;39m,\n",
      "      \u001b[0m\u001b[34;1m\"numOutputBytes\"\u001b[0m\u001b[1;39m: \u001b[0m\u001b[0;32m\"743\"\u001b[0m\u001b[1;39m\n",
      "    \u001b[1;39m}\u001b[0m\u001b[1;39m,\n",
      "    \u001b[0m\u001b[34;1m\"engineInfo\"\u001b[0m\u001b[1;39m: \u001b[0m\u001b[0;32m\"Apache-Spark/3.3.2 Delta-Lake/2.3.0\"\u001b[0m\u001b[1;39m,\n",
      "    \u001b[0m\u001b[34;1m\"txnId\"\u001b[0m\u001b[1;39m: \u001b[0m\u001b[0;32m\"ea3d4d4e-313a-406e-84f0-25edbfbd1d2d\"\u001b[0m\u001b[1;39m\n",
      "  \u001b[1;39m}\u001b[0m\u001b[1;39m\n",
      "\u001b[1;39m}\u001b[0m\n",
      "\u001b[1;39m{\n",
      "  \u001b[0m\u001b[34;1m\"add\"\u001b[0m\u001b[1;39m: \u001b[0m\u001b[1;39m{\n",
      "    \u001b[0m\u001b[34;1m\"path\"\u001b[0m\u001b[1;39m: \u001b[0m\u001b[0;32m\"part-00000-a90e51ff-c595-47d2-a2b3-c1c161102e8e-c000.snappy.parquet\"\u001b[0m\u001b[1;39m,\n",
      "    \u001b[0m\u001b[34;1m\"partitionValues\"\u001b[0m\u001b[1;39m: \u001b[0m\u001b[1;39m{}\u001b[0m\u001b[1;39m,\n",
      "    \u001b[0m\u001b[34;1m\"size\"\u001b[0m\u001b[1;39m: \u001b[0m\u001b[0;39m743\u001b[0m\u001b[1;39m,\n",
      "    \u001b[0m\u001b[34;1m\"modificationTime\"\u001b[0m\u001b[1;39m: \u001b[0m\u001b[0;39m1685274691636\u001b[0m\u001b[1;39m,\n",
      "    \u001b[0m\u001b[34;1m\"dataChange\"\u001b[0m\u001b[1;39m: \u001b[0m\u001b[0;39mtrue\u001b[0m\u001b[1;39m,\n",
      "    \u001b[0m\u001b[34;1m\"stats\"\u001b[0m\u001b[1;39m: \u001b[0m\u001b[0;32m\"{\\\"numRecords\\\":3,\\\"minValues\\\":{\\\"first_name\\\":\\\"Bob\\\",\\\"age\\\":23},\\\"maxValues\\\":{\\\"first_name\\\":\\\"Sue\\\",\\\"age\\\":27},\\\"nullCount\\\":{\\\"first_name\\\":0,\\\"age\\\":0}}\"\u001b[0m\u001b[1;39m\n",
      "  \u001b[1;39m}\u001b[0m\u001b[1;39m\n",
      "\u001b[1;39m}\u001b[0m\n"
     ]
    }
   ],
   "source": [
    "!jq . spark-warehouse/people/_delta_log/00000000000000000001.json"
   ]
  },
  {
   "cell_type": "code",
   "execution_count": 27,
   "id": "89567e3c-690a-4efb-8f4e-84c7a17f8475",
   "metadata": {},
   "outputs": [
    {
     "name": "stdout",
     "output_type": "stream",
     "text": [
      "\u001b[1;39m{\n",
      "  \u001b[0m\u001b[34;1m\"commitInfo\"\u001b[0m\u001b[1;39m: \u001b[0m\u001b[1;39m{\n",
      "    \u001b[0m\u001b[34;1m\"timestamp\"\u001b[0m\u001b[1;39m: \u001b[0m\u001b[0;39m1685274696904\u001b[0m\u001b[1;39m,\n",
      "    \u001b[0m\u001b[34;1m\"operation\"\u001b[0m\u001b[1;39m: \u001b[0m\u001b[0;32m\"DELETE\"\u001b[0m\u001b[1;39m,\n",
      "    \u001b[0m\u001b[34;1m\"operationParameters\"\u001b[0m\u001b[1;39m: \u001b[0m\u001b[1;39m{\n",
      "      \u001b[0m\u001b[34;1m\"predicate\"\u001b[0m\u001b[1;39m: \u001b[0m\u001b[0;32m\"[\\\"(spark_catalog.default.people.first_name = 'Sue')\\\"]\"\u001b[0m\u001b[1;39m\n",
      "    \u001b[1;39m}\u001b[0m\u001b[1;39m,\n",
      "    \u001b[0m\u001b[34;1m\"readVersion\"\u001b[0m\u001b[1;39m: \u001b[0m\u001b[0;39m1\u001b[0m\u001b[1;39m,\n",
      "    \u001b[0m\u001b[34;1m\"isolationLevel\"\u001b[0m\u001b[1;39m: \u001b[0m\u001b[0;32m\"Serializable\"\u001b[0m\u001b[1;39m,\n",
      "    \u001b[0m\u001b[34;1m\"isBlindAppend\"\u001b[0m\u001b[1;39m: \u001b[0m\u001b[0;39mfalse\u001b[0m\u001b[1;39m,\n",
      "    \u001b[0m\u001b[34;1m\"operationMetrics\"\u001b[0m\u001b[1;39m: \u001b[0m\u001b[1;39m{\n",
      "      \u001b[0m\u001b[34;1m\"numRemovedFiles\"\u001b[0m\u001b[1;39m: \u001b[0m\u001b[0;32m\"1\"\u001b[0m\u001b[1;39m,\n",
      "      \u001b[0m\u001b[34;1m\"numRemovedBytes\"\u001b[0m\u001b[1;39m: \u001b[0m\u001b[0;32m\"743\"\u001b[0m\u001b[1;39m,\n",
      "      \u001b[0m\u001b[34;1m\"numCopiedRows\"\u001b[0m\u001b[1;39m: \u001b[0m\u001b[0;32m\"2\"\u001b[0m\u001b[1;39m,\n",
      "      \u001b[0m\u001b[34;1m\"numAddedChangeFiles\"\u001b[0m\u001b[1;39m: \u001b[0m\u001b[0;32m\"1\"\u001b[0m\u001b[1;39m,\n",
      "      \u001b[0m\u001b[34;1m\"executionTimeMs\"\u001b[0m\u001b[1;39m: \u001b[0m\u001b[0;32m\"446\"\u001b[0m\u001b[1;39m,\n",
      "      \u001b[0m\u001b[34;1m\"numDeletedRows\"\u001b[0m\u001b[1;39m: \u001b[0m\u001b[0;32m\"1\"\u001b[0m\u001b[1;39m,\n",
      "      \u001b[0m\u001b[34;1m\"scanTimeMs\"\u001b[0m\u001b[1;39m: \u001b[0m\u001b[0;32m\"254\"\u001b[0m\u001b[1;39m,\n",
      "      \u001b[0m\u001b[34;1m\"numAddedFiles\"\u001b[0m\u001b[1;39m: \u001b[0m\u001b[0;32m\"1\"\u001b[0m\u001b[1;39m,\n",
      "      \u001b[0m\u001b[34;1m\"numAddedBytes\"\u001b[0m\u001b[1;39m: \u001b[0m\u001b[0;32m\"948\"\u001b[0m\u001b[1;39m,\n",
      "      \u001b[0m\u001b[34;1m\"rewriteTimeMs\"\u001b[0m\u001b[1;39m: \u001b[0m\u001b[0;32m\"192\"\u001b[0m\u001b[1;39m\n",
      "    \u001b[1;39m}\u001b[0m\u001b[1;39m,\n",
      "    \u001b[0m\u001b[34;1m\"engineInfo\"\u001b[0m\u001b[1;39m: \u001b[0m\u001b[0;32m\"Apache-Spark/3.3.2 Delta-Lake/2.3.0\"\u001b[0m\u001b[1;39m,\n",
      "    \u001b[0m\u001b[34;1m\"txnId\"\u001b[0m\u001b[1;39m: \u001b[0m\u001b[0;32m\"be48d333-325b-4bc9-a920-f6116b989b3d\"\u001b[0m\u001b[1;39m\n",
      "  \u001b[1;39m}\u001b[0m\u001b[1;39m\n",
      "\u001b[1;39m}\u001b[0m\n",
      "\u001b[1;39m{\n",
      "  \u001b[0m\u001b[34;1m\"remove\"\u001b[0m\u001b[1;39m: \u001b[0m\u001b[1;39m{\n",
      "    \u001b[0m\u001b[34;1m\"path\"\u001b[0m\u001b[1;39m: \u001b[0m\u001b[0;32m\"part-00000-a90e51ff-c595-47d2-a2b3-c1c161102e8e-c000.snappy.parquet\"\u001b[0m\u001b[1;39m,\n",
      "    \u001b[0m\u001b[34;1m\"deletionTimestamp\"\u001b[0m\u001b[1;39m: \u001b[0m\u001b[0;39m1685274696904\u001b[0m\u001b[1;39m,\n",
      "    \u001b[0m\u001b[34;1m\"dataChange\"\u001b[0m\u001b[1;39m: \u001b[0m\u001b[0;39mtrue\u001b[0m\u001b[1;39m,\n",
      "    \u001b[0m\u001b[34;1m\"extendedFileMetadata\"\u001b[0m\u001b[1;39m: \u001b[0m\u001b[0;39mtrue\u001b[0m\u001b[1;39m,\n",
      "    \u001b[0m\u001b[34;1m\"partitionValues\"\u001b[0m\u001b[1;39m: \u001b[0m\u001b[1;39m{}\u001b[0m\u001b[1;39m,\n",
      "    \u001b[0m\u001b[34;1m\"size\"\u001b[0m\u001b[1;39m: \u001b[0m\u001b[0;39m743\u001b[0m\u001b[1;39m\n",
      "  \u001b[1;39m}\u001b[0m\u001b[1;39m\n",
      "\u001b[1;39m}\u001b[0m\n",
      "\u001b[1;39m{\n",
      "  \u001b[0m\u001b[34;1m\"add\"\u001b[0m\u001b[1;39m: \u001b[0m\u001b[1;39m{\n",
      "    \u001b[0m\u001b[34;1m\"path\"\u001b[0m\u001b[1;39m: \u001b[0m\u001b[0;32m\"part-00000-edd0d32f-3a48-416a-8f3b-bcce9eb5aa25.c000.snappy.parquet\"\u001b[0m\u001b[1;39m,\n",
      "    \u001b[0m\u001b[34;1m\"partitionValues\"\u001b[0m\u001b[1;39m: \u001b[0m\u001b[1;39m{}\u001b[0m\u001b[1;39m,\n",
      "    \u001b[0m\u001b[34;1m\"size\"\u001b[0m\u001b[1;39m: \u001b[0m\u001b[0;39m948\u001b[0m\u001b[1;39m,\n",
      "    \u001b[0m\u001b[34;1m\"modificationTime\"\u001b[0m\u001b[1;39m: \u001b[0m\u001b[0;39m1685274696865\u001b[0m\u001b[1;39m,\n",
      "    \u001b[0m\u001b[34;1m\"dataChange\"\u001b[0m\u001b[1;39m: \u001b[0m\u001b[0;39mtrue\u001b[0m\u001b[1;39m,\n",
      "    \u001b[0m\u001b[34;1m\"stats\"\u001b[0m\u001b[1;39m: \u001b[0m\u001b[0;32m\"{\\\"numRecords\\\":2,\\\"minValues\\\":{\\\"first_name\\\":\\\"Bob\\\",\\\"age\\\":23},\\\"maxValues\\\":{\\\"first_name\\\":\\\"Jim\\\",\\\"age\\\":27},\\\"nullCount\\\":{\\\"first_name\\\":0,\\\"age\\\":0}}\"\u001b[0m\u001b[1;39m\n",
      "  \u001b[1;39m}\u001b[0m\u001b[1;39m\n",
      "\u001b[1;39m}\u001b[0m\n",
      "\u001b[1;39m{\n",
      "  \u001b[0m\u001b[34;1m\"cdc\"\u001b[0m\u001b[1;39m: \u001b[0m\u001b[1;39m{\n",
      "    \u001b[0m\u001b[34;1m\"path\"\u001b[0m\u001b[1;39m: \u001b[0m\u001b[0;32m\"_change_data/cdc-00000-1fedcc32-6734-48c2-ab4e-97c5ba65f2f4.c000.snappy.parquet\"\u001b[0m\u001b[1;39m,\n",
      "    \u001b[0m\u001b[34;1m\"partitionValues\"\u001b[0m\u001b[1;39m: \u001b[0m\u001b[1;39m{}\u001b[0m\u001b[1;39m,\n",
      "    \u001b[0m\u001b[34;1m\"size\"\u001b[0m\u001b[1;39m: \u001b[0m\u001b[0;39m997\u001b[0m\u001b[1;39m,\n",
      "    \u001b[0m\u001b[34;1m\"dataChange\"\u001b[0m\u001b[1;39m: \u001b[0m\u001b[0;39mfalse\u001b[0m\u001b[1;39m\n",
      "  \u001b[1;39m}\u001b[0m\u001b[1;39m\n",
      "\u001b[1;39m}\u001b[0m\n"
     ]
    }
   ],
   "source": [
    "!jq . spark-warehouse/people/_delta_log/00000000000000000002.json"
   ]
  },
  {
   "cell_type": "code",
   "execution_count": 31,
   "id": "63b006a3-138f-464e-81dc-d4e2560f027b",
   "metadata": {},
   "outputs": [
    {
     "name": "stdout",
     "output_type": "stream",
     "text": [
      "+----------+---+------------+\n",
      "|first_name|age|_change_type|\n",
      "+----------+---+------------+\n",
      "|       Sue| 25|      delete|\n",
      "+----------+---+------------+\n",
      "\n"
     ]
    }
   ],
   "source": [
    "spark.read.parquet(\n",
    "    \"spark-warehouse/people/_change_data/cdc-00000-1fedcc32-6734-48c2-ab4e-97c5ba65f2f4.c000.snappy.parquet\"\n",
    ").show()"
   ]
  },
  {
   "cell_type": "markdown",
   "id": "c12180f9-35ce-4cce-aff2-1be6525bf26f",
   "metadata": {},
   "source": [
    "## Intelligent incremental updates with the Change Data Feed"
   ]
  },
  {
   "cell_type": "code",
   "execution_count": 2,
   "id": "e76cad88-0273-4a7d-a3f4-34598b8614bc",
   "metadata": {},
   "outputs": [],
   "source": [
    "import datetime"
   ]
  },
  {
   "cell_type": "code",
   "execution_count": 25,
   "id": "d04ced6c-2a0c-4765-9bce-7a17e51efce2",
   "metadata": {},
   "outputs": [
    {
     "data": {
      "text/plain": [
       "DataFrame[]"
      ]
     },
     "execution_count": 25,
     "metadata": {},
     "output_type": "execute_result"
    }
   ],
   "source": [
    "spark.sql(\n",
    "    \"\"\"\n",
    "CREATE TABLE IF NOT EXISTS customer_purchases (customer_id LONG, transaction_date DATE, price DOUBLE) \n",
    "USING delta \n",
    "TBLPROPERTIES (delta.enableChangeDataFeed = true)\n",
    "\"\"\"\n",
    ")"
   ]
  },
  {
   "cell_type": "code",
   "execution_count": 26,
   "id": "7bc27598-1bc5-40a3-8fc3-6f5dae08263f",
   "metadata": {},
   "outputs": [],
   "source": [
    "df = spark.createDataFrame(\n",
    "    [\n",
    "        (1, datetime.date(2023, 1, 1), 2.1),\n",
    "        (2, datetime.date(2023, 1, 5), 3.2),\n",
    "        (3, datetime.date(2023, 1, 8), 4.4),\n",
    "        (1, datetime.date(2023, 1, 8), 5.5),\n",
    "    ]\n",
    ").toDF(\"customer_id\", \"transaction_date\", \"price\")"
   ]
  },
  {
   "cell_type": "code",
   "execution_count": 27,
   "id": "4a3d3e73-82a5-4697-b6cc-2fd8fd68436c",
   "metadata": {},
   "outputs": [],
   "source": [
    "df.write.mode(\"append\").format(\"delta\").saveAsTable(\"customer_purchases\")"
   ]
  },
  {
   "cell_type": "code",
   "execution_count": 28,
   "id": "12ea2d9f-e87a-41c0-b718-2faadac179a3",
   "metadata": {},
   "outputs": [
    {
     "name": "stdout",
     "output_type": "stream",
     "text": [
      "+-----------+----------------+-----+\n",
      "|customer_id|transaction_date|price|\n",
      "+-----------+----------------+-----+\n",
      "|          1|      2023-01-01|  2.1|\n",
      "|          3|      2023-01-08|  4.4|\n",
      "|          2|      2023-01-05|  3.2|\n",
      "|          1|      2023-01-08|  5.5|\n",
      "+-----------+----------------+-----+\n",
      "\n"
     ]
    }
   ],
   "source": [
    "spark.table(\"customer_purchases\").show()"
   ]
  },
  {
   "cell_type": "code",
   "execution_count": 29,
   "id": "0a13dc71-74ae-42c7-b360-bf6c67deabc0",
   "metadata": {},
   "outputs": [
    {
     "data": {
      "text/plain": [
       "DataFrame[]"
      ]
     },
     "execution_count": 29,
     "metadata": {},
     "output_type": "execute_result"
    }
   ],
   "source": [
    "spark.sql(\n",
    "    \"\"\"\n",
    "CREATE TABLE IF NOT EXISTS cumulative_purchases (customer_id LONG, last_transaction DATE, purchases DOUBLE) \n",
    "USING delta \n",
    "\"\"\"\n",
    ")"
   ]
  },
  {
   "cell_type": "code",
   "execution_count": 8,
   "id": "bfd65ccb-d479-47cf-ad1c-bd1df71faf04",
   "metadata": {},
   "outputs": [],
   "source": [
    "# initially populate the cumulative_purchases table"
   ]
  },
  {
   "cell_type": "code",
   "execution_count": 9,
   "id": "8f99f3a2-4675-4ecf-b499-e23c1905b50c",
   "metadata": {},
   "outputs": [],
   "source": [
    "def agg_customer_purchases(df):\n",
    "    return df.groupBy(\"customer_id\").agg(\n",
    "        F.max(\"transaction_date\").alias(\"last_transaction\"),\n",
    "        F.sum(\"price\").alias(\"purchases\"),\n",
    "    )"
   ]
  },
  {
   "cell_type": "code",
   "execution_count": 42,
   "id": "47964065-8351-4e81-8c3b-29aeb482f8c6",
   "metadata": {},
   "outputs": [
    {
     "name": "stdout",
     "output_type": "stream",
     "text": [
      "+-----------+----------------+-----+\n",
      "|customer_id|transaction_date|price|\n",
      "+-----------+----------------+-----+\n",
      "|          1|      2023-01-01|  2.1|\n",
      "|          3|      2023-01-08|  4.4|\n",
      "|          2|      2023-01-05|  3.2|\n",
      "|          1|      2023-01-08|  5.5|\n",
      "+-----------+----------------+-----+\n",
      "\n"
     ]
    }
   ],
   "source": [
    "spark.table(\"customer_purchases\").show()"
   ]
  },
  {
   "cell_type": "code",
   "execution_count": 43,
   "id": "28905960-83d2-453d-b839-6aa260f8672b",
   "metadata": {},
   "outputs": [
    {
     "name": "stdout",
     "output_type": "stream",
     "text": [
      "+-----------+----------------+---------+\n",
      "|customer_id|last_transaction|purchases|\n",
      "+-----------+----------------+---------+\n",
      "+-----------+----------------+---------+\n",
      "\n"
     ]
    }
   ],
   "source": [
    "spark.sql(\"select * from cumulative_purchases\").show()"
   ]
  },
  {
   "cell_type": "code",
   "execution_count": 45,
   "id": "9d0e7ab6-e63b-40ae-b222-b09fcf4e7bae",
   "metadata": {},
   "outputs": [],
   "source": [
    "# initial write to cumulative_purchases\n",
    "spark.table(\"customer_purchases\").transform(agg_customer_purchases).write.format(\n",
    "    \"delta\"\n",
    ").mode(\"append\").saveAsTable(\"cumulative_purchases\")"
   ]
  },
  {
   "cell_type": "code",
   "execution_count": 46,
   "id": "05ed77e8-3d22-4a8e-b07b-20d22db0d965",
   "metadata": {},
   "outputs": [
    {
     "name": "stdout",
     "output_type": "stream",
     "text": [
      "+-----------+----------------+---------+\n",
      "|customer_id|last_transaction|purchases|\n",
      "+-----------+----------------+---------+\n",
      "|          1|      2023-01-08|      7.6|\n",
      "|          3|      2023-01-08|      4.4|\n",
      "|          2|      2023-01-05|      3.2|\n",
      "+-----------+----------------+---------+\n",
      "\n"
     ]
    }
   ],
   "source": [
    "spark.sql(\"select * from cumulative_purchases\").show()"
   ]
  },
  {
   "cell_type": "code",
   "execution_count": 53,
   "id": "dda91cc9-1339-4b86-a3d8-5dfaa2476419",
   "metadata": {},
   "outputs": [],
   "source": [
    "# another set of purchases\n",
    "df = spark.createDataFrame(\n",
    "    [\n",
    "        (1, datetime.date(2023, 1, 1), 2.1),  # duplicate transaction from earlier\n",
    "        (1, datetime.date(2023, 1, 12), 10.1),\n",
    "        (1, datetime.date(2023, 1, 15), 12.2),\n",
    "        (3, datetime.date(2023, 1, 22), 14.4),\n",
    "    ]\n",
    ").toDF(\"customer_id\", \"transaction_date\", \"price\")"
   ]
  },
  {
   "cell_type": "code",
   "execution_count": 54,
   "id": "1affadf3-7561-4edb-b472-31cc591faa4d",
   "metadata": {},
   "outputs": [
    {
     "name": "stdout",
     "output_type": "stream",
     "text": [
      "+-----------+----------------+-----+\n",
      "|customer_id|transaction_date|price|\n",
      "+-----------+----------------+-----+\n",
      "|          1|      2023-01-01|  2.1|\n",
      "|          1|      2023-01-12| 10.1|\n",
      "|          1|      2023-01-15| 12.2|\n",
      "|          3|      2023-01-22| 14.4|\n",
      "+-----------+----------------+-----+\n",
      "\n"
     ]
    }
   ],
   "source": [
    "df.show()"
   ]
  },
  {
   "cell_type": "code",
   "execution_count": 55,
   "id": "aac82f00-b2eb-4d71-83d2-0680bb95c997",
   "metadata": {},
   "outputs": [],
   "source": [
    "# minimally update cumulative_purchases with the change data feed\n",
    "cdf = (\n",
    "    spark.read.format(\"delta\")\n",
    "    .option(\"readChangeFeed\", \"true\")\n",
    "    .option(\"startingVersion\", 0)\n",
    "    .table(\"customer_purchases\")\n",
    ")"
   ]
  },
  {
   "cell_type": "code",
   "execution_count": 56,
   "id": "cb7fd03d-b809-4d06-a278-32df53bcd609",
   "metadata": {},
   "outputs": [
    {
     "name": "stdout",
     "output_type": "stream",
     "text": [
      "+-----------+----------------+-----+------------+---------------+--------------------+\n",
      "|customer_id|transaction_date|price|_change_type|_commit_version|   _commit_timestamp|\n",
      "+-----------+----------------+-----+------------+---------------+--------------------+\n",
      "|          1|      2023-01-01|  2.1|      insert|              1|2023-06-04 17:35:...|\n",
      "|          2|      2023-01-05|  3.2|      insert|              1|2023-06-04 17:35:...|\n",
      "|          3|      2023-01-08|  4.4|      insert|              1|2023-06-04 17:35:...|\n",
      "|          1|      2023-01-08|  5.5|      insert|              1|2023-06-04 17:35:...|\n",
      "+-----------+----------------+-----+------------+---------------+--------------------+\n",
      "\n"
     ]
    }
   ],
   "source": [
    "cdf.show()"
   ]
  },
  {
   "cell_type": "code",
   "execution_count": 57,
   "id": "2347988d-2ecd-4874-95a2-a96630a821e5",
   "metadata": {},
   "outputs": [],
   "source": [
    "new_transactions = df.join(\n",
    "    cdf, [\"customer_id\", \"transaction_date\", \"price\"], \"leftanti\"\n",
    ")"
   ]
  },
  {
   "cell_type": "code",
   "execution_count": 58,
   "id": "64bd329a-456e-42a1-aec2-fce8533dba98",
   "metadata": {},
   "outputs": [
    {
     "name": "stdout",
     "output_type": "stream",
     "text": [
      "+-----------+----------------+-----+\n",
      "|customer_id|transaction_date|price|\n",
      "+-----------+----------------+-----+\n",
      "|          1|      2023-01-12| 10.1|\n",
      "|          1|      2023-01-15| 12.2|\n",
      "|          3|      2023-01-22| 14.4|\n",
      "+-----------+----------------+-----+\n",
      "\n"
     ]
    }
   ],
   "source": [
    "new_transactions.show()"
   ]
  },
  {
   "cell_type": "code",
   "execution_count": 59,
   "id": "3737c52a-065a-4bdb-a9ff-08d1e605d877",
   "metadata": {},
   "outputs": [],
   "source": [
    "new_df = new_transactions.transform(agg_customer_purchases)"
   ]
  },
  {
   "cell_type": "code",
   "execution_count": 60,
   "id": "f5111d7b-bb3e-4ef6-b28c-298c70c67389",
   "metadata": {},
   "outputs": [
    {
     "name": "stdout",
     "output_type": "stream",
     "text": [
      "+-----------+----------------+------------------+\n",
      "|customer_id|last_transaction|         purchases|\n",
      "+-----------+----------------+------------------+\n",
      "|          1|      2023-01-15|22.299999999999997|\n",
      "|          3|      2023-01-22|              14.4|\n",
      "+-----------+----------------+------------------+\n",
      "\n"
     ]
    }
   ],
   "source": [
    "new_df.show()"
   ]
  },
  {
   "cell_type": "code",
   "execution_count": 61,
   "id": "c2548c1d-bf34-497f-b141-97fcdb7dd1d6",
   "metadata": {},
   "outputs": [
    {
     "name": "stdout",
     "output_type": "stream",
     "text": [
      "+-----------+----------------+---------+\n",
      "|customer_id|last_transaction|purchases|\n",
      "+-----------+----------------+---------+\n",
      "|          1|      2023-01-08|      7.6|\n",
      "|          3|      2023-01-08|      4.4|\n",
      "|          2|      2023-01-05|      3.2|\n",
      "+-----------+----------------+---------+\n",
      "\n"
     ]
    }
   ],
   "source": [
    "spark.table(\"cumulative_purchases\").show()"
   ]
  },
  {
   "cell_type": "code",
   "execution_count": 62,
   "id": "c16b38c8-12a6-4318-98a9-c31dd9c0bf02",
   "metadata": {},
   "outputs": [],
   "source": [
    "cumulative_purchases_table = DeltaTable.forName(spark, \"cumulative_purchases\")"
   ]
  },
  {
   "cell_type": "code",
   "execution_count": 63,
   "id": "e794ee68-33cf-4ecc-a1ce-fbff70cb7176",
   "metadata": {},
   "outputs": [],
   "source": [
    "cumulative_purchases_table.alias(\"target\").merge(\n",
    "    new_df.alias(\"source\"), \"target.customer_id = source.customer_id\"\n",
    ").whenMatchedUpdate(\n",
    "    set={\"purchases\": \"source.purchases + target.purchases\"}\n",
    ").whenNotMatchedInsertAll().execute()"
   ]
  },
  {
   "cell_type": "code",
   "execution_count": 64,
   "id": "7ef32475-8ca4-42a5-b698-f1ffefac4e9c",
   "metadata": {},
   "outputs": [
    {
     "name": "stdout",
     "output_type": "stream",
     "text": [
      "+-----------+----------------+---------+\n",
      "|customer_id|last_transaction|purchases|\n",
      "+-----------+----------------+---------+\n",
      "|          1|      2023-01-08|     29.9|\n",
      "|          2|      2023-01-05|      3.2|\n",
      "|          3|      2023-01-08|     18.8|\n",
      "+-----------+----------------+---------+\n",
      "\n"
     ]
    }
   ],
   "source": [
    "cumulative_purchases_table.toDF().show()"
   ]
  },
  {
   "cell_type": "code",
   "execution_count": 24,
   "id": "3862df24-a459-4965-86fc-3189de62992f",
   "metadata": {},
   "outputs": [
    {
     "data": {
      "text/plain": [
       "DataFrame[]"
      ]
     },
     "execution_count": 24,
     "metadata": {},
     "output_type": "execute_result"
    }
   ],
   "source": [
    "# Cleanup\n",
    "spark.sql(\"DROP TABLE IF EXISTS customer_purchases\")\n",
    "spark.sql(\"DROP TABLE IF EXISTS cumulative_purchases\")"
   ]
  }
 ],
 "metadata": {
  "kernelspec": {
   "display_name": "pyspark-350-delta-320",
   "language": "python",
   "name": "pyspark-350-delta-320"
  },
  "language_info": {
   "codemirror_mode": {
    "name": "ipython",
    "version": 3
   },
   "file_extension": ".py",
   "mimetype": "text/x-python",
   "name": "python",
   "nbconvert_exporter": "python",
   "pygments_lexer": "ipython3",
   "version": "3.11.10"
  }
 },
 "nbformat": 4,
 "nbformat_minor": 5
}

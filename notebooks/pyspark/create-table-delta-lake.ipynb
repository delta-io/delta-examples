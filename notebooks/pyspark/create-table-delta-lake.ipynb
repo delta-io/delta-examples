{
 "cells": [
  {
   "cell_type": "markdown",
   "id": "f0f652bc-c1aa-483b-a335-ba0e663f58fe",
   "metadata": {},
   "source": [
    "# Create table Delta Lake"
   ]
  },
  {
   "cell_type": "code",
   "execution_count": 2,
   "id": "aa5b85b3-35d5-4640-b955-335bb69b68bd",
   "metadata": {},
   "outputs": [],
   "source": [
    "import pyspark\n",
    "from delta import *"
   ]
  },
  {
   "cell_type": "code",
   "execution_count": 3,
   "id": "194d638f-dca3-4026-902c-d377184aa71c",
   "metadata": {},
   "outputs": [],
   "source": [
    "builder = (\n",
    "    pyspark.sql.SparkSession.builder.appName(\"MyApp\")\n",
    "    .config(\"spark.sql.extensions\", \"io.delta.sql.DeltaSparkSessionExtension\")\n",
    "    .config(\n",
    "        \"spark.sql.catalog.spark_catalog\",\n",
    "        \"org.apache.spark.sql.delta.catalog.DeltaCatalog\",\n",
    "    )\n",
    ")"
   ]
  },
  {
   "cell_type": "code",
   "execution_count": 4,
   "id": "6be5b4c1-43ff-4965-93ac-52813d50dacc",
   "metadata": {},
   "outputs": [
    {
     "name": "stdout",
     "output_type": "stream",
     "text": [
      ":: loading settings :: url = jar:file:/Users/matthew.powers/opt/miniconda3/envs/pyspark-330-delta-210/lib/python3.9/site-packages/pyspark/jars/ivy-2.5.0.jar!/org/apache/ivy/core/settings/ivysettings.xml\n"
     ]
    },
    {
     "name": "stderr",
     "output_type": "stream",
     "text": [
      "Ivy Default Cache set to: /Users/matthew.powers/.ivy2/cache\n",
      "The jars for the packages stored in: /Users/matthew.powers/.ivy2/jars\n",
      "io.delta#delta-core_2.12 added as a dependency\n",
      ":: resolving dependencies :: org.apache.spark#spark-submit-parent-c14fab4a-bc3e-4db1-9e77-531ac05201ec;1.0\n",
      "\tconfs: [default]\n",
      "\tfound io.delta#delta-core_2.12;2.1.0 in central\n",
      "\tfound io.delta#delta-storage;2.1.0 in central\n",
      "\tfound org.antlr#antlr4-runtime;4.8 in central\n",
      "\tfound org.codehaus.jackson#jackson-core-asl;1.9.13 in central\n",
      ":: resolution report :: resolve 337ms :: artifacts dl 12ms\n",
      "\t:: modules in use:\n",
      "\tio.delta#delta-core_2.12;2.1.0 from central in [default]\n",
      "\tio.delta#delta-storage;2.1.0 from central in [default]\n",
      "\torg.antlr#antlr4-runtime;4.8 from central in [default]\n",
      "\torg.codehaus.jackson#jackson-core-asl;1.9.13 from central in [default]\n",
      "\t---------------------------------------------------------------------\n",
      "\t|                  |            modules            ||   artifacts   |\n",
      "\t|       conf       | number| search|dwnlded|evicted|| number|dwnlded|\n",
      "\t---------------------------------------------------------------------\n",
      "\t|      default     |   4   |   0   |   0   |   0   ||   4   |   0   |\n",
      "\t---------------------------------------------------------------------\n",
      ":: retrieving :: org.apache.spark#spark-submit-parent-c14fab4a-bc3e-4db1-9e77-531ac05201ec\n",
      "\tconfs: [default]\n",
      "\t0 artifacts copied, 4 already retrieved (0kB/15ms)\n"
     ]
    },
    {
     "name": "stdout",
     "output_type": "stream",
     "text": [
      "22/10/06 20:30:51 WARN NativeCodeLoader: Unable to load native-hadoop library for your platform... using builtin-java classes where applicable\n"
     ]
    },
    {
     "name": "stderr",
     "output_type": "stream",
     "text": [
      "Setting default log level to \"WARN\".\n",
      "To adjust logging level use sc.setLogLevel(newLevel). For SparkR, use setLogLevel(newLevel).\n"
     ]
    },
    {
     "name": "stdout",
     "output_type": "stream",
     "text": [
      "22/10/06 20:30:53 WARN Utils: Service 'SparkUI' could not bind on port 4040. Attempting port 4041.\n"
     ]
    }
   ],
   "source": [
    "spark = configure_spark_with_delta_pip(builder).getOrCreate()"
   ]
  },
  {
   "cell_type": "markdown",
   "id": "612e9fd2-94e5-469f-b2ee-643f71f232cb",
   "metadata": {},
   "source": [
    "## Create Table for Delta Lake from DataFrame"
   ]
  },
  {
   "cell_type": "code",
   "execution_count": 5,
   "id": "91510883-10f6-4328-b908-0d03dffa3c0a",
   "metadata": {},
   "outputs": [
    {
     "name": "stdout",
     "output_type": "stream",
     "text": [
      "++\n",
      "||\n",
      "++\n",
      "++\n",
      "\n"
     ]
    }
   ],
   "source": [
    "spark.sql(\"DROP TABLE IF EXISTS table1\").show()"
   ]
  },
  {
   "cell_type": "code",
   "execution_count": 6,
   "id": "de72e566-22c7-4d2b-b6c2-b3dffdbc8331",
   "metadata": {},
   "outputs": [
    {
     "name": "stderr",
     "output_type": "stream",
     "text": [
      "                                                                                \r"
     ]
    }
   ],
   "source": [
    "columns = [\"character\", \"franchise\"]\n",
    "data = [(\"link\", \"zelda\"), (\"king k rool\", \"donkey kong\"), (\"samus\", \"metroid\")]\n",
    "rdd = spark.sparkContext.parallelize(data)\n",
    "df = rdd.toDF(columns)"
   ]
  },
  {
   "cell_type": "code",
   "execution_count": 7,
   "id": "9c82035e-63b9-433e-a456-3fdc86781a02",
   "metadata": {},
   "outputs": [
    {
     "name": "stdout",
     "output_type": "stream",
     "text": [
      "+-----------+-----------+\n",
      "|  character|  franchise|\n",
      "+-----------+-----------+\n",
      "|       link|      zelda|\n",
      "|king k rool|donkey kong|\n",
      "|      samus|    metroid|\n",
      "+-----------+-----------+\n",
      "\n"
     ]
    }
   ],
   "source": [
    "df.show()"
   ]
  },
  {
   "cell_type": "code",
   "execution_count": 8,
   "id": "148fbf6f-2d74-4a5a-8792-d621b0bb65ae",
   "metadata": {},
   "outputs": [
    {
     "name": "stderr",
     "output_type": "stream",
     "text": [
      "                                                                                \r"
     ]
    }
   ],
   "source": [
    "df.write.format(\"delta\").saveAsTable(\"table1\")"
   ]
  },
  {
   "cell_type": "code",
   "execution_count": 9,
   "id": "ade0d3d4-b606-4e8e-9fdf-0a78a46240a1",
   "metadata": {},
   "outputs": [
    {
     "name": "stdout",
     "output_type": "stream",
     "text": [
      "+-------+-----------------------+\n",
      "|version|timestamp              |\n",
      "+-------+-----------------------+\n",
      "|0      |2022-10-06 20:31:10.015|\n",
      "+-------+-----------------------+\n",
      "\n"
     ]
    }
   ],
   "source": [
    "spark.sql(\"DESCRIBE HISTORY table1\").select(\"version\", \"timestamp\").show(truncate=False)"
   ]
  },
  {
   "cell_type": "code",
   "execution_count": 10,
   "id": "d0af7320-0082-44ee-abeb-e0e2896fb610",
   "metadata": {},
   "outputs": [],
   "source": [
    "dt = DeltaTable.forName(spark, \"table1\")"
   ]
  },
  {
   "cell_type": "code",
   "execution_count": 11,
   "id": "71a9dcaa-8320-4f39-b39b-00abb2e25873",
   "metadata": {},
   "outputs": [
    {
     "name": "stdout",
     "output_type": "stream",
     "text": [
      "+-------+-----------------------+\n",
      "|version|timestamp              |\n",
      "+-------+-----------------------+\n",
      "|0      |2022-10-06 20:31:10.015|\n",
      "+-------+-----------------------+\n",
      "\n"
     ]
    }
   ],
   "source": [
    "dt.history().select(\"version\", \"timestamp\").show(truncate=False)"
   ]
  },
  {
   "cell_type": "code",
   "execution_count": 12,
   "id": "467e3d8b-0eb2-47df-a8c2-7af4035636ff",
   "metadata": {},
   "outputs": [
    {
     "name": "stdout",
     "output_type": "stream",
     "text": [
      "+-----------+-----------+\n",
      "|character  |franchise  |\n",
      "+-----------+-----------+\n",
      "|king k rool|donkey kong|\n",
      "|samus      |metroid    |\n",
      "|link       |zelda      |\n",
      "+-----------+-----------+\n",
      "\n"
     ]
    }
   ],
   "source": [
    "spark.sql(\"SELECT * FROM table1\").show(truncate=False)"
   ]
  },
  {
   "cell_type": "code",
   "execution_count": 16,
   "id": "60f1854d-3a32-4ef7-a491-fdc248bbfac9",
   "metadata": {},
   "outputs": [
    {
     "name": "stdout",
     "output_type": "stream",
     "text": [
      "+-----------+-----------+\n",
      "|  character|  franchise|\n",
      "+-----------+-----------+\n",
      "|king k rool|donkey kong|\n",
      "|      samus|    metroid|\n",
      "|       link|      zelda|\n",
      "+-----------+-----------+\n",
      "\n"
     ]
    }
   ],
   "source": [
    "spark.table(\"table1\").show()"
   ]
  },
  {
   "cell_type": "code",
   "execution_count": 13,
   "id": "624eab8e-c3b2-4b48-b1a8-f045315b4607",
   "metadata": {},
   "outputs": [
    {
     "data": {
      "text/plain": [
       "True"
      ]
     },
     "execution_count": 13,
     "metadata": {},
     "output_type": "execute_result"
    }
   ],
   "source": [
    "DeltaTable.isDeltaTable(spark, \"spark-warehouse/table1\")"
   ]
  },
  {
   "cell_type": "code",
   "execution_count": 14,
   "id": "c062c8a2-7140-4bf1-b928-5a4c5b2d7805",
   "metadata": {},
   "outputs": [],
   "source": [
    "df.write.format(\"parquet\").saveAsTable(\"table1_as_parquet\")"
   ]
  },
  {
   "cell_type": "code",
   "execution_count": 15,
   "id": "4aa60394-55e5-49ff-b737-ce1c7ff6957e",
   "metadata": {},
   "outputs": [
    {
     "name": "stdout",
     "output_type": "stream",
     "text": [
      "+-----------+-----------+\n",
      "|  character|  franchise|\n",
      "+-----------+-----------+\n",
      "|king k rool|donkey kong|\n",
      "|      samus|    metroid|\n",
      "|       link|      zelda|\n",
      "+-----------+-----------+\n",
      "\n"
     ]
    }
   ],
   "source": [
    "spark.sql(\"SELECT * FROM table1_as_parquet\").show()"
   ]
  },
  {
   "cell_type": "markdown",
   "id": "abcdc031-e51f-453a-99e3-4bc1525423f3",
   "metadata": {},
   "source": [
    "## Create Delta Lake table with SQL"
   ]
  },
  {
   "cell_type": "code",
   "execution_count": 17,
   "id": "6c3a10b1-08cf-4d7c-8996-014ad6aeea20",
   "metadata": {},
   "outputs": [
    {
     "name": "stderr",
     "output_type": "stream",
     "text": [
      "                                                                                \r"
     ]
    },
    {
     "data": {
      "text/plain": [
       "DataFrame[]"
      ]
     },
     "execution_count": 17,
     "metadata": {},
     "output_type": "execute_result"
    }
   ],
   "source": [
    "spark.sql(\n",
    "    \"\"\"\n",
    "  CREATE TABLE table2 (country STRING, continent STRING) USING delta\n",
    "\"\"\"\n",
    ")"
   ]
  },
  {
   "cell_type": "code",
   "execution_count": 18,
   "id": "6a9e8be3-ceef-431f-8434-b43e122c4558",
   "metadata": {},
   "outputs": [
    {
     "name": "stderr",
     "output_type": "stream",
     "text": [
      "                                                                                \r"
     ]
    },
    {
     "data": {
      "text/plain": [
       "DataFrame[]"
      ]
     },
     "execution_count": 18,
     "metadata": {},
     "output_type": "execute_result"
    }
   ],
   "source": [
    "spark.sql(\n",
    "    \"\"\"\n",
    "  INSERT INTO table2 VALUES\n",
    "      ('china', 'asia'),\n",
    "      ('argentina', 'south america')\n",
    "\"\"\"\n",
    ")"
   ]
  },
  {
   "cell_type": "code",
   "execution_count": 19,
   "id": "33c93313-d861-4013-8cfb-624054d82ab2",
   "metadata": {},
   "outputs": [
    {
     "name": "stdout",
     "output_type": "stream",
     "text": [
      "+---------+-------------+\n",
      "|  country|    continent|\n",
      "+---------+-------------+\n",
      "|argentina|south america|\n",
      "|    china|         asia|\n",
      "+---------+-------------+\n",
      "\n"
     ]
    }
   ],
   "source": [
    "spark.sql(\"SELECT * FROM table2\").show()"
   ]
  },
  {
   "cell_type": "code",
   "execution_count": 20,
   "id": "531e7ec9-54d3-4bf5-bc5c-a64cf99a637f",
   "metadata": {},
   "outputs": [
    {
     "data": {
      "text/plain": [
       "True"
      ]
     },
     "execution_count": 20,
     "metadata": {},
     "output_type": "execute_result"
    }
   ],
   "source": [
    "DeltaTable.isDeltaTable(spark, \"spark-warehouse/table2\")"
   ]
  },
  {
   "cell_type": "code",
   "execution_count": 22,
   "id": "b0031f25-44f8-4faa-9796-01b888bcdefc",
   "metadata": {},
   "outputs": [
    {
     "name": "stdout",
     "output_type": "stream",
     "text": [
      "+------+\n",
      "|format|\n",
      "+------+\n",
      "| delta|\n",
      "+------+\n",
      "\n"
     ]
    }
   ],
   "source": [
    "spark.sql(\"DESCRIBE DETAIL table2\").select(\"format\").show()"
   ]
  },
  {
   "cell_type": "markdown",
   "id": "b71d8479-58d6-47e4-98fc-a65e6b2420ae",
   "metadata": {},
   "source": [
    "## Create table with Delta Lake Python API"
   ]
  },
  {
   "cell_type": "code",
   "execution_count": 1,
   "id": "8c906482-1115-425a-b4f5-eac47b713238",
   "metadata": {},
   "outputs": [],
   "source": [
    "from pyspark.sql.types import *"
   ]
  },
  {
   "cell_type": "code",
   "execution_count": 7,
   "id": "ad1b7e1a-aa8a-4718-b3da-fe56214759f9",
   "metadata": {},
   "outputs": [
    {
     "name": "stderr",
     "output_type": "stream",
     "text": [
      "                                                                                \r"
     ]
    }
   ],
   "source": [
    "dt1 = (\n",
    "    DeltaTable.create(spark)\n",
    "    .tableName(\"testTable1\")\n",
    "    .addColumn(\"c1\", dataType=\"INT\", nullable=False)\n",
    "    .addColumn(\"c2\", dataType=IntegerType(), generatedAlwaysAs=\"c1 + 1\")\n",
    "    .partitionedBy(\"c1\")\n",
    "    .execute()\n",
    ")"
   ]
  },
  {
   "cell_type": "code",
   "execution_count": 8,
   "id": "9c0df628-1438-4867-b8f9-b5381f31cf31",
   "metadata": {},
   "outputs": [
    {
     "data": {
      "text/plain": [
       "<delta.tables.DeltaTable at 0x11026f550>"
      ]
     },
     "execution_count": 8,
     "metadata": {},
     "output_type": "execute_result"
    }
   ],
   "source": [
    "dt1"
   ]
  },
  {
   "cell_type": "code",
   "execution_count": 12,
   "id": "5a36d5e2-7920-42be-b524-4181f0bb49a9",
   "metadata": {},
   "outputs": [
    {
     "name": "stdout",
     "output_type": "stream",
     "text": [
      "+--------------+---------+-------+\n",
      "|      col_name|data_type|comment|\n",
      "+--------------+---------+-------+\n",
      "|            c1|      int|       |\n",
      "|            c2|      int|       |\n",
      "|              |         |       |\n",
      "|# Partitioning|         |       |\n",
      "|        Part 0|       c1|       |\n",
      "+--------------+---------+-------+\n",
      "\n"
     ]
    }
   ],
   "source": [
    "spark.sql(\"DESCRIBE TABLE testTable1\").show()"
   ]
  },
  {
   "cell_type": "code",
   "execution_count": 10,
   "id": "36e2acba-04fd-4527-9a50-a564f8a0890b",
   "metadata": {},
   "outputs": [
    {
     "name": "stderr",
     "output_type": "stream",
     "text": [
      "                                                                                \r"
     ]
    }
   ],
   "source": [
    "dt2 = (\n",
    "    DeltaTable.createIfNotExists(spark)\n",
    "    .tableName(\"testTable2\")\n",
    "    .addColumn(\"c1\", dataType=\"INT\", nullable=False)\n",
    "    .addColumn(\"c2\", dataType=IntegerType(), generatedAlwaysAs=\"c1 + 1\")\n",
    "    .partitionedBy(\"c1\")\n",
    "    .execute()\n",
    ")"
   ]
  },
  {
   "cell_type": "code",
   "execution_count": 11,
   "id": "8167bc43-bcac-4728-a8a1-18a099bfff6b",
   "metadata": {},
   "outputs": [
    {
     "data": {
      "text/plain": [
       "<delta.tables.DeltaTable at 0x110454880>"
      ]
     },
     "execution_count": 11,
     "metadata": {},
     "output_type": "execute_result"
    }
   ],
   "source": [
    "dt2"
   ]
  },
  {
   "cell_type": "markdown",
   "id": "50a1b061-9573-4e30-bbee-f5e4733d5171",
   "metadata": {},
   "source": [
    "## Create Delta Lake table from CSV"
   ]
  },
  {
   "cell_type": "code",
   "execution_count": 23,
   "id": "aa0bc98f-deed-486e-a7d2-9a0e27a1697e",
   "metadata": {},
   "outputs": [],
   "source": [
    "df = spark.read.option(\"header\", True).csv(\"../../data/students/students1.csv\")"
   ]
  },
  {
   "cell_type": "code",
   "execution_count": 24,
   "id": "eb919e18-1443-4854-9413-7c76ee674aff",
   "metadata": {},
   "outputs": [
    {
     "name": "stdout",
     "output_type": "stream",
     "text": [
      "+------------+---------------+-------+\n",
      "|student_name|graduation_year|  major|\n",
      "+------------+---------------+-------+\n",
      "|someXXperson|           2023|   math|\n",
      "|     liXXyao|           2025|physics|\n",
      "+------------+---------------+-------+\n",
      "\n"
     ]
    }
   ],
   "source": [
    "df.show()"
   ]
  },
  {
   "cell_type": "code",
   "execution_count": 25,
   "id": "b141e609-9b20-4ff6-97e9-94c474048845",
   "metadata": {},
   "outputs": [
    {
     "name": "stderr",
     "output_type": "stream",
     "text": [
      "                                                                                \r"
     ]
    }
   ],
   "source": [
    "df.write.format(\"delta\").saveAsTable(\"students\")"
   ]
  },
  {
   "cell_type": "code",
   "execution_count": 26,
   "id": "68c1e2f6-cfab-42ba-ba2e-22dae6c9b1cf",
   "metadata": {},
   "outputs": [
    {
     "name": "stdout",
     "output_type": "stream",
     "text": [
      "+------------+---------------+-------+\n",
      "|student_name|graduation_year|  major|\n",
      "+------------+---------------+-------+\n",
      "|someXXperson|           2023|   math|\n",
      "|     liXXyao|           2025|physics|\n",
      "+------------+---------------+-------+\n",
      "\n"
     ]
    }
   ],
   "source": [
    "spark.sql(\"SELECT * from students\").show()"
   ]
  },
  {
   "cell_type": "code",
   "execution_count": 27,
   "id": "01db5c22-3b37-42b4-b1e8-78b110f07425",
   "metadata": {},
   "outputs": [
    {
     "data": {
      "text/plain": [
       "True"
      ]
     },
     "execution_count": 27,
     "metadata": {},
     "output_type": "execute_result"
    }
   ],
   "source": [
    "DeltaTable.isDeltaTable(spark, \"spark-warehouse/students\")"
   ]
  },
  {
   "cell_type": "markdown",
   "id": "7e754a7c-885f-43d4-9ff4-d548b7ef7884",
   "metadata": {},
   "source": [
    "## Create from Parquet files"
   ]
  },
  {
   "cell_type": "code",
   "execution_count": 4,
   "id": "b98be57c-6e84-461f-9675-94a6f1b2d81a",
   "metadata": {},
   "outputs": [
    {
     "name": "stderr",
     "output_type": "stream",
     "text": [
      "                                                                                \r"
     ]
    }
   ],
   "source": [
    "columns = [\"letter\", \"number\"]\n",
    "data = [(\"a\", 1), (\"b\", 2), (\"c\", 3)]\n",
    "rdd = spark.sparkContext.parallelize(data)\n",
    "df = rdd.toDF(columns)"
   ]
  },
  {
   "cell_type": "code",
   "execution_count": 5,
   "id": "46be346c-a504-4268-bd56-9f7b98d70cbd",
   "metadata": {},
   "outputs": [
    {
     "name": "stderr",
     "output_type": "stream",
     "text": [
      "                                                                                \r"
     ]
    }
   ],
   "source": [
    "df.write.format(\"parquet\").save(\"tmp/lake1\")"
   ]
  },
  {
   "cell_type": "code",
   "execution_count": 6,
   "id": "d365127e-2521-4402-a994-c5209d98e951",
   "metadata": {},
   "outputs": [
    {
     "name": "stdout",
     "output_type": "stream",
     "text": [
      "\u001b[01;34mtmp/lake1\u001b[0m\n",
      "├── \u001b[00m_SUCCESS\u001b[0m\n",
      "├── \u001b[00mpart-00000-1f1cc136-76ea-4185-84d6-54f7e758bfb7-c000.snappy.parquet\u001b[0m\n",
      "├── \u001b[00mpart-00003-1f1cc136-76ea-4185-84d6-54f7e758bfb7-c000.snappy.parquet\u001b[0m\n",
      "├── \u001b[00mpart-00006-1f1cc136-76ea-4185-84d6-54f7e758bfb7-c000.snappy.parquet\u001b[0m\n",
      "└── \u001b[00mpart-00009-1f1cc136-76ea-4185-84d6-54f7e758bfb7-c000.snappy.parquet\u001b[0m\n",
      "\n",
      "0 directories, 5 files\n"
     ]
    }
   ],
   "source": [
    "!tree tmp/lake1"
   ]
  },
  {
   "cell_type": "code",
   "execution_count": 7,
   "id": "da63d620-f5b0-43dd-82a4-9a73fc6a4a89",
   "metadata": {},
   "outputs": [
    {
     "name": "stderr",
     "output_type": "stream",
     "text": [
      "                                                                                \r"
     ]
    },
    {
     "data": {
      "text/plain": [
       "<delta.tables.DeltaTable at 0x11041de50>"
      ]
     },
     "execution_count": 7,
     "metadata": {},
     "output_type": "execute_result"
    }
   ],
   "source": [
    "DeltaTable.convertToDelta(spark, \"parquet.`tmp/lake1`\")"
   ]
  },
  {
   "cell_type": "code",
   "execution_count": 8,
   "id": "2683f691-49f0-43ae-91ec-d30f456d1d69",
   "metadata": {},
   "outputs": [
    {
     "name": "stdout",
     "output_type": "stream",
     "text": [
      "\u001b[01;34mtmp/lake1\u001b[0m\n",
      "├── \u001b[00m_SUCCESS\u001b[0m\n",
      "├── \u001b[01;34m_delta_log\u001b[0m\n",
      "│   ├── \u001b[00m00000000000000000000.checkpoint.parquet\u001b[0m\n",
      "│   ├── \u001b[00m00000000000000000000.json\u001b[0m\n",
      "│   └── \u001b[00m_last_checkpoint\u001b[0m\n",
      "├── \u001b[00mpart-00000-1f1cc136-76ea-4185-84d6-54f7e758bfb7-c000.snappy.parquet\u001b[0m\n",
      "├── \u001b[00mpart-00003-1f1cc136-76ea-4185-84d6-54f7e758bfb7-c000.snappy.parquet\u001b[0m\n",
      "├── \u001b[00mpart-00006-1f1cc136-76ea-4185-84d6-54f7e758bfb7-c000.snappy.parquet\u001b[0m\n",
      "└── \u001b[00mpart-00009-1f1cc136-76ea-4185-84d6-54f7e758bfb7-c000.snappy.parquet\u001b[0m\n",
      "\n",
      "1 directory, 8 files\n"
     ]
    }
   ],
   "source": [
    "!tree tmp/lake1"
   ]
  },
  {
   "cell_type": "markdown",
   "id": "14bce6fa-8c32-42b0-ae7b-071964a7d1f7",
   "metadata": {},
   "source": [
    "## Cleanup"
   ]
  },
  {
   "cell_type": "code",
   "execution_count": 11,
   "id": "61629998-2c20-4ac7-8ebf-a8ffc17abbc1",
   "metadata": {},
   "outputs": [],
   "source": [
    "!rm -rf spark-warehouse"
   ]
  },
  {
   "cell_type": "code",
   "execution_count": null,
   "id": "9c7ca879-22e8-4433-b380-dc58642a6ac2",
   "metadata": {},
   "outputs": [],
   "source": []
  }
 ],
 "metadata": {
  "kernelspec": {
   "display_name": "pyspark-350-delta-320",
   "language": "python",
   "name": "pyspark-350-delta-320"
  },
  "language_info": {
   "codemirror_mode": {
    "name": "ipython",
    "version": 3
   },
   "file_extension": ".py",
   "mimetype": "text/x-python",
   "name": "python",
   "nbconvert_exporter": "python",
   "pygments_lexer": "ipython3",
   "version": "3.11.9"
  }
 },
 "nbformat": 4,
 "nbformat_minor": 5
}

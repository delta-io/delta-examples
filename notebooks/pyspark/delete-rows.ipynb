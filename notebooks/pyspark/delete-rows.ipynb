{
 "cells": [
  {
   "cell_type": "markdown",
   "id": "333d5cd8-496c-439d-a949-52e87a7913f6",
   "metadata": {},
   "source": [
    "# Delta Lake Delete Rows"
   ]
  },
  {
   "cell_type": "code",
   "execution_count": 3,
   "id": "2e48502d-75a7-4b73-9088-aaa55beb4072",
   "metadata": {},
   "outputs": [],
   "source": [
    "import delta\n",
    "import pyspark.sql.functions as F\n",
    "import pyspark"
   ]
  },
  {
   "cell_type": "code",
   "execution_count": 4,
   "id": "10c50862-552c-42d3-ae0e-9967d25931bb",
   "metadata": {},
   "outputs": [],
   "source": [
    "builder = (\n",
    "    pyspark.sql.SparkSession.builder.appName(\"MyApp\")\n",
    "    .config(\"spark.sql.extensions\", \"io.delta.sql.DeltaSparkSessionExtension\")\n",
    "    .config(\n",
    "        \"spark.sql.catalog.spark_catalog\",\n",
    "        \"org.apache.spark.sql.delta.catalog.DeltaCatalog\",\n",
    "    )\n",
    ")"
   ]
  },
  {
   "cell_type": "code",
   "execution_count": 5,
   "id": "41019458-d971-4765-b385-41fc3b56bc7c",
   "metadata": {
    "tags": []
   },
   "outputs": [
    {
     "name": "stdout",
     "output_type": "stream",
     "text": [
      ":: loading settings :: url = jar:file:/Users/matthew.powers/opt/miniconda3/envs/pyspark-340-delta-240/lib/python3.9/site-packages/pyspark/jars/ivy-2.5.1.jar!/org/apache/ivy/core/settings/ivysettings.xml\n"
     ]
    },
    {
     "name": "stderr",
     "output_type": "stream",
     "text": [
      "Ivy Default Cache set to: /Users/matthew.powers/.ivy2/cache\n",
      "The jars for the packages stored in: /Users/matthew.powers/.ivy2/jars\n",
      "io.delta#delta-core_2.12 added as a dependency\n",
      ":: resolving dependencies :: org.apache.spark#spark-submit-parent-87baa461-ea9e-418c-87b8-0f992e7e47f2;1.0\n",
      "\tconfs: [default]\n",
      "\tfound io.delta#delta-core_2.12;2.4.0 in central\n",
      "\tfound io.delta#delta-storage;2.4.0 in central\n",
      "\tfound org.antlr#antlr4-runtime;4.9.3 in central\n",
      ":: resolution report :: resolve 109ms :: artifacts dl 5ms\n",
      "\t:: modules in use:\n",
      "\tio.delta#delta-core_2.12;2.4.0 from central in [default]\n",
      "\tio.delta#delta-storage;2.4.0 from central in [default]\n",
      "\torg.antlr#antlr4-runtime;4.9.3 from central in [default]\n",
      "\t---------------------------------------------------------------------\n",
      "\t|                  |            modules            ||   artifacts   |\n",
      "\t|       conf       | number| search|dwnlded|evicted|| number|dwnlded|\n",
      "\t---------------------------------------------------------------------\n",
      "\t|      default     |   3   |   0   |   0   |   0   ||   3   |   0   |\n",
      "\t---------------------------------------------------------------------\n",
      ":: retrieving :: org.apache.spark#spark-submit-parent-87baa461-ea9e-418c-87b8-0f992e7e47f2\n",
      "\tconfs: [default]\n",
      "\t0 artifacts copied, 3 already retrieved (0kB/4ms)\n",
      "23/11/28 16:34:09 WARN NativeCodeLoader: Unable to load native-hadoop library for your platform... using builtin-java classes where applicable\n",
      "Setting default log level to \"WARN\".\n",
      "To adjust logging level use sc.setLogLevel(newLevel). For SparkR, use setLogLevel(newLevel).\n"
     ]
    }
   ],
   "source": [
    "spark = delta.configure_spark_with_delta_pip(builder).getOrCreate()"
   ]
  },
  {
   "cell_type": "markdown",
   "id": "e3d3cff0-534e-43c0-83d1-c1a92329122e",
   "metadata": {},
   "source": [
    "## Create Delta Table"
   ]
  },
  {
   "cell_type": "code",
   "execution_count": 23,
   "id": "4ceb01fc-f9ed-44bb-ae50-e81bbb9be833",
   "metadata": {},
   "outputs": [],
   "source": [
    "df = spark.createDataFrame([(\"bob\", 3), (\"sue\", 5)]).toDF(\"first_name\", \"age\")"
   ]
  },
  {
   "cell_type": "code",
   "execution_count": 24,
   "id": "ba9f050b-268a-4409-b211-14a011a0ebc7",
   "metadata": {},
   "outputs": [
    {
     "name": "stderr",
     "output_type": "stream",
     "text": [
      "                                                                                \r"
     ]
    }
   ],
   "source": [
    "df.repartition(1).write.format(\"delta\").save(\"tmp/sunny-table\")"
   ]
  },
  {
   "cell_type": "code",
   "execution_count": 25,
   "id": "72207c39-5ce3-4421-9b95-9fb8c578491c",
   "metadata": {},
   "outputs": [
    {
     "name": "stdout",
     "output_type": "stream",
     "text": [
      "\u001b[01;34mtmp/sunny-table\u001b[0m\n",
      "├── \u001b[01;34m_delta_log\u001b[0m\n",
      "│   └── \u001b[00m00000000000000000000.json\u001b[0m\n",
      "└── \u001b[00mpart-00000-bbea1957-356a-4f89-b544-62e687ec0766-c000.snappy.parquet\u001b[0m\n",
      "\n",
      "1 directory, 2 files\n"
     ]
    }
   ],
   "source": [
    "!tree tmp/sunny-table"
   ]
  },
  {
   "cell_type": "code",
   "execution_count": 26,
   "id": "318a8459-f11c-4e9e-a437-23a551add7e5",
   "metadata": {},
   "outputs": [],
   "source": [
    "df = spark.createDataFrame([(\"ingrid\", 58), (\"luisa\", 87)]).toDF(\"first_name\", \"age\")"
   ]
  },
  {
   "cell_type": "code",
   "execution_count": 27,
   "id": "51e855f0-4436-4b34-9a66-4d0c3fe59026",
   "metadata": {},
   "outputs": [
    {
     "name": "stderr",
     "output_type": "stream",
     "text": [
      "                                                                                \r"
     ]
    }
   ],
   "source": [
    "df.repartition(1).write.mode(\"append\").format(\"delta\").save(\"tmp/sunny-table\")"
   ]
  },
  {
   "cell_type": "code",
   "execution_count": 28,
   "id": "ac614bcd-3054-47e4-ac84-8b30ec854a05",
   "metadata": {},
   "outputs": [
    {
     "name": "stdout",
     "output_type": "stream",
     "text": [
      "\u001b[01;34mtmp/sunny-table\u001b[0m\n",
      "├── \u001b[01;34m_delta_log\u001b[0m\n",
      "│   ├── \u001b[00m00000000000000000000.json\u001b[0m\n",
      "│   └── \u001b[00m00000000000000000001.json\u001b[0m\n",
      "├── \u001b[00mpart-00000-bbea1957-356a-4f89-b544-62e687ec0766-c000.snappy.parquet\u001b[0m\n",
      "└── \u001b[00mpart-00000-f529dc4b-b649-45d6-9b9a-40dc1b2eb5a0-c000.snappy.parquet\u001b[0m\n",
      "\n",
      "1 directory, 4 files\n"
     ]
    }
   ],
   "source": [
    "!tree tmp/sunny-table"
   ]
  },
  {
   "cell_type": "code",
   "execution_count": 29,
   "id": "a599c2c7-e147-4537-82dd-51b8616baa67",
   "metadata": {},
   "outputs": [
    {
     "name": "stdout",
     "output_type": "stream",
     "text": [
      "+----------+---+\n",
      "|first_name|age|\n",
      "+----------+---+\n",
      "|    ingrid| 58|\n",
      "|     luisa| 87|\n",
      "|       bob|  3|\n",
      "|       sue|  5|\n",
      "+----------+---+\n",
      "\n"
     ]
    }
   ],
   "source": [
    "spark.read.format(\"delta\").load(\"tmp/sunny-table\").show()"
   ]
  },
  {
   "cell_type": "markdown",
   "id": "02ff2565-4f75-42df-9ae4-c5ba9f10635f",
   "metadata": {},
   "source": [
    "## Delete rows from table"
   ]
  },
  {
   "cell_type": "code",
   "execution_count": 30,
   "id": "72dec82c-ce82-4237-a949-38f8c86ae891",
   "metadata": {},
   "outputs": [],
   "source": [
    "dt = delta.DeltaTable.forPath(spark, \"tmp/sunny-table\")"
   ]
  },
  {
   "cell_type": "code",
   "execution_count": 31,
   "id": "58a373f7-3fe3-44db-a6e4-cb3fc45115f2",
   "metadata": {},
   "outputs": [
    {
     "name": "stderr",
     "output_type": "stream",
     "text": [
      "                                                                                \r"
     ]
    }
   ],
   "source": [
    "dt.delete(F.col(\"age\") > 75)"
   ]
  },
  {
   "cell_type": "code",
   "execution_count": 32,
   "id": "500ab8f7-ee8e-46da-9422-bf2f4a1bad1e",
   "metadata": {},
   "outputs": [
    {
     "name": "stdout",
     "output_type": "stream",
     "text": [
      "+----------+---+\n",
      "|first_name|age|\n",
      "+----------+---+\n",
      "|    ingrid| 58|\n",
      "|       bob|  3|\n",
      "|       sue|  5|\n",
      "+----------+---+\n",
      "\n"
     ]
    }
   ],
   "source": [
    "spark.read.format(\"delta\").load(\"tmp/sunny-table\").show()"
   ]
  },
  {
   "cell_type": "code",
   "execution_count": 33,
   "id": "c18ccd0f-65e8-4a68-8deb-a6dadb629213",
   "metadata": {},
   "outputs": [
    {
     "name": "stdout",
     "output_type": "stream",
     "text": [
      "\u001b[01;34mtmp/sunny-table\u001b[0m\n",
      "├── \u001b[01;34m_delta_log\u001b[0m\n",
      "│   ├── \u001b[00m00000000000000000000.json\u001b[0m\n",
      "│   ├── \u001b[00m00000000000000000001.json\u001b[0m\n",
      "│   └── \u001b[00m00000000000000000002.json\u001b[0m\n",
      "├── \u001b[00mpart-00000-38a10c12-1b5f-4dc0-a4bc-0aacd9a71f0a-c000.snappy.parquet\u001b[0m\n",
      "├── \u001b[00mpart-00000-bbea1957-356a-4f89-b544-62e687ec0766-c000.snappy.parquet\u001b[0m\n",
      "└── \u001b[00mpart-00000-f529dc4b-b649-45d6-9b9a-40dc1b2eb5a0-c000.snappy.parquet\u001b[0m\n",
      "\n",
      "1 directory, 6 files\n"
     ]
    }
   ],
   "source": [
    "!tree tmp/sunny-table"
   ]
  },
  {
   "cell_type": "code",
   "execution_count": 35,
   "id": "77df1fd0-8624-4f17-acb9-0e0da05b2233",
   "metadata": {},
   "outputs": [
    {
     "name": "stdout",
     "output_type": "stream",
     "text": [
      "\u001b[1;39m{\n",
      "  \u001b[0m\u001b[34;1m\"remove\"\u001b[0m\u001b[1;39m: \u001b[0m\u001b[1;39m{\n",
      "    \u001b[0m\u001b[34;1m\"path\"\u001b[0m\u001b[1;39m: \u001b[0m\u001b[0;32m\"part-00000-f529dc4b-b649-45d6-9b9a-40dc1b2eb5a0-c000.snappy.parquet\"\u001b[0m\u001b[1;39m,\n",
      "    \u001b[0m\u001b[34;1m\"deletionTimestamp\"\u001b[0m\u001b[1;39m: \u001b[0m\u001b[0;39m1669903430340\u001b[0m\u001b[1;39m,\n",
      "    \u001b[0m\u001b[34;1m\"dataChange\"\u001b[0m\u001b[1;39m: \u001b[0m\u001b[0;39mtrue\u001b[0m\u001b[1;39m,\n",
      "    \u001b[0m\u001b[34;1m\"extendedFileMetadata\"\u001b[0m\u001b[1;39m: \u001b[0m\u001b[0;39mtrue\u001b[0m\u001b[1;39m,\n",
      "    \u001b[0m\u001b[34;1m\"partitionValues\"\u001b[0m\u001b[1;39m: \u001b[0m\u001b[1;39m{}\u001b[0m\u001b[1;39m,\n",
      "    \u001b[0m\u001b[34;1m\"size\"\u001b[0m\u001b[1;39m: \u001b[0m\u001b[0;39m746\u001b[0m\u001b[1;39m\n",
      "  \u001b[1;39m}\u001b[0m\u001b[1;39m\n",
      "\u001b[1;39m}\u001b[0m\n",
      "\u001b[1;39m{\n",
      "  \u001b[0m\u001b[34;1m\"add\"\u001b[0m\u001b[1;39m: \u001b[0m\u001b[1;39m{\n",
      "    \u001b[0m\u001b[34;1m\"path\"\u001b[0m\u001b[1;39m: \u001b[0m\u001b[0;32m\"part-00000-38a10c12-1b5f-4dc0-a4bc-0aacd9a71f0a-c000.snappy.parquet\"\u001b[0m\u001b[1;39m,\n",
      "    \u001b[0m\u001b[34;1m\"partitionValues\"\u001b[0m\u001b[1;39m: \u001b[0m\u001b[1;39m{}\u001b[0m\u001b[1;39m,\n",
      "    \u001b[0m\u001b[34;1m\"size\"\u001b[0m\u001b[1;39m: \u001b[0m\u001b[0;39m747\u001b[0m\u001b[1;39m,\n",
      "    \u001b[0m\u001b[34;1m\"modificationTime\"\u001b[0m\u001b[1;39m: \u001b[0m\u001b[0;39m1669903430331\u001b[0m\u001b[1;39m,\n",
      "    \u001b[0m\u001b[34;1m\"dataChange\"\u001b[0m\u001b[1;39m: \u001b[0m\u001b[0;39mtrue\u001b[0m\u001b[1;39m,\n",
      "    \u001b[0m\u001b[34;1m\"stats\"\u001b[0m\u001b[1;39m: \u001b[0m\u001b[0;32m\"{\\\"numRecords\\\":1,\\\"minValues\\\":{\\\"first_name\\\":\\\"ingrid\\\",\\\"age\\\":58},\\\"maxValues\\\":{\\\"first_name\\\":\\\"ingrid\\\",\\\"age\\\":58},\\\"nullCount\\\":{\\\"first_name\\\":0,\\\"age\\\":0}}\"\u001b[0m\u001b[1;39m\n",
      "  \u001b[1;39m}\u001b[0m\u001b[1;39m\n",
      "\u001b[1;39m}\u001b[0m\n",
      "\u001b[1;39m{\n",
      "  \u001b[0m\u001b[34;1m\"commitInfo\"\u001b[0m\u001b[1;39m: \u001b[0m\u001b[1;39m{\n",
      "    \u001b[0m\u001b[34;1m\"timestamp\"\u001b[0m\u001b[1;39m: \u001b[0m\u001b[0;39m1669903430342\u001b[0m\u001b[1;39m,\n",
      "    \u001b[0m\u001b[34;1m\"operation\"\u001b[0m\u001b[1;39m: \u001b[0m\u001b[0;32m\"DELETE\"\u001b[0m\u001b[1;39m,\n",
      "    \u001b[0m\u001b[34;1m\"operationParameters\"\u001b[0m\u001b[1;39m: \u001b[0m\u001b[1;39m{\n",
      "      \u001b[0m\u001b[34;1m\"predicate\"\u001b[0m\u001b[1;39m: \u001b[0m\u001b[0;32m\"[\\\"(age > 75L)\\\"]\"\u001b[0m\u001b[1;39m\n",
      "    \u001b[1;39m}\u001b[0m\u001b[1;39m,\n",
      "    \u001b[0m\u001b[34;1m\"readVersion\"\u001b[0m\u001b[1;39m: \u001b[0m\u001b[0;39m1\u001b[0m\u001b[1;39m,\n",
      "    \u001b[0m\u001b[34;1m\"isolationLevel\"\u001b[0m\u001b[1;39m: \u001b[0m\u001b[0;32m\"Serializable\"\u001b[0m\u001b[1;39m,\n",
      "    \u001b[0m\u001b[34;1m\"isBlindAppend\"\u001b[0m\u001b[1;39m: \u001b[0m\u001b[0;39mfalse\u001b[0m\u001b[1;39m,\n",
      "    \u001b[0m\u001b[34;1m\"operationMetrics\"\u001b[0m\u001b[1;39m: \u001b[0m\u001b[1;39m{\n",
      "      \u001b[0m\u001b[34;1m\"numRemovedFiles\"\u001b[0m\u001b[1;39m: \u001b[0m\u001b[0;32m\"1\"\u001b[0m\u001b[1;39m,\n",
      "      \u001b[0m\u001b[34;1m\"numCopiedRows\"\u001b[0m\u001b[1;39m: \u001b[0m\u001b[0;32m\"1\"\u001b[0m\u001b[1;39m,\n",
      "      \u001b[0m\u001b[34;1m\"numAddedChangeFiles\"\u001b[0m\u001b[1;39m: \u001b[0m\u001b[0;32m\"0\"\u001b[0m\u001b[1;39m,\n",
      "      \u001b[0m\u001b[34;1m\"executionTimeMs\"\u001b[0m\u001b[1;39m: \u001b[0m\u001b[0;32m\"997\"\u001b[0m\u001b[1;39m,\n",
      "      \u001b[0m\u001b[34;1m\"numDeletedRows\"\u001b[0m\u001b[1;39m: \u001b[0m\u001b[0;32m\"1\"\u001b[0m\u001b[1;39m,\n",
      "      \u001b[0m\u001b[34;1m\"scanTimeMs\"\u001b[0m\u001b[1;39m: \u001b[0m\u001b[0;32m\"744\"\u001b[0m\u001b[1;39m,\n",
      "      \u001b[0m\u001b[34;1m\"numAddedFiles\"\u001b[0m\u001b[1;39m: \u001b[0m\u001b[0;32m\"1\"\u001b[0m\u001b[1;39m,\n",
      "      \u001b[0m\u001b[34;1m\"rewriteTimeMs\"\u001b[0m\u001b[1;39m: \u001b[0m\u001b[0;32m\"253\"\u001b[0m\u001b[1;39m\n",
      "    \u001b[1;39m}\u001b[0m\u001b[1;39m,\n",
      "    \u001b[0m\u001b[34;1m\"engineInfo\"\u001b[0m\u001b[1;39m: \u001b[0m\u001b[0;32m\"Apache-Spark/3.2.2 Delta-Lake/2.0.0\"\u001b[0m\u001b[1;39m,\n",
      "    \u001b[0m\u001b[34;1m\"txnId\"\u001b[0m\u001b[1;39m: \u001b[0m\u001b[0;32m\"7696a3e7-a168-4a97-9ce9-8c657b8c7523\"\u001b[0m\u001b[1;39m\n",
      "  \u001b[1;39m}\u001b[0m\u001b[1;39m\n",
      "\u001b[1;39m}\u001b[0m\n"
     ]
    }
   ],
   "source": [
    "!jq . tmp/sunny-table/_delta_log/00000000000000000002.json"
   ]
  },
  {
   "cell_type": "code",
   "execution_count": null,
   "id": "29479547-c909-4dfb-a87f-907a99ebe14f",
   "metadata": {},
   "outputs": [],
   "source": []
  },
  {
   "cell_type": "markdown",
   "id": "9df1b6ed-f8cf-4cd2-8c8e-bac195db77c9",
   "metadata": {},
   "source": [
    "## Cleanup"
   ]
  },
  {
   "cell_type": "code",
   "execution_count": 19,
   "id": "471bfa6b-0550-42e0-92ca-40548ac0c545",
   "metadata": {},
   "outputs": [],
   "source": [
    "!rm -rf tmp"
   ]
  },
  {
   "cell_type": "code",
   "execution_count": null,
   "id": "f8af0955-ab93-4c2c-a5cf-2afce5258d75",
   "metadata": {},
   "outputs": [],
   "source": []
  }
 ],
 "metadata": {
  "kernelspec": {
   "display_name": "pyspark-350-delta-320",
   "language": "python",
   "name": "pyspark-350-delta-320"
  },
  "language_info": {
   "codemirror_mode": {
    "name": "ipython",
    "version": 3
   },
   "file_extension": ".py",
   "mimetype": "text/x-python",
   "name": "python",
   "nbconvert_exporter": "python",
   "pygments_lexer": "ipython3",
   "version": "3.11.10"
  }
 },
 "nbformat": 4,
 "nbformat_minor": 5
}

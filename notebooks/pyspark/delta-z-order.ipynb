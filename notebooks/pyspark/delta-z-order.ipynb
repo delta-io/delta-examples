{
 "cells": [
  {
   "cell_type": "markdown",
   "id": "a3520977-f648-4ea6-bc2e-3c87a606a7c4",
   "metadata": {},
   "source": [
    "# Delta Lake Z ORDER"
   ]
  },
  {
   "cell_type": "code",
   "execution_count": 19,
   "id": "6269142c-f658-4397-80ac-65412b8e016f",
   "metadata": {
    "tags": []
   },
   "outputs": [],
   "source": [
    "from pathlib import Path\n",
    "\n",
    "import delta\n",
    "import deltalake\n",
    "import levi\n",
    "import pyspark\n",
    "from delta import *\n",
    "from pyspark.sql import functions as F"
   ]
  },
  {
   "cell_type": "code",
   "execution_count": 12,
   "id": "bc80b275-d73c-4720-8e87-7b9b395fe149",
   "metadata": {},
   "outputs": [],
   "source": [
    "builder = (\n",
    "    pyspark.sql.SparkSession.builder.appName(\"MyApp\")\n",
    "    .config(\"spark.sql.extensions\", \"io.delta.sql.DeltaSparkSessionExtension\")\n",
    "    .config(\n",
    "        \"spark.sql.catalog.spark_catalog\",\n",
    "        \"org.apache.spark.sql.delta.catalog.DeltaCatalog\",\n",
    "    )\n",
    ")\n",
    "\n",
    "spark = configure_spark_with_delta_pip(builder).getOrCreate()"
   ]
  },
  {
   "cell_type": "code",
   "execution_count": 24,
   "id": "7955b5b5-e4ea-4aff-b928-43990b295777",
   "metadata": {
    "tags": []
   },
   "outputs": [],
   "source": [
    "delta_path = f\"{Path.home()}/data/delta_G1_1e8_1e2_0_0\""
   ]
  },
  {
   "cell_type": "markdown",
   "id": "7a6f9867-eb1e-4be8-8c8b-8cb266457b59",
   "metadata": {},
   "source": [
    "## Create Delta Lake"
   ]
  },
  {
   "cell_type": "code",
   "execution_count": 8,
   "id": "6532d198-5a4c-4a91-ab77-857a9c50acfe",
   "metadata": {
    "tags": []
   },
   "outputs": [],
   "source": [
    "df = (\n",
    "    spark.read.format(\"csv\")\n",
    "    .option(\"header\", True)\n",
    "    .load(f\"{Path.home()}/data/G1_1e8_1e2_0_0.csv\")\n",
    ")"
   ]
  },
  {
   "cell_type": "code",
   "execution_count": 9,
   "id": "29c7fd88-0500-419c-b5e1-8152c9b209db",
   "metadata": {
    "tags": []
   },
   "outputs": [
    {
     "name": "stdout",
     "output_type": "stream",
     "text": [
      "+-----+-----+------------+---+---+------+---+---+---------+\n",
      "|  id1|  id2|         id3|id4|id5|   id6| v1| v2|       v3|\n",
      "+-----+-----+------------+---+---+------+---+---+---------+\n",
      "|id016|id046|id0000109363| 88| 13|146094|  4|  6|18.837686|\n",
      "|id039|id087|id0000466766| 14| 30|111330|  4| 14|46.797328|\n",
      "|id047|id098|id0000307804| 85| 23|187639|  3|  5|47.577311|\n",
      "|id043|id017|id0000344864| 87| 76|256509|  2|  5|80.462924|\n",
      "|id054|id027|id0000433679| 99| 67| 32736|  1|  7|15.796662|\n",
      "|id029|id012|id0000992073| 52| 54|269367|  1|  7| 7.238164|\n",
      "|id047|id041|id0000497102| 46| 40|797089|  2| 13| 8.333005|\n",
      "|id091|id006|id0000531420| 33| 15|838478|  4|  3|68.466527|\n",
      "|id090|id007|id0000854318| 37| 69|422069|  1|  8|23.563216|\n",
      "|id070|id068|id0000434456| 99| 93|473025|  2| 13|11.782941|\n",
      "|id039|id001|id0000478306| 82| 63|580548|  3| 10|41.377372|\n",
      "|id023|id001|id0000650586| 16| 97|323047|  2| 13| 33.43633|\n",
      "|id070|id097|id0000677597| 35| 21|266226|  1|  8|22.182861|\n",
      "|id022|id027|id0000717475| 87| 48|887463|  3|  6|80.611344|\n",
      "|id020|id050|id0000621571| 56| 67|816082|  1|  9|42.816405|\n",
      "|id078|id017|id0000875533| 30| 33|934508|  1|  9|13.053614|\n",
      "|id024|id018|id0000282698|  2| 97|195087|  4|  8|69.938127|\n",
      "|id053|id090|id0000677471| 69| 80| 18991|  1|  1|16.484222|\n",
      "|id058|id062|id0000288700| 81| 78|361478|  1| 15|37.599111|\n",
      "|id095|id078|id0000584803| 56| 92|213320|  1|  9|63.464315|\n",
      "+-----+-----+------------+---+---+------+---+---+---------+\n",
      "only showing top 20 rows\n",
      "\n"
     ]
    }
   ],
   "source": [
    "df.show()"
   ]
  },
  {
   "cell_type": "code",
   "execution_count": 10,
   "id": "12a16c1a-5346-4652-b77e-5d5748d56104",
   "metadata": {
    "tags": []
   },
   "outputs": [
    {
     "name": "stderr",
     "output_type": "stream",
     "text": [
      "[Stage 4:>                                                        (0 + 10) / 39]\r"
     ]
    },
    {
     "name": "stdout",
     "output_type": "stream",
     "text": [
      "23/05/17 07:34:50 WARN MemoryManager: Total allocation exceeds 95.00% (988,676,084 bytes) of heap memory\n",
      "Scaling row group sizes to 92.08% for 8 writers\n",
      "23/05/17 07:34:50 WARN MemoryManager: Total allocation exceeds 95.00% (988,676,084 bytes) of heap memory\n",
      "Scaling row group sizes to 81.85% for 9 writers\n",
      "23/05/17 07:34:50 WARN MemoryManager: Total allocation exceeds 95.00% (988,676,084 bytes) of heap memory\n",
      "Scaling row group sizes to 73.66% for 10 writers\n",
      "23/05/17 07:35:14 WARN MemoryManager: Total allocation exceeds 95.00% (988,676,084 bytes) of heap memory\n",
      "Scaling row group sizes to 81.85% for 9 writers\n",
      "23/05/17 07:35:14 WARN MemoryManager: Total allocation exceeds 95.00% (988,676,084 bytes) of heap memory\n",
      "Scaling row group sizes to 92.08% for 8 writers\n"
     ]
    },
    {
     "name": "stderr",
     "output_type": "stream",
     "text": [
      "[Stage 4:=====>                                                   (4 + 10) / 39]\r"
     ]
    },
    {
     "name": "stdout",
     "output_type": "stream",
     "text": [
      "23/05/17 07:35:15 WARN MemoryManager: Total allocation exceeds 95.00% (988,676,084 bytes) of heap memory\n",
      "Scaling row group sizes to 92.08% for 8 writers\n",
      "23/05/17 07:35:15 WARN MemoryManager: Total allocation exceeds 95.00% (988,676,084 bytes) of heap memory\n",
      "Scaling row group sizes to 81.85% for 9 writers\n",
      "23/05/17 07:35:15 WARN MemoryManager: Total allocation exceeds 95.00% (988,676,084 bytes) of heap memory\n",
      "Scaling row group sizes to 73.66% for 10 writers\n",
      "23/05/17 07:35:15 WARN MemoryManager: Total allocation exceeds 95.00% (988,676,084 bytes) of heap memory\n",
      "Scaling row group sizes to 81.85% for 9 writers\n"
     ]
    },
    {
     "name": "stderr",
     "output_type": "stream",
     "text": [
      "[Stage 4:===========>                                             (8 + 10) / 39]\r"
     ]
    },
    {
     "name": "stdout",
     "output_type": "stream",
     "text": [
      "23/05/17 07:35:15 WARN MemoryManager: Total allocation exceeds 95.00% (988,676,084 bytes) of heap memory\n",
      "Scaling row group sizes to 73.66% for 10 writers\n",
      "23/05/17 07:35:15 WARN MemoryManager: Total allocation exceeds 95.00% (988,676,084 bytes) of heap memory\n",
      "Scaling row group sizes to 81.85% for 9 writers\n"
     ]
    },
    {
     "name": "stderr",
     "output_type": "stream",
     "text": [
      "[Stage 4:=============>                                           (9 + 10) / 39]\r"
     ]
    },
    {
     "name": "stdout",
     "output_type": "stream",
     "text": [
      "23/05/17 07:35:15 WARN MemoryManager: Total allocation exceeds 95.00% (988,676,084 bytes) of heap memory\n",
      "Scaling row group sizes to 73.66% for 10 writers\n",
      "23/05/17 07:35:16 WARN MemoryManager: Total allocation exceeds 95.00% (988,676,084 bytes) of heap memory\n",
      "Scaling row group sizes to 81.85% for 9 writers\n"
     ]
    },
    {
     "name": "stderr",
     "output_type": "stream",
     "text": [
      "[Stage 4:==============>                                         (10 + 10) / 39]\r"
     ]
    },
    {
     "name": "stdout",
     "output_type": "stream",
     "text": [
      "23/05/17 07:35:16 WARN MemoryManager: Total allocation exceeds 95.00% (988,676,084 bytes) of heap memory\n",
      "Scaling row group sizes to 73.66% for 10 writers\n",
      "23/05/17 07:35:35 WARN MemoryManager: Total allocation exceeds 95.00% (988,676,084 bytes) of heap memory\n",
      "Scaling row group sizes to 81.85% for 9 writers\n",
      "23/05/17 07:35:35 WARN MemoryManager: Total allocation exceeds 95.00% (988,676,084 bytes) of heap memory\n",
      "Scaling row group sizes to 92.08% for 8 writers\n"
     ]
    },
    {
     "name": "stderr",
     "output_type": "stream",
     "text": [
      "[Stage 4:=================>                                      (12 + 10) / 39]\r"
     ]
    },
    {
     "name": "stdout",
     "output_type": "stream",
     "text": [
      "23/05/17 07:35:35 WARN MemoryManager: Total allocation exceeds 95.00% (988,676,084 bytes) of heap memory\n",
      "Scaling row group sizes to 92.08% for 8 writers\n",
      "23/05/17 07:35:35 WARN MemoryManager: Total allocation exceeds 95.00% (988,676,084 bytes) of heap memory\n",
      "Scaling row group sizes to 81.85% for 9 writers\n",
      "23/05/17 07:35:36 WARN MemoryManager: Total allocation exceeds 95.00% (988,676,084 bytes) of heap memory\n",
      "Scaling row group sizes to 92.08% for 8 writers\n",
      "23/05/17 07:35:36 WARN MemoryManager: Total allocation exceeds 95.00% (988,676,084 bytes) of heap memory\n",
      "Scaling row group sizes to 81.85% for 9 writers\n",
      "23/05/17 07:35:36 WARN MemoryManager: Total allocation exceeds 95.00% (988,676,084 bytes) of heap memory\n",
      "Scaling row group sizes to 92.08% for 8 writers\n"
     ]
    },
    {
     "name": "stderr",
     "output_type": "stream",
     "text": [
      "[Stage 4:====================>                                   (14 + 10) / 39]\r"
     ]
    },
    {
     "name": "stdout",
     "output_type": "stream",
     "text": [
      "23/05/17 07:35:36 WARN MemoryManager: Total allocation exceeds 95.00% (988,676,084 bytes) of heap memory\n",
      "Scaling row group sizes to 81.85% for 9 writers\n",
      "23/05/17 07:35:36 WARN MemoryManager: Total allocation exceeds 95.00% (988,676,084 bytes) of heap memory\n",
      "Scaling row group sizes to 73.66% for 10 writers\n",
      "23/05/17 07:35:36 WARN MemoryManager: Total allocation exceeds 95.00% (988,676,084 bytes) of heap memory\n",
      "Scaling row group sizes to 81.85% for 9 writers\n",
      "23/05/17 07:35:36 WARN MemoryManager: Total allocation exceeds 95.00% (988,676,084 bytes) of heap memory\n",
      "Scaling row group sizes to 92.08% for 8 writers\n"
     ]
    },
    {
     "name": "stderr",
     "output_type": "stream",
     "text": [
      "[Stage 4:=====================>                                  (15 + 10) / 39]\r"
     ]
    },
    {
     "name": "stdout",
     "output_type": "stream",
     "text": [
      "23/05/17 07:35:36 WARN MemoryManager: Total allocation exceeds 95.00% (988,676,084 bytes) of heap memory\n",
      "Scaling row group sizes to 81.85% for 9 writers\n",
      "23/05/17 07:35:36 WARN MemoryManager: Total allocation exceeds 95.00% (988,676,084 bytes) of heap memory\n",
      "Scaling row group sizes to 73.66% for 10 writers\n"
     ]
    },
    {
     "name": "stderr",
     "output_type": "stream",
     "text": [
      "[Stage 4:========================>                               (17 + 10) / 39]\r"
     ]
    },
    {
     "name": "stdout",
     "output_type": "stream",
     "text": [
      "23/05/17 07:35:37 WARN MemoryManager: Total allocation exceeds 95.00% (988,676,084 bytes) of heap memory\n",
      "Scaling row group sizes to 81.85% for 9 writers\n",
      "23/05/17 07:35:37 WARN MemoryManager: Total allocation exceeds 95.00% (988,676,084 bytes) of heap memory\n",
      "Scaling row group sizes to 73.66% for 10 writers\n"
     ]
    },
    {
     "name": "stderr",
     "output_type": "stream",
     "text": [
      "[Stage 4:=========================>                              (18 + 10) / 39]\r"
     ]
    },
    {
     "name": "stdout",
     "output_type": "stream",
     "text": [
      "23/05/17 07:35:37 WARN MemoryManager: Total allocation exceeds 95.00% (988,676,084 bytes) of heap memory\n",
      "Scaling row group sizes to 81.85% for 9 writers\n",
      "23/05/17 07:35:37 WARN MemoryManager: Total allocation exceeds 95.00% (988,676,084 bytes) of heap memory\n",
      "Scaling row group sizes to 73.66% for 10 writers\n"
     ]
    },
    {
     "name": "stderr",
     "output_type": "stream",
     "text": [
      "[Stage 4:===========================>                            (19 + 10) / 39]\r"
     ]
    },
    {
     "name": "stdout",
     "output_type": "stream",
     "text": [
      "23/05/17 07:35:38 WARN MemoryManager: Total allocation exceeds 95.00% (988,676,084 bytes) of heap memory\n",
      "Scaling row group sizes to 81.85% for 9 writers\n",
      "23/05/17 07:35:38 WARN MemoryManager: Total allocation exceeds 95.00% (988,676,084 bytes) of heap memory\n",
      "Scaling row group sizes to 73.66% for 10 writers\n"
     ]
    },
    {
     "name": "stderr",
     "output_type": "stream",
     "text": [
      "[Stage 4:============================>                           (20 + 10) / 39]\r"
     ]
    },
    {
     "name": "stdout",
     "output_type": "stream",
     "text": [
      "23/05/17 07:35:56 WARN MemoryManager: Total allocation exceeds 95.00% (988,676,084 bytes) of heap memory\n",
      "Scaling row group sizes to 81.85% for 9 writers\n"
     ]
    },
    {
     "name": "stderr",
     "output_type": "stream",
     "text": [
      "[Stage 4:==============================>                         (21 + 10) / 39]\r"
     ]
    },
    {
     "name": "stdout",
     "output_type": "stream",
     "text": [
      "23/05/17 07:35:57 WARN MemoryManager: Total allocation exceeds 95.00% (988,676,084 bytes) of heap memory\n",
      "Scaling row group sizes to 92.08% for 8 writers\n",
      "23/05/17 07:35:57 WARN MemoryManager: Total allocation exceeds 95.00% (988,676,084 bytes) of heap memory\n",
      "Scaling row group sizes to 81.85% for 9 writers\n",
      "23/05/17 07:35:57 WARN MemoryManager: Total allocation exceeds 95.00% (988,676,084 bytes) of heap memory\n",
      "Scaling row group sizes to 73.66% for 10 writers\n"
     ]
    },
    {
     "name": "stderr",
     "output_type": "stream",
     "text": [
      "[Stage 4:===============================>                        (22 + 10) / 39]\r"
     ]
    },
    {
     "name": "stdout",
     "output_type": "stream",
     "text": [
      "23/05/17 07:35:57 WARN MemoryManager: Total allocation exceeds 95.00% (988,676,084 bytes) of heap memory\n",
      "Scaling row group sizes to 81.85% for 9 writers\n",
      "23/05/17 07:35:57 WARN MemoryManager: Total allocation exceeds 95.00% (988,676,084 bytes) of heap memory\n",
      "Scaling row group sizes to 92.08% for 8 writers\n",
      "23/05/17 07:35:57 WARN MemoryManager: Total allocation exceeds 95.00% (988,676,084 bytes) of heap memory\n",
      "Scaling row group sizes to 81.85% for 9 writers\n",
      "23/05/17 07:35:57 WARN MemoryManager: Total allocation exceeds 95.00% (988,676,084 bytes) of heap memory\n",
      "Scaling row group sizes to 73.66% for 10 writers\n",
      "23/05/17 07:35:57 WARN MemoryManager: Total allocation exceeds 95.00% (988,676,084 bytes) of heap memory\n",
      "Scaling row group sizes to 81.85% for 9 writers\n"
     ]
    },
    {
     "name": "stderr",
     "output_type": "stream",
     "text": [
      "[Stage 4:==================================>                     (24 + 10) / 39]\r"
     ]
    },
    {
     "name": "stdout",
     "output_type": "stream",
     "text": [
      "23/05/17 07:35:57 WARN MemoryManager: Total allocation exceeds 95.00% (988,676,084 bytes) of heap memory\n",
      "Scaling row group sizes to 73.66% for 10 writers\n"
     ]
    },
    {
     "name": "stderr",
     "output_type": "stream",
     "text": [
      "[Stage 4:===================================>                    (25 + 10) / 39]\r"
     ]
    },
    {
     "name": "stdout",
     "output_type": "stream",
     "text": [
      "23/05/17 07:35:58 WARN MemoryManager: Total allocation exceeds 95.00% (988,676,084 bytes) of heap memory\n",
      "Scaling row group sizes to 81.85% for 9 writers\n",
      "23/05/17 07:35:58 WARN MemoryManager: Total allocation exceeds 95.00% (988,676,084 bytes) of heap memory\n",
      "Scaling row group sizes to 92.08% for 8 writers\n",
      "23/05/17 07:35:58 WARN MemoryManager: Total allocation exceeds 95.00% (988,676,084 bytes) of heap memory\n",
      "Scaling row group sizes to 81.85% for 9 writers\n",
      "23/05/17 07:35:58 WARN MemoryManager: Total allocation exceeds 95.00% (988,676,084 bytes) of heap memory\n",
      "Scaling row group sizes to 73.66% for 10 writers\n"
     ]
    },
    {
     "name": "stderr",
     "output_type": "stream",
     "text": [
      "[Stage 4:======================================>                 (27 + 10) / 39]\r"
     ]
    },
    {
     "name": "stdout",
     "output_type": "stream",
     "text": [
      "23/05/17 07:35:58 WARN MemoryManager: Total allocation exceeds 95.00% (988,676,084 bytes) of heap memory\n",
      "Scaling row group sizes to 81.85% for 9 writers\n",
      "23/05/17 07:35:58 WARN MemoryManager: Total allocation exceeds 95.00% (988,676,084 bytes) of heap memory\n",
      "Scaling row group sizes to 92.08% for 8 writers\n",
      "23/05/17 07:35:58 WARN MemoryManager: Total allocation exceeds 95.00% (988,676,084 bytes) of heap memory\n",
      "Scaling row group sizes to 81.85% for 9 writers\n",
      "23/05/17 07:35:58 WARN MemoryManager: Total allocation exceeds 95.00% (988,676,084 bytes) of heap memory\n",
      "Scaling row group sizes to 73.66% for 10 writers\n"
     ]
    },
    {
     "name": "stderr",
     "output_type": "stream",
     "text": [
      "[Stage 4:=========================================>              (29 + 10) / 39]\r"
     ]
    },
    {
     "name": "stdout",
     "output_type": "stream",
     "text": [
      "23/05/17 07:35:59 WARN MemoryManager: Total allocation exceeds 95.00% (988,676,084 bytes) of heap memory\n",
      "Scaling row group sizes to 81.85% for 9 writers\n"
     ]
    },
    {
     "name": "stderr",
     "output_type": "stream",
     "text": [
      "[Stage 4:===========================================>             (30 + 9) / 39]\r"
     ]
    },
    {
     "name": "stdout",
     "output_type": "stream",
     "text": [
      "23/05/17 07:36:08 WARN MemoryManager: Total allocation exceeds 95.00% (988,676,084 bytes) of heap memory\n",
      "Scaling row group sizes to 92.08% for 8 writers\n"
     ]
    },
    {
     "name": "stderr",
     "output_type": "stream",
     "text": [
      "                                                                                \r"
     ]
    },
    {
     "name": "stdout",
     "output_type": "stream",
     "text": [
      "23/05/17 07:36:13 WARN package: Truncated the string representation of a plan since it was too large. This behavior can be adjusted by setting 'spark.sql.debug.maxToStringFields'.\n"
     ]
    }
   ],
   "source": [
    "df.write.format(\"delta\").save(f\"{Path.home()}/data/delta_G1_1e8_1e2_0_0\")"
   ]
  },
  {
   "cell_type": "code",
   "execution_count": 15,
   "id": "55da57a3-56dd-4931-a686-b10c37c0b2e2",
   "metadata": {
    "tags": []
   },
   "outputs": [],
   "source": [
    "dt = deltalake.DeltaTable(f\"{Path.home()}/data/delta_G1_1e8_1e2_0_0\")"
   ]
  },
  {
   "cell_type": "code",
   "execution_count": 16,
   "id": "c8d6f837-2a3c-49ee-ae27-57a9982a4fa6",
   "metadata": {
    "tags": []
   },
   "outputs": [
    {
     "data": {
      "text/plain": [
       "{'num_files_<1mb': 0,\n",
       " 'num_files_1mb-500mb': 39,\n",
       " 'num_files_500mb-1gb': 0,\n",
       " 'num_files_1gb-2gb': 0,\n",
       " 'num_files_>2gb': 0}"
      ]
     },
     "execution_count": 16,
     "metadata": {},
     "output_type": "execute_result"
    }
   ],
   "source": [
    "levi.delta_file_sizes(dt)"
   ]
  },
  {
   "cell_type": "code",
   "execution_count": 18,
   "id": "f4da7ae0-74ea-4f50-a0c8-4b543508fdb1",
   "metadata": {
    "tags": []
   },
   "outputs": [
    {
     "data": {
      "text/plain": [
       "{'num_files': 39, 'num_files_skipped': 0, 'num_bytes_skipped': 0}"
      ]
     },
     "execution_count": 18,
     "metadata": {},
     "output_type": "execute_result"
    }
   ],
   "source": [
    "levi.skipped_stats(dt, filters=[(\"id1\", \"=\", \"'id016'\")])"
   ]
  },
  {
   "cell_type": "code",
   "execution_count": 25,
   "id": "9298bcab-8c6b-477f-8264-883910d3c9f6",
   "metadata": {
    "tags": []
   },
   "outputs": [],
   "source": [
    "(\n",
    "    spark.read.format(\"delta\")\n",
    "    .option(\"versionAsOf\", \"0\")\n",
    "    .load(delta_path)\n",
    "    .createOrReplaceTempView(\"x0\")\n",
    ")"
   ]
  },
  {
   "cell_type": "code",
   "execution_count": 32,
   "id": "53b2b0a6-92f4-4671-b361-91f01a854056",
   "metadata": {
    "tags": []
   },
   "outputs": [
    {
     "name": "stdout",
     "output_type": "stream",
     "text": [
      "CPU times: user 1.58 ms, sys: 1.63 ms, total: 3.21 ms\n",
      "Wall time: 874 ms\n"
     ]
    },
    {
     "name": "stderr",
     "output_type": "stream",
     "text": [
      "                                                                                \r"
     ]
    },
    {
     "data": {
      "text/plain": [
       "[Row(id1='id016', v1=2998623.0)]"
      ]
     },
     "execution_count": 32,
     "metadata": {},
     "output_type": "execute_result"
    }
   ],
   "source": [
    "%%time\n",
    "\n",
    "spark.sql(\n",
    "    \"select id1, sum(v1) as v1 from x0 where id1 = 'id016' group by id1\"\n",
    ").collect()"
   ]
  },
  {
   "cell_type": "markdown",
   "id": "fd629dd1-b6b7-48c2-beee-783c9ae312c0",
   "metadata": {
    "tags": []
   },
   "source": [
    "## Z ORDER Delta Lake"
   ]
  },
  {
   "cell_type": "code",
   "execution_count": 21,
   "id": "0a7f3c22-aaaf-4d8a-b686-600e34644213",
   "metadata": {},
   "outputs": [
    {
     "name": "stderr",
     "output_type": "stream",
     "text": [
      "                                                                                \r"
     ]
    },
    {
     "data": {
      "text/plain": [
       "DataFrame[path: string, metrics: struct<numFilesAdded:bigint,numFilesRemoved:bigint,filesAdded:struct<min:bigint,max:bigint,avg:double,totalFiles:bigint,totalSize:bigint>,filesRemoved:struct<min:bigint,max:bigint,avg:double,totalFiles:bigint,totalSize:bigint>,partitionsOptimized:bigint,zOrderStats:struct<strategyName:string,inputCubeFiles:struct<num:bigint,size:bigint>,inputOtherFiles:struct<num:bigint,size:bigint>,inputNumCubes:bigint,mergedFiles:struct<num:bigint,size:bigint>,numOutputCubes:bigint,mergedNumCubes:bigint>,numBatches:bigint,totalConsideredFiles:bigint,totalFilesSkipped:bigint,preserveInsertionOrder:boolean,numFilesSkippedToReduceWriteAmplification:bigint,numBytesSkippedToReduceWriteAmplification:bigint,startTimeMs:bigint,endTimeMs:bigint,totalClusterParallelism:bigint,totalScheduledTasks:bigint,autoCompactParallelismStats:struct<maxClusterActiveParallelism:bigint,minClusterActiveParallelism:bigint,maxSessionActiveParallelism:bigint,minSessionActiveParallelism:bigint>,deletionVectorStats:struct<numDeletionVectorsRemoved:bigint,numDeletionVectorRowsRemoved:bigint>,numTableColumns:bigint,numTableColumnsWithStats:bigint>]"
      ]
     },
     "execution_count": 21,
     "metadata": {},
     "output_type": "execute_result"
    }
   ],
   "source": [
    "(\n",
    "    delta.DeltaTable.forPath(spark, f\"{Path.home()}/data/delta_G1_1e8_1e2_0_0\")\n",
    "    .optimize()\n",
    "    .executeZOrderBy(\"id1\")\n",
    ")"
   ]
  },
  {
   "cell_type": "code",
   "execution_count": 22,
   "id": "ad47d457-4a25-4455-ad59-9e9f7ba02f08",
   "metadata": {},
   "outputs": [
    {
     "data": {
      "text/plain": [
       "{'num_files': 2, 'num_files_skipped': 1, 'num_bytes_skipped': 1437565706}"
      ]
     },
     "execution_count": 22,
     "metadata": {},
     "output_type": "execute_result"
    }
   ],
   "source": [
    "dt = deltalake.DeltaTable(f\"{Path.home()}/data/delta_G1_1e8_1e2_0_0\")\n",
    "levi.skipped_stats(dt, filters=[(\"id1\", \"=\", \"'id016'\")])"
   ]
  },
  {
   "cell_type": "code",
   "execution_count": 29,
   "id": "4c9e5210-b7be-4567-afce-ce41c6ad3318",
   "metadata": {},
   "outputs": [],
   "source": [
    "(\n",
    "    spark.read.format(\"delta\")\n",
    "    .option(\"versionAsOf\", \"1\")\n",
    "    .load(delta_path)\n",
    "    .createOrReplaceTempView(\"x1\")\n",
    ")"
   ]
  },
  {
   "cell_type": "code",
   "execution_count": 31,
   "id": "5bcc1ed7-1e83-49db-9fe0-59891f68186b",
   "metadata": {
    "tags": []
   },
   "outputs": [
    {
     "name": "stdout",
     "output_type": "stream",
     "text": [
      "CPU times: user 1.74 ms, sys: 2.13 ms, total: 3.87 ms\n",
      "Wall time: 573 ms\n"
     ]
    },
    {
     "data": {
      "text/plain": [
       "[Row(id1='id016', v1=2998623.0)]"
      ]
     },
     "execution_count": 31,
     "metadata": {},
     "output_type": "execute_result"
    }
   ],
   "source": [
    "%%time\n",
    "\n",
    "spark.sql(\n",
    "    \"select id1, sum(v1) as v1 from x1 where id1 = 'id016' group by id1\"\n",
    ").collect()"
   ]
  },
  {
   "cell_type": "code",
   "execution_count": null,
   "id": "4945077e-379d-4231-a9d2-803beaa861d7",
   "metadata": {},
   "outputs": [],
   "source": []
  }
 ],
 "metadata": {
  "kernelspec": {
   "display_name": "Python [conda env:pyspark-332-delta-230]",
   "language": "python",
   "name": "conda-env-pyspark-332-delta-230-py"
  },
  "language_info": {
   "codemirror_mode": {
    "name": "ipython",
    "version": 3
   },
   "file_extension": ".py",
   "mimetype": "text/x-python",
   "name": "python",
   "nbconvert_exporter": "python",
   "pygments_lexer": "ipython3",
   "version": "3.9.16"
  }
 },
 "nbformat": 4,
 "nbformat_minor": 5
}

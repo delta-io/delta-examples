{
 "cells": [
  {
   "cell_type": "markdown",
   "id": "a3520977-f648-4ea6-bc2e-3c87a606a7c4",
   "metadata": {},
   "source": [
    "# Delta Lake Z ORDER\n",
    "\n",
    "* x0: Delta table that was initially created\n",
    "* x1: Delta table after it's been optimized via small file compaction\n",
    "* x2: Delta table Z Ordered by id1\n",
    "* x3: Delta table Z Ordered by id1 and id2"
   ]
  },
  {
   "cell_type": "code",
   "execution_count": 1,
   "id": "6269142c-f658-4397-80ac-65412b8e016f",
   "metadata": {
    "tags": []
   },
   "outputs": [],
   "source": [
    "from pathlib import Path\n",
    "\n",
    "import delta\n",
    "import deltalake\n",
    "import levi\n",
    "import pyspark\n",
    "from delta import *\n",
    "from pyspark.sql import functions as F"
   ]
  },
  {
   "cell_type": "code",
   "execution_count": 2,
   "id": "bc80b275-d73c-4720-8e87-7b9b395fe149",
   "metadata": {},
   "outputs": [
    {
     "name": "stdout",
     "output_type": "stream",
     "text": [
      ":: loading settings :: url = jar:file:/Users/matthew.powers/opt/miniconda3/envs/pyspark-332-delta-230/lib/python3.9/site-packages/pyspark/jars/ivy-2.5.1.jar!/org/apache/ivy/core/settings/ivysettings.xml\n"
     ]
    },
    {
     "name": "stderr",
     "output_type": "stream",
     "text": [
      "Ivy Default Cache set to: /Users/matthew.powers/.ivy2/cache\n",
      "The jars for the packages stored in: /Users/matthew.powers/.ivy2/jars\n",
      "io.delta#delta-core_2.12 added as a dependency\n",
      ":: resolving dependencies :: org.apache.spark#spark-submit-parent-5679ff7a-aec6-439e-b434-aa8de72cf6c2;1.0\n",
      "\tconfs: [default]\n",
      "\tfound io.delta#delta-core_2.12;2.3.0 in central\n",
      "\tfound io.delta#delta-storage;2.3.0 in central\n",
      "\tfound org.antlr#antlr4-runtime;4.8 in central\n",
      ":: resolution report :: resolve 106ms :: artifacts dl 4ms\n",
      "\t:: modules in use:\n",
      "\tio.delta#delta-core_2.12;2.3.0 from central in [default]\n",
      "\tio.delta#delta-storage;2.3.0 from central in [default]\n",
      "\torg.antlr#antlr4-runtime;4.8 from central in [default]\n",
      "\t---------------------------------------------------------------------\n",
      "\t|                  |            modules            ||   artifacts   |\n",
      "\t|       conf       | number| search|dwnlded|evicted|| number|dwnlded|\n",
      "\t---------------------------------------------------------------------\n",
      "\t|      default     |   3   |   0   |   0   |   0   ||   3   |   0   |\n",
      "\t---------------------------------------------------------------------\n",
      ":: retrieving :: org.apache.spark#spark-submit-parent-5679ff7a-aec6-439e-b434-aa8de72cf6c2\n",
      "\tconfs: [default]\n",
      "\t0 artifacts copied, 3 already retrieved (0kB/3ms)\n"
     ]
    },
    {
     "name": "stdout",
     "output_type": "stream",
     "text": [
      "23/05/24 20:37:40 WARN NativeCodeLoader: Unable to load native-hadoop library for your platform... using builtin-java classes where applicable\n"
     ]
    },
    {
     "name": "stderr",
     "output_type": "stream",
     "text": [
      "Setting default log level to \"WARN\".\n",
      "To adjust logging level use sc.setLogLevel(newLevel). For SparkR, use setLogLevel(newLevel).\n"
     ]
    }
   ],
   "source": [
    "builder = (\n",
    "    pyspark.sql.SparkSession.builder.appName(\"MyApp\")\n",
    "    .config(\"spark.sql.extensions\", \"io.delta.sql.DeltaSparkSessionExtension\")\n",
    "    .config(\"spark.executor.memory\", '10G')\n",
    "    .config(\"spark.driver.memory\", '25G')\n",
    "    .config(\n",
    "        \"spark.sql.catalog.spark_catalog\",\n",
    "        \"org.apache.spark.sql.delta.catalog.DeltaCatalog\",\n",
    "    )\n",
    ")\n",
    "\n",
    "spark = configure_spark_with_delta_pip(builder).getOrCreate()"
   ]
  },
  {
   "cell_type": "code",
   "execution_count": 3,
   "id": "7955b5b5-e4ea-4aff-b928-43990b295777",
   "metadata": {
    "tags": []
   },
   "outputs": [],
   "source": [
    "delta_path = f\"{Path.home()}/data/delta_zorder_G1_1e9_1e2_0_0\""
   ]
  },
  {
   "cell_type": "markdown",
   "id": "7a6f9867-eb1e-4be8-8c8b-8cb266457b59",
   "metadata": {},
   "source": [
    "## Create Delta Lake"
   ]
  },
  {
   "cell_type": "code",
   "execution_count": 4,
   "id": "6532d198-5a4c-4a91-ab77-857a9c50acfe",
   "metadata": {
    "tags": []
   },
   "outputs": [],
   "source": [
    "df = (\n",
    "    spark.read.format(\"csv\")\n",
    "    .option(\"header\", True)\n",
    "    .load(f\"{Path.home()}/data/G1_1e9_1e2_0_0.csv\")\n",
    ")"
   ]
  },
  {
   "cell_type": "code",
   "execution_count": 5,
   "id": "29c7fd88-0500-419c-b5e1-8152c9b209db",
   "metadata": {
    "tags": []
   },
   "outputs": [
    {
     "name": "stdout",
     "output_type": "stream",
     "text": [
      "+-----+-----+------------+---+---+-------+---+---+---------+\n",
      "|  id1|  id2|         id3|id4|id5|    id6| v1| v2|       v3|\n",
      "+-----+-----+------------+---+---+-------+---+---+---------+\n",
      "|id016|id059|id0009584273| 31| 54|7579268|  5|  2|92.709317|\n",
      "|id039|id028|id0008226858| 32| 73|1462759|  3| 14|23.308717|\n",
      "|id047|id073|id0004357983| 52| 71| 354157|  2| 15|98.462728|\n",
      "|id043|id069|id0006903604| 37| 35| 372382|  5|  5|32.566149|\n",
      "|id054|id095|id0005719264| 94| 99|6957127|  5| 11| 97.89284|\n",
      "|id029|id027|id0007119528| 11| 41|6768037|  2|  7|26.394021|\n",
      "|id047|id053|id0003186028| 93| 64|3300443|  3| 14|79.319642|\n",
      "|id091|id097|id0007718026| 22| 50|3609381|  5| 15|94.510853|\n",
      "|id090|id033|id0007857423|  5| 65|3618630|  1|  5| 1.579951|\n",
      "|id070|id062|id0001399833| 90| 99|6131090|  5| 14|24.892749|\n",
      "|id039|id030|id0000654974| 22| 18|1298417|  1| 10|15.321252|\n",
      "|id023|id095|id0005131426| 52| 38|7811474|  4| 12| 25.65414|\n",
      "|id070|id013|id0009420524| 14| 33|7075062|  5| 14|43.468912|\n",
      "|id022|id026|id0005191924| 25| 87|4159338|  4|  8| 6.488546|\n",
      "|id020|id032|id0002313922| 84| 11|9165684|  3|  9|16.512325|\n",
      "|id078|id022|id0009474349| 86| 61|6816212|  4| 15|79.239123|\n",
      "|id024|id079|id0008311106| 57| 69|6830494|  3|  9|83.805413|\n",
      "|id053|id073|id0000741477| 95|  4|6277942|  4| 14| 81.13272|\n",
      "|id058|id002|id0003539478| 67|  2|1723400|  4|  8|  5.08792|\n",
      "|id095|id089|id0004424930| 87| 20| 137880|  2| 15|32.932692|\n",
      "+-----+-----+------------+---+---+-------+---+---+---------+\n",
      "only showing top 20 rows\n",
      "\n"
     ]
    }
   ],
   "source": [
    "df.show()"
   ]
  },
  {
   "cell_type": "code",
   "execution_count": 6,
   "id": "12a16c1a-5346-4652-b77e-5d5748d56104",
   "metadata": {
    "tags": []
   },
   "outputs": [
    {
     "name": "stderr",
     "output_type": "stream",
     "text": [
      "                                                                                \r"
     ]
    },
    {
     "name": "stdout",
     "output_type": "stream",
     "text": [
      "23/05/24 20:43:59 WARN package: Truncated the string representation of a plan since it was too large. This behavior can be adjusted by setting 'spark.sql.debug.maxToStringFields'.\n"
     ]
    }
   ],
   "source": [
    "df.write.format(\"delta\").save(delta_path)"
   ]
  },
  {
   "cell_type": "markdown",
   "id": "a8c38ce5-615b-40d2-a7cd-1324f4dd0a4c",
   "metadata": {},
   "source": [
    "## Compact small files"
   ]
  },
  {
   "cell_type": "code",
   "execution_count": 8,
   "id": "9eea3998-4970-47cd-9c62-354a07bdb12b",
   "metadata": {},
   "outputs": [],
   "source": [
    "delta_table = DeltaTable.forPath(spark, delta_path)"
   ]
  },
  {
   "cell_type": "code",
   "execution_count": 9,
   "id": "38555a93-3879-464c-9c72-054b9013c2d8",
   "metadata": {},
   "outputs": [
    {
     "name": "stderr",
     "output_type": "stream",
     "text": [
      "                                                                                \r"
     ]
    },
    {
     "data": {
      "text/plain": [
       "DataFrame[path: string, metrics: struct<numFilesAdded:bigint,numFilesRemoved:bigint,filesAdded:struct<min:bigint,max:bigint,avg:double,totalFiles:bigint,totalSize:bigint>,filesRemoved:struct<min:bigint,max:bigint,avg:double,totalFiles:bigint,totalSize:bigint>,partitionsOptimized:bigint,zOrderStats:struct<strategyName:string,inputCubeFiles:struct<num:bigint,size:bigint>,inputOtherFiles:struct<num:bigint,size:bigint>,inputNumCubes:bigint,mergedFiles:struct<num:bigint,size:bigint>,numOutputCubes:bigint,mergedNumCubes:bigint>,numBatches:bigint,totalConsideredFiles:bigint,totalFilesSkipped:bigint,preserveInsertionOrder:boolean,numFilesSkippedToReduceWriteAmplification:bigint,numBytesSkippedToReduceWriteAmplification:bigint,startTimeMs:bigint,endTimeMs:bigint,totalClusterParallelism:bigint,totalScheduledTasks:bigint,autoCompactParallelismStats:struct<maxClusterActiveParallelism:bigint,minClusterActiveParallelism:bigint,maxSessionActiveParallelism:bigint,minSessionActiveParallelism:bigint>,deletionVectorStats:struct<numDeletionVectorsRemoved:bigint,numDeletionVectorRowsRemoved:bigint>,numTableColumns:bigint,numTableColumnsWithStats:bigint>]"
      ]
     },
     "execution_count": 9,
     "metadata": {},
     "output_type": "execute_result"
    }
   ],
   "source": [
    "delta_table.optimize().executeCompaction()"
   ]
  },
  {
   "cell_type": "markdown",
   "id": "38865b67-5e7e-4234-9bc9-0bb78d5ce341",
   "metadata": {},
   "source": [
    "## Z Order on id1"
   ]
  },
  {
   "cell_type": "code",
   "execution_count": 15,
   "id": "aa318a59-e62e-4cc4-a37a-272db3414257",
   "metadata": {},
   "outputs": [],
   "source": [
    "delta_table = DeltaTable.forPath(spark, delta_path)"
   ]
  },
  {
   "cell_type": "code",
   "execution_count": 16,
   "id": "ebfd5bb8-97a8-47e7-a064-47e620cf6795",
   "metadata": {},
   "outputs": [
    {
     "name": "stderr",
     "output_type": "stream",
     "text": [
      "                                                                                \r"
     ]
    },
    {
     "data": {
      "text/plain": [
       "DataFrame[path: string, metrics: struct<numFilesAdded:bigint,numFilesRemoved:bigint,filesAdded:struct<min:bigint,max:bigint,avg:double,totalFiles:bigint,totalSize:bigint>,filesRemoved:struct<min:bigint,max:bigint,avg:double,totalFiles:bigint,totalSize:bigint>,partitionsOptimized:bigint,zOrderStats:struct<strategyName:string,inputCubeFiles:struct<num:bigint,size:bigint>,inputOtherFiles:struct<num:bigint,size:bigint>,inputNumCubes:bigint,mergedFiles:struct<num:bigint,size:bigint>,numOutputCubes:bigint,mergedNumCubes:bigint>,numBatches:bigint,totalConsideredFiles:bigint,totalFilesSkipped:bigint,preserveInsertionOrder:boolean,numFilesSkippedToReduceWriteAmplification:bigint,numBytesSkippedToReduceWriteAmplification:bigint,startTimeMs:bigint,endTimeMs:bigint,totalClusterParallelism:bigint,totalScheduledTasks:bigint,autoCompactParallelismStats:struct<maxClusterActiveParallelism:bigint,minClusterActiveParallelism:bigint,maxSessionActiveParallelism:bigint,minSessionActiveParallelism:bigint>,deletionVectorStats:struct<numDeletionVectorsRemoved:bigint,numDeletionVectorRowsRemoved:bigint>,numTableColumns:bigint,numTableColumnsWithStats:bigint>]"
      ]
     },
     "execution_count": 16,
     "metadata": {},
     "output_type": "execute_result"
    }
   ],
   "source": [
    "delta_table.optimize().executeZOrderBy(\"id1\")"
   ]
  },
  {
   "cell_type": "markdown",
   "id": "603ea0a3-b5c0-4611-bd6e-72c9b2912f48",
   "metadata": {},
   "source": [
    "## Z Order on id1 and id2"
   ]
  },
  {
   "cell_type": "code",
   "execution_count": 19,
   "id": "46fd03d4-12a4-40bb-ae20-6e207222daa5",
   "metadata": {},
   "outputs": [],
   "source": [
    "delta_table = DeltaTable.forPath(spark, delta_path)"
   ]
  },
  {
   "cell_type": "code",
   "execution_count": 20,
   "id": "f2d7dc05-9b7f-44ef-a006-acfdfc3b6570",
   "metadata": {},
   "outputs": [
    {
     "name": "stderr",
     "output_type": "stream",
     "text": [
      "                                                                                \r"
     ]
    },
    {
     "data": {
      "text/plain": [
       "DataFrame[path: string, metrics: struct<numFilesAdded:bigint,numFilesRemoved:bigint,filesAdded:struct<min:bigint,max:bigint,avg:double,totalFiles:bigint,totalSize:bigint>,filesRemoved:struct<min:bigint,max:bigint,avg:double,totalFiles:bigint,totalSize:bigint>,partitionsOptimized:bigint,zOrderStats:struct<strategyName:string,inputCubeFiles:struct<num:bigint,size:bigint>,inputOtherFiles:struct<num:bigint,size:bigint>,inputNumCubes:bigint,mergedFiles:struct<num:bigint,size:bigint>,numOutputCubes:bigint,mergedNumCubes:bigint>,numBatches:bigint,totalConsideredFiles:bigint,totalFilesSkipped:bigint,preserveInsertionOrder:boolean,numFilesSkippedToReduceWriteAmplification:bigint,numBytesSkippedToReduceWriteAmplification:bigint,startTimeMs:bigint,endTimeMs:bigint,totalClusterParallelism:bigint,totalScheduledTasks:bigint,autoCompactParallelismStats:struct<maxClusterActiveParallelism:bigint,minClusterActiveParallelism:bigint,maxSessionActiveParallelism:bigint,minSessionActiveParallelism:bigint>,deletionVectorStats:struct<numDeletionVectorsRemoved:bigint,numDeletionVectorRowsRemoved:bigint>,numTableColumns:bigint,numTableColumnsWithStats:bigint>]"
      ]
     },
     "execution_count": 20,
     "metadata": {},
     "output_type": "execute_result"
    }
   ],
   "source": [
    "delta_table.optimize().executeZOrderBy(\"id1\", \"id2\")"
   ]
  },
  {
   "cell_type": "markdown",
   "id": "87e3aa5b-9ec1-4a5a-aceb-c17e8065f9df",
   "metadata": {},
   "source": [
    "## Create views for all four versions of the Delta table"
   ]
  },
  {
   "cell_type": "code",
   "execution_count": 11,
   "id": "65138424-809c-42a1-9d9b-193d5d6db1f1",
   "metadata": {},
   "outputs": [],
   "source": [
    "(\n",
    "    spark.read.format(\"delta\")\n",
    "    .option(\"versionAsOf\", \"0\")\n",
    "    .load(delta_path)\n",
    "    .createOrReplaceTempView(\"x0\")\n",
    ")"
   ]
  },
  {
   "cell_type": "code",
   "execution_count": 13,
   "id": "25f4de78-f5e7-4d19-9e8f-24bd6c29a69d",
   "metadata": {},
   "outputs": [],
   "source": [
    "(\n",
    "    spark.read.format(\"delta\")\n",
    "    .option(\"versionAsOf\", \"1\")\n",
    "    .load(delta_path)\n",
    "    .createOrReplaceTempView(\"x1\")\n",
    ")"
   ]
  },
  {
   "cell_type": "code",
   "execution_count": 17,
   "id": "57057b83-f182-4fd8-a21d-ae8a544784d0",
   "metadata": {},
   "outputs": [],
   "source": [
    "(\n",
    "    spark.read.format(\"delta\")\n",
    "    .option(\"versionAsOf\", \"2\")\n",
    "    .load(delta_path)\n",
    "    .createOrReplaceTempView(\"x2\")\n",
    ")"
   ]
  },
  {
   "cell_type": "code",
   "execution_count": 21,
   "id": "577de5c0-5018-47ce-ad66-b6d5dd4d9f2b",
   "metadata": {},
   "outputs": [],
   "source": [
    "(\n",
    "    spark.read.format(\"delta\")\n",
    "    .option(\"versionAsOf\", \"3\")\n",
    "    .load(delta_path)\n",
    "    .createOrReplaceTempView(\"x3\")\n",
    ")"
   ]
  },
  {
   "cell_type": "markdown",
   "id": "2de3e75b-3932-48c2-bf19-1fceef0e64c6",
   "metadata": {},
   "source": [
    "## query_a benchmarks"
   ]
  },
  {
   "cell_type": "code",
   "execution_count": 12,
   "id": "0658b79e-5250-4c80-ae07-d3a4a9605ccc",
   "metadata": {},
   "outputs": [
    {
     "name": "stderr",
     "output_type": "stream",
     "text": [
      "[Stage 50:==================================================>  (379 + 10) / 394]\r"
     ]
    },
    {
     "name": "stdout",
     "output_type": "stream",
     "text": [
      "CPU times: user 19.5 ms, sys: 8.91 ms, total: 28.4 ms\n",
      "Wall time: 5.97 s\n"
     ]
    },
    {
     "name": "stderr",
     "output_type": "stream",
     "text": [
      "                                                                                \r"
     ]
    },
    {
     "data": {
      "text/plain": [
       "[Row(id1='id016', v1=30003304.0)]"
      ]
     },
     "execution_count": 12,
     "metadata": {},
     "output_type": "execute_result"
    }
   ],
   "source": [
    "%%time\n",
    "\n",
    "spark.sql(\n",
    "    \"select id1, sum(v1) as v1 from x0 where id1 = 'id016' group by id1\"\n",
    ").collect()"
   ]
  },
  {
   "cell_type": "code",
   "execution_count": 14,
   "id": "dc7a51d8-478b-4ad0-ae54-c081802333f6",
   "metadata": {},
   "outputs": [
    {
     "name": "stderr",
     "output_type": "stream",
     "text": [
      "[Stage 55:===============================================>     (190 + 10) / 210]\r"
     ]
    },
    {
     "name": "stdout",
     "output_type": "stream",
     "text": [
      "CPU times: user 18.4 ms, sys: 8.4 ms, total: 26.8 ms\n",
      "Wall time: 4.73 s\n"
     ]
    },
    {
     "name": "stderr",
     "output_type": "stream",
     "text": [
      "                                                                                \r"
     ]
    },
    {
     "data": {
      "text/plain": [
       "[Row(id1='id016', v1=30003304.0)]"
      ]
     },
     "execution_count": 14,
     "metadata": {},
     "output_type": "execute_result"
    }
   ],
   "source": [
    "%%time\n",
    "\n",
    "spark.sql(\n",
    "    \"select id1, sum(v1) as v1 from x1 where id1 = 'id016' group by id1\"\n",
    ").collect()"
   ]
  },
  {
   "cell_type": "code",
   "execution_count": 25,
   "id": "a95297c6-3869-4243-98d1-a760cd735f66",
   "metadata": {},
   "outputs": [
    {
     "name": "stdout",
     "output_type": "stream",
     "text": [
      "CPU times: user 1.87 ms, sys: 1.9 ms, total: 3.77 ms\n",
      "Wall time: 526 ms\n"
     ]
    },
    {
     "data": {
      "text/plain": [
       "[Row(id1='id016', v1=30003304.0)]"
      ]
     },
     "execution_count": 25,
     "metadata": {},
     "output_type": "execute_result"
    }
   ],
   "source": [
    "%%time\n",
    "\n",
    "spark.sql(\n",
    "    \"select id1, sum(v1) as v1 from x2 where id1 = 'id016' group by id1\"\n",
    ").collect()"
   ]
  },
  {
   "cell_type": "code",
   "execution_count": 26,
   "id": "24b7e91d-b3e1-4c11-b8de-3829677ca50b",
   "metadata": {},
   "outputs": [
    {
     "name": "stdout",
     "output_type": "stream",
     "text": [
      "CPU times: user 1.81 ms, sys: 2.02 ms, total: 3.83 ms\n",
      "Wall time: 561 ms\n"
     ]
    },
    {
     "data": {
      "text/plain": [
       "[Row(id1='id016', v1=30003304.0)]"
      ]
     },
     "execution_count": 26,
     "metadata": {},
     "output_type": "execute_result"
    }
   ],
   "source": [
    "%%time\n",
    "\n",
    "spark.sql(\n",
    "    \"select id1, sum(v1) as v1 from x3 where id1 = 'id016' group by id1\"\n",
    ").collect()"
   ]
  },
  {
   "cell_type": "markdown",
   "id": "815d26bb-3e88-46f6-a263-d6a22c68ae19",
   "metadata": {},
   "source": [
    "## Use levi to analyze file skipping for query_a"
   ]
  },
  {
   "cell_type": "code",
   "execution_count": 31,
   "id": "55da57a3-56dd-4931-a686-b10c37c0b2e2",
   "metadata": {
    "tags": []
   },
   "outputs": [
    {
     "data": {
      "text/plain": [
       "{'num_files_<1mb': 0,\n",
       " 'num_files_1mb-500mb': 395,\n",
       " 'num_files_500mb-1gb': 0,\n",
       " 'num_files_1gb-2gb': 0,\n",
       " 'num_files_>2gb': 0}"
      ]
     },
     "execution_count": 31,
     "metadata": {},
     "output_type": "execute_result"
    }
   ],
   "source": [
    "dt = deltalake.DeltaTable(delta_path, version=0)\n",
    "levi.delta_file_sizes(dt)"
   ]
  },
  {
   "cell_type": "code",
   "execution_count": 32,
   "id": "a438e2f7-f8f7-41d0-a01b-002f4857af93",
   "metadata": {},
   "outputs": [
    {
     "data": {
      "text/plain": [
       "{'num_files': 395, 'num_files_skipped': 0, 'num_bytes_skipped': 0}"
      ]
     },
     "execution_count": 32,
     "metadata": {},
     "output_type": "execute_result"
    }
   ],
   "source": [
    "levi.skipped_stats(dt, filters=[(\"id1\", \"=\", \"'id016'\")])"
   ]
  },
  {
   "cell_type": "code",
   "execution_count": 33,
   "id": "c8d6f837-2a3c-49ee-ae27-57a9982a4fa6",
   "metadata": {
    "scrolled": true,
    "tags": []
   },
   "outputs": [
    {
     "data": {
      "text/plain": [
       "{'num_files_<1mb': 0,\n",
       " 'num_files_1mb-500mb': 1,\n",
       " 'num_files_500mb-1gb': 0,\n",
       " 'num_files_1gb-2gb': 26,\n",
       " 'num_files_>2gb': 0}"
      ]
     },
     "execution_count": 33,
     "metadata": {},
     "output_type": "execute_result"
    }
   ],
   "source": [
    "dt = deltalake.DeltaTable(delta_path, version=1)\n",
    "levi.delta_file_sizes(dt)"
   ]
  },
  {
   "cell_type": "code",
   "execution_count": 34,
   "id": "ea9c3e62-9a9e-4225-ae0f-81ecd5360a56",
   "metadata": {},
   "outputs": [
    {
     "data": {
      "text/plain": [
       "{'num_files': 27, 'num_files_skipped': 0, 'num_bytes_skipped': 0}"
      ]
     },
     "execution_count": 34,
     "metadata": {},
     "output_type": "execute_result"
    }
   ],
   "source": [
    "levi.skipped_stats(dt, filters=[(\"id1\", \"=\", \"'id016'\")])"
   ]
  },
  {
   "cell_type": "code",
   "execution_count": 35,
   "id": "b885be78-3909-4e09-8acb-38ca061f0be1",
   "metadata": {},
   "outputs": [
    {
     "data": {
      "text/plain": [
       "{'num_files_<1mb': 0,\n",
       " 'num_files_1mb-500mb': 0,\n",
       " 'num_files_500mb-1gb': 4,\n",
       " 'num_files_1gb-2gb': 21,\n",
       " 'num_files_>2gb': 0}"
      ]
     },
     "execution_count": 35,
     "metadata": {},
     "output_type": "execute_result"
    }
   ],
   "source": [
    "dt = deltalake.DeltaTable(delta_path, version=2)\n",
    "levi.delta_file_sizes(dt)"
   ]
  },
  {
   "cell_type": "code",
   "execution_count": 36,
   "id": "6cbbcd61-3f1b-4cb6-879d-58b73ae65954",
   "metadata": {},
   "outputs": [
    {
     "data": {
      "text/plain": [
       "{'num_files': 25, 'num_files_skipped': 24, 'num_bytes_skipped': 26071485607}"
      ]
     },
     "execution_count": 36,
     "metadata": {},
     "output_type": "execute_result"
    }
   ],
   "source": [
    "levi.skipped_stats(dt, filters=[(\"id1\", \"=\", \"'id016'\")])"
   ]
  },
  {
   "cell_type": "code",
   "execution_count": 37,
   "id": "067c7ff0-9d33-44a2-b010-8eccadf4c564",
   "metadata": {},
   "outputs": [
    {
     "data": {
      "text/plain": [
       "{'num_files_<1mb': 0,\n",
       " 'num_files_1mb-500mb': 0,\n",
       " 'num_files_500mb-1gb': 2,\n",
       " 'num_files_1gb-2gb': 23,\n",
       " 'num_files_>2gb': 0}"
      ]
     },
     "execution_count": 37,
     "metadata": {},
     "output_type": "execute_result"
    }
   ],
   "source": [
    "dt = deltalake.DeltaTable(delta_path, version=3)\n",
    "levi.delta_file_sizes(dt)"
   ]
  },
  {
   "cell_type": "code",
   "execution_count": 38,
   "id": "4c85b52a-1563-45cf-b528-7d7b5d555b97",
   "metadata": {
    "collapsed": true,
    "jupyter": {
     "outputs_hidden": true
    }
   },
   "outputs": [
    {
     "data": {
      "text/plain": [
       "{'num_files': 25, 'num_files_skipped': 18, 'num_bytes_skipped': 19445472638}"
      ]
     },
     "execution_count": 38,
     "metadata": {},
     "output_type": "execute_result"
    }
   ],
   "source": [
    "levi.skipped_stats(dt, filters=[(\"id1\", \"=\", \"'id016'\")])"
   ]
  },
  {
   "cell_type": "markdown",
   "id": "08cf0c1f-00a5-44de-9032-915d0ec95234",
   "metadata": {},
   "source": [
    "## query_b benchmarks"
   ]
  },
  {
   "cell_type": "code",
   "execution_count": 39,
   "id": "b1853a82-3e50-4076-9384-98217a336ac0",
   "metadata": {},
   "outputs": [
    {
     "name": "stderr",
     "output_type": "stream",
     "text": [
      "[Stage 146:================================================>   (366 + 10) / 394]\r"
     ]
    },
    {
     "name": "stdout",
     "output_type": "stream",
     "text": [
      "CPU times: user 15.6 ms, sys: 7.02 ms, total: 22.6 ms\n",
      "Wall time: 4.74 s\n"
     ]
    },
    {
     "name": "stderr",
     "output_type": "stream",
     "text": [
      "                                                                                \r"
     ]
    },
    {
     "data": {
      "text/plain": [
       "[Row(id2='id047', v1=29996255.0)]"
      ]
     },
     "execution_count": 39,
     "metadata": {},
     "output_type": "execute_result"
    }
   ],
   "source": [
    "%%time\n",
    "\n",
    "spark.sql(\n",
    "    \"select id2, sum(v1) as v1 from x0 where id2 = 'id047' group by id2\"\n",
    ").collect()"
   ]
  },
  {
   "cell_type": "code",
   "execution_count": 40,
   "id": "50407579-b7c2-43c5-8172-087de0bc4123",
   "metadata": {},
   "outputs": [
    {
     "name": "stderr",
     "output_type": "stream",
     "text": [
      "[Stage 151:=================================================>  (199 + 10) / 210]\r"
     ]
    },
    {
     "name": "stdout",
     "output_type": "stream",
     "text": [
      "CPU times: user 15.2 ms, sys: 7.12 ms, total: 22.4 ms\n",
      "Wall time: 4.53 s\n"
     ]
    },
    {
     "name": "stderr",
     "output_type": "stream",
     "text": [
      "                                                                                \r"
     ]
    },
    {
     "data": {
      "text/plain": [
       "[Row(id2='id047', v1=29996255.0)]"
      ]
     },
     "execution_count": 40,
     "metadata": {},
     "output_type": "execute_result"
    }
   ],
   "source": [
    "%%time\n",
    "\n",
    "spark.sql(\n",
    "    \"select id2, sum(v1) as v1 from x1 where id2 = 'id047' group by id2\"\n",
    ").collect()"
   ]
  },
  {
   "cell_type": "code",
   "execution_count": 41,
   "id": "5bff368f-8271-4c0f-808f-7586f4302a2f",
   "metadata": {},
   "outputs": [
    {
     "name": "stderr",
     "output_type": "stream",
     "text": [
      "[Stage 156:================================================>   (191 + 10) / 205]\r"
     ]
    },
    {
     "name": "stdout",
     "output_type": "stream",
     "text": [
      "CPU times: user 15.4 ms, sys: 7.42 ms, total: 22.8 ms\n",
      "Wall time: 4.59 s\n"
     ]
    },
    {
     "name": "stderr",
     "output_type": "stream",
     "text": [
      "                                                                                \r"
     ]
    },
    {
     "data": {
      "text/plain": [
       "[Row(id2='id047', v1=29996255.0)]"
      ]
     },
     "execution_count": 41,
     "metadata": {},
     "output_type": "execute_result"
    }
   ],
   "source": [
    "%%time\n",
    "\n",
    "spark.sql(\n",
    "    \"select id2, sum(v1) as v1 from x2 where id2 = 'id047' group by id2\"\n",
    ").collect()"
   ]
  },
  {
   "cell_type": "code",
   "execution_count": 42,
   "id": "9402127d-5d5b-4985-b194-b3c8d7afc86a",
   "metadata": {},
   "outputs": [
    {
     "name": "stderr",
     "output_type": "stream",
     "text": [
      "[Stage 161:================================>                    (61 + 10) / 100]\r"
     ]
    },
    {
     "name": "stdout",
     "output_type": "stream",
     "text": [
      "CPU times: user 6.28 ms, sys: 4.53 ms, total: 10.8 ms\n",
      "Wall time: 1.6 s\n"
     ]
    },
    {
     "name": "stderr",
     "output_type": "stream",
     "text": [
      "                                                                                \r"
     ]
    },
    {
     "data": {
      "text/plain": [
       "[Row(id2='id047', v1=29996255.0)]"
      ]
     },
     "execution_count": 42,
     "metadata": {},
     "output_type": "execute_result"
    }
   ],
   "source": [
    "%%time\n",
    "\n",
    "spark.sql(\n",
    "    \"select id2, sum(v1) as v1 from x3 where id2 = 'id047' group by id2\"\n",
    ").collect()"
   ]
  },
  {
   "cell_type": "markdown",
   "id": "3063fbcb-7244-49eb-a985-6d798ac7e29f",
   "metadata": {},
   "source": [
    "## query_c benchmarks"
   ]
  },
  {
   "cell_type": "code",
   "execution_count": 47,
   "id": "23a1e9ae-c8dd-4c5d-b4d0-2a0cfaa4abae",
   "metadata": {},
   "outputs": [
    {
     "name": "stderr",
     "output_type": "stream",
     "text": [
      "[Stage 186:================================================>   (364 + 10) / 394]\r"
     ]
    },
    {
     "name": "stdout",
     "output_type": "stream",
     "text": [
      "CPU times: user 16.9 ms, sys: 6.69 ms, total: 23.6 ms\n",
      "Wall time: 4.92 s\n"
     ]
    },
    {
     "name": "stderr",
     "output_type": "stream",
     "text": [
      "                                                                                \r"
     ]
    },
    {
     "data": {
      "text/plain": [
       "[Row(id1='id016', id2='id047', sum(v1)=298361.0)]"
      ]
     },
     "execution_count": 47,
     "metadata": {},
     "output_type": "execute_result"
    }
   ],
   "source": [
    "%%time\n",
    "\n",
    "spark.sql(\n",
    "    \"select id1, id2, sum(v1) from x0 where id1 = 'id016' and id2 = 'id047' group by id1, id2\"\n",
    ").collect()"
   ]
  },
  {
   "cell_type": "code",
   "execution_count": 48,
   "id": "b5fe29db-4330-44b3-b840-2b0ac73c6c6e",
   "metadata": {},
   "outputs": [
    {
     "name": "stderr",
     "output_type": "stream",
     "text": [
      "[Stage 191:===============================================>    (192 + 10) / 210]\r"
     ]
    },
    {
     "name": "stdout",
     "output_type": "stream",
     "text": [
      "CPU times: user 18.1 ms, sys: 7.21 ms, total: 25.3 ms\n",
      "Wall time: 4.73 s\n"
     ]
    },
    {
     "name": "stderr",
     "output_type": "stream",
     "text": [
      "                                                                                \r"
     ]
    },
    {
     "data": {
      "text/plain": [
       "[Row(id1='id016', id2='id047', sum(v1)=298361.0)]"
      ]
     },
     "execution_count": 48,
     "metadata": {},
     "output_type": "execute_result"
    }
   ],
   "source": [
    "%%time\n",
    "\n",
    "spark.sql(\n",
    "    \"select id1, id2, sum(v1) from x1 where id1 = 'id016' and id2 = 'id047' group by id1, id2\"\n",
    ").collect()"
   ]
  },
  {
   "cell_type": "code",
   "execution_count": 49,
   "id": "8996eca9-aadd-4277-9429-41a598decf95",
   "metadata": {},
   "outputs": [
    {
     "name": "stdout",
     "output_type": "stream",
     "text": [
      "CPU times: user 1.81 ms, sys: 2.39 ms, total: 4.2 ms\n",
      "Wall time: 498 ms\n"
     ]
    },
    {
     "data": {
      "text/plain": [
       "[Row(id1='id016', id2='id047', sum(v1)=298361.0)]"
      ]
     },
     "execution_count": 49,
     "metadata": {},
     "output_type": "execute_result"
    }
   ],
   "source": [
    "%%time\n",
    "\n",
    "spark.sql(\n",
    "    \"select id1, id2, sum(v1) from x2 where id1 = 'id016' and id2 = 'id047' group by id1, id2\"\n",
    ").collect()"
   ]
  },
  {
   "cell_type": "code",
   "execution_count": 50,
   "id": "101e0707-b407-4930-bfed-c5ad337ef9db",
   "metadata": {},
   "outputs": [
    {
     "name": "stdout",
     "output_type": "stream",
     "text": [
      "CPU times: user 1.72 ms, sys: 2.12 ms, total: 3.84 ms\n",
      "Wall time: 345 ms\n"
     ]
    },
    {
     "data": {
      "text/plain": [
       "[Row(id1='id016', id2='id047', sum(v1)=298361.0)]"
      ]
     },
     "execution_count": 50,
     "metadata": {},
     "output_type": "execute_result"
    }
   ],
   "source": [
    "%%time\n",
    "\n",
    "spark.sql(\n",
    "    \"select id1, id2, sum(v1) from x3 where id1 = 'id016' and id2 = 'id047' group by id1, id2\"\n",
    ").collect()"
   ]
  },
  {
   "cell_type": "markdown",
   "id": "37cefddb-1cde-4848-98f2-fbacf3d08a4b",
   "metadata": {},
   "source": [
    "## h20 groupby query #1"
   ]
  },
  {
   "cell_type": "code",
   "execution_count": 27,
   "id": "96c09424-95a4-4b9b-867c-904f9bdf8826",
   "metadata": {
    "scrolled": true
   },
   "outputs": [
    {
     "name": "stderr",
     "output_type": "stream",
     "text": [
      "[Stage 124:====================================================>(393 + 1) / 394]\r"
     ]
    },
    {
     "name": "stdout",
     "output_type": "stream",
     "text": [
      "CPU times: user 90.6 ms, sys: 31.1 ms, total: 122 ms\n",
      "Wall time: 28.5 s\n"
     ]
    },
    {
     "name": "stderr",
     "output_type": "stream",
     "text": [
      "                                                                                \r"
     ]
    },
    {
     "data": {
      "text/plain": [
       "[Row(id1='id089', v1=29990077.0),\n",
       " Row(id1='id080', v1=29979880.0),\n",
       " Row(id1='id087', v1=29997379.0),\n",
       " Row(id1='id073', v1=30006820.0),\n",
       " Row(id1='id043', v1=30005705.0),\n",
       " Row(id1='id064', v1=29985828.0),\n",
       " Row(id1='id051', v1=29994785.0),\n",
       " Row(id1='id045', v1=29992441.0),\n",
       " Row(id1='id074', v1=30006309.0),\n",
       " Row(id1='id023', v1=29988818.0),\n",
       " Row(id1='id006', v1=30006882.0),\n",
       " Row(id1='id013', v1=29989026.0),\n",
       " Row(id1='id055', v1=30009993.0),\n",
       " Row(id1='id099', v1=30009485.0),\n",
       " Row(id1='id056', v1=29987234.0),\n",
       " Row(id1='id052', v1=30014118.0),\n",
       " Row(id1='id093', v1=29988829.0),\n",
       " Row(id1='id075', v1=30013372.0),\n",
       " Row(id1='id034', v1=30010786.0),\n",
       " Row(id1='id036', v1=29994349.0),\n",
       " Row(id1='id032', v1=29986434.0),\n",
       " Row(id1='id097', v1=30015928.0),\n",
       " Row(id1='id059', v1=30010798.0),\n",
       " Row(id1='id065', v1=30007777.0),\n",
       " Row(id1='id005', v1=29993888.0),\n",
       " Row(id1='id003', v1=30003365.0),\n",
       " Row(id1='id037', v1=29996759.0),\n",
       " Row(id1='id062', v1=29996661.0),\n",
       " Row(id1='id002', v1=29996534.0),\n",
       " Row(id1='id094', v1=30005130.0),\n",
       " Row(id1='id090', v1=29994958.0),\n",
       " Row(id1='id046', v1=30010825.0),\n",
       " Row(id1='id030', v1=29991188.0),\n",
       " Row(id1='id086', v1=30003608.0),\n",
       " Row(id1='id063', v1=30006173.0),\n",
       " Row(id1='id066', v1=29997843.0),\n",
       " Row(id1='id057', v1=29991822.0),\n",
       " Row(id1='id038', v1=29995309.0),\n",
       " Row(id1='id054', v1=30011978.0),\n",
       " Row(id1='id033', v1=29983262.0),\n",
       " Row(id1='id021', v1=29982118.0),\n",
       " Row(id1='id042', v1=29989540.0),\n",
       " Row(id1='id009', v1=29994474.0),\n",
       " Row(id1='id027', v1=30000498.0),\n",
       " Row(id1='id069', v1=30017471.0),\n",
       " Row(id1='id028', v1=29988103.0),\n",
       " Row(id1='id053', v1=29992360.0),\n",
       " Row(id1='id004', v1=30015990.0),\n",
       " Row(id1='id068', v1=30008470.0),\n",
       " Row(id1='id084', v1=30005578.0),\n",
       " Row(id1='id058', v1=29999957.0),\n",
       " Row(id1='id001', v1=30009448.0),\n",
       " Row(id1='id079', v1=30009124.0),\n",
       " Row(id1='id100', v1=29987827.0),\n",
       " Row(id1='id083', v1=30005209.0),\n",
       " Row(id1='id007', v1=29992448.0),\n",
       " Row(id1='id091', v1=29995955.0),\n",
       " Row(id1='id096', v1=29993372.0),\n",
       " Row(id1='id072', v1=30003522.0),\n",
       " Row(id1='id014', v1=29998476.0),\n",
       " Row(id1='id085', v1=30010513.0),\n",
       " Row(id1='id071', v1=29998357.0),\n",
       " Row(id1='id060', v1=30021845.0),\n",
       " Row(id1='id018', v1=29992469.0),\n",
       " Row(id1='id077', v1=29990807.0),\n",
       " Row(id1='id041', v1=29994657.0),\n",
       " Row(id1='id020', v1=29993667.0),\n",
       " Row(id1='id098', v1=29997789.0),\n",
       " Row(id1='id008', v1=29999024.0),\n",
       " Row(id1='id016', v1=30003304.0),\n",
       " Row(id1='id039', v1=30000168.0),\n",
       " Row(id1='id076', v1=29998420.0),\n",
       " Row(id1='id025', v1=30016745.0),\n",
       " Row(id1='id022', v1=29994847.0),\n",
       " Row(id1='id082', v1=30007351.0),\n",
       " Row(id1='id050', v1=30008271.0),\n",
       " Row(id1='id031', v1=29998489.0),\n",
       " Row(id1='id047', v1=29972409.0),\n",
       " Row(id1='id010', v1=30006196.0),\n",
       " Row(id1='id070', v1=29990210.0),\n",
       " Row(id1='id044', v1=29999327.0),\n",
       " Row(id1='id092', v1=29996666.0),\n",
       " Row(id1='id026', v1=29993858.0),\n",
       " Row(id1='id095', v1=30010887.0),\n",
       " Row(id1='id081', v1=29988686.0),\n",
       " Row(id1='id017', v1=29995061.0),\n",
       " Row(id1='id048', v1=29998849.0),\n",
       " Row(id1='id029', v1=30003726.0),\n",
       " Row(id1='id049', v1=29978475.0),\n",
       " Row(id1='id035', v1=30003917.0),\n",
       " Row(id1='id019', v1=29998785.0),\n",
       " Row(id1='id015', v1=30006177.0),\n",
       " Row(id1='id012', v1=29990141.0),\n",
       " Row(id1='id067', v1=29996312.0),\n",
       " Row(id1='id040', v1=29989173.0),\n",
       " Row(id1='id061', v1=30012298.0),\n",
       " Row(id1='id011', v1=30002510.0),\n",
       " Row(id1='id078', v1=29998434.0),\n",
       " Row(id1='id088', v1=29999642.0),\n",
       " Row(id1='id024', v1=30003956.0)]"
      ]
     },
     "execution_count": 27,
     "metadata": {},
     "output_type": "execute_result"
    }
   ],
   "source": [
    "%%time\n",
    "\n",
    "spark.sql(\"select id1, sum(v1) as v1 from x0 group by id1\").collect()"
   ]
  },
  {
   "cell_type": "code",
   "execution_count": 28,
   "id": "7f10f534-56d8-4311-a278-3e6bc35ff153",
   "metadata": {
    "scrolled": true
   },
   "outputs": [
    {
     "name": "stderr",
     "output_type": "stream",
     "text": [
      "[Stage 130:====================================================>(209 + 1) / 210]\r"
     ]
    },
    {
     "name": "stdout",
     "output_type": "stream",
     "text": [
      "CPU times: user 70.4 ms, sys: 25.7 ms, total: 96.1 ms\n",
      "Wall time: 23 s\n"
     ]
    },
    {
     "name": "stderr",
     "output_type": "stream",
     "text": [
      "                                                                                \r"
     ]
    },
    {
     "data": {
      "text/plain": [
       "[Row(id1='id089', v1=29990077.0),\n",
       " Row(id1='id080', v1=29979880.0),\n",
       " Row(id1='id087', v1=29997379.0),\n",
       " Row(id1='id073', v1=30006820.0),\n",
       " Row(id1='id064', v1=29985828.0),\n",
       " Row(id1='id043', v1=30005705.0),\n",
       " Row(id1='id051', v1=29994785.0),\n",
       " Row(id1='id045', v1=29992441.0),\n",
       " Row(id1='id074', v1=30006309.0),\n",
       " Row(id1='id023', v1=29988818.0),\n",
       " Row(id1='id006', v1=30006882.0),\n",
       " Row(id1='id013', v1=29989026.0),\n",
       " Row(id1='id055', v1=30009993.0),\n",
       " Row(id1='id099', v1=30009485.0),\n",
       " Row(id1='id056', v1=29987234.0),\n",
       " Row(id1='id052', v1=30014118.0),\n",
       " Row(id1='id093', v1=29988829.0),\n",
       " Row(id1='id034', v1=30010786.0),\n",
       " Row(id1='id075', v1=30013372.0),\n",
       " Row(id1='id036', v1=29994349.0),\n",
       " Row(id1='id032', v1=29986434.0),\n",
       " Row(id1='id097', v1=30015928.0),\n",
       " Row(id1='id059', v1=30010798.0),\n",
       " Row(id1='id065', v1=30007777.0),\n",
       " Row(id1='id005', v1=29993888.0),\n",
       " Row(id1='id003', v1=30003365.0),\n",
       " Row(id1='id037', v1=29996759.0),\n",
       " Row(id1='id062', v1=29996661.0),\n",
       " Row(id1='id094', v1=30005130.0),\n",
       " Row(id1='id002', v1=29996534.0),\n",
       " Row(id1='id090', v1=29994958.0),\n",
       " Row(id1='id046', v1=30010825.0),\n",
       " Row(id1='id030', v1=29991188.0),\n",
       " Row(id1='id086', v1=30003608.0),\n",
       " Row(id1='id063', v1=30006173.0),\n",
       " Row(id1='id066', v1=29997843.0),\n",
       " Row(id1='id057', v1=29991822.0),\n",
       " Row(id1='id038', v1=29995309.0),\n",
       " Row(id1='id054', v1=30011978.0),\n",
       " Row(id1='id033', v1=29983262.0),\n",
       " Row(id1='id021', v1=29982118.0),\n",
       " Row(id1='id009', v1=29994474.0),\n",
       " Row(id1='id042', v1=29989540.0),\n",
       " Row(id1='id027', v1=30000498.0),\n",
       " Row(id1='id069', v1=30017471.0),\n",
       " Row(id1='id053', v1=29992360.0),\n",
       " Row(id1='id028', v1=29988103.0),\n",
       " Row(id1='id004', v1=30015990.0),\n",
       " Row(id1='id084', v1=30005578.0),\n",
       " Row(id1='id068', v1=30008470.0),\n",
       " Row(id1='id058', v1=29999957.0),\n",
       " Row(id1='id001', v1=30009448.0),\n",
       " Row(id1='id079', v1=30009124.0),\n",
       " Row(id1='id100', v1=29987827.0),\n",
       " Row(id1='id083', v1=30005209.0),\n",
       " Row(id1='id007', v1=29992448.0),\n",
       " Row(id1='id091', v1=29995955.0),\n",
       " Row(id1='id072', v1=30003522.0),\n",
       " Row(id1='id096', v1=29993372.0),\n",
       " Row(id1='id014', v1=29998476.0),\n",
       " Row(id1='id071', v1=29998357.0),\n",
       " Row(id1='id085', v1=30010513.0),\n",
       " Row(id1='id060', v1=30021845.0),\n",
       " Row(id1='id018', v1=29992469.0),\n",
       " Row(id1='id077', v1=29990807.0),\n",
       " Row(id1='id041', v1=29994657.0),\n",
       " Row(id1='id020', v1=29993667.0),\n",
       " Row(id1='id098', v1=29997789.0),\n",
       " Row(id1='id008', v1=29999024.0),\n",
       " Row(id1='id016', v1=30003304.0),\n",
       " Row(id1='id039', v1=30000168.0),\n",
       " Row(id1='id076', v1=29998420.0),\n",
       " Row(id1='id025', v1=30016745.0),\n",
       " Row(id1='id022', v1=29994847.0),\n",
       " Row(id1='id082', v1=30007351.0),\n",
       " Row(id1='id050', v1=30008271.0),\n",
       " Row(id1='id031', v1=29998489.0),\n",
       " Row(id1='id047', v1=29972409.0),\n",
       " Row(id1='id070', v1=29990210.0),\n",
       " Row(id1='id010', v1=30006196.0),\n",
       " Row(id1='id044', v1=29999327.0),\n",
       " Row(id1='id092', v1=29996666.0),\n",
       " Row(id1='id026', v1=29993858.0),\n",
       " Row(id1='id081', v1=29988686.0),\n",
       " Row(id1='id095', v1=30010887.0),\n",
       " Row(id1='id017', v1=29995061.0),\n",
       " Row(id1='id048', v1=29998849.0),\n",
       " Row(id1='id029', v1=30003726.0),\n",
       " Row(id1='id049', v1=29978475.0),\n",
       " Row(id1='id019', v1=29998785.0),\n",
       " Row(id1='id035', v1=30003917.0),\n",
       " Row(id1='id012', v1=29990141.0),\n",
       " Row(id1='id015', v1=30006177.0),\n",
       " Row(id1='id067', v1=29996312.0),\n",
       " Row(id1='id040', v1=29989173.0),\n",
       " Row(id1='id011', v1=30002510.0),\n",
       " Row(id1='id061', v1=30012298.0),\n",
       " Row(id1='id078', v1=29998434.0),\n",
       " Row(id1='id088', v1=29999642.0),\n",
       " Row(id1='id024', v1=30003956.0)]"
      ]
     },
     "execution_count": 28,
     "metadata": {},
     "output_type": "execute_result"
    }
   ],
   "source": [
    "%%time\n",
    "\n",
    "spark.sql(\"select id1, sum(v1) as v1 from x1 group by id1\").collect()"
   ]
  },
  {
   "cell_type": "code",
   "execution_count": 29,
   "id": "ec14d830-0306-40b3-8e9c-aff2196fb162",
   "metadata": {
    "scrolled": true
   },
   "outputs": [
    {
     "name": "stderr",
     "output_type": "stream",
     "text": [
      "[Stage 136:===================================================> (199 + 6) / 205]\r"
     ]
    },
    {
     "name": "stdout",
     "output_type": "stream",
     "text": [
      "CPU times: user 95.8 ms, sys: 32.7 ms, total: 129 ms\n",
      "Wall time: 24.5 s\n"
     ]
    },
    {
     "name": "stderr",
     "output_type": "stream",
     "text": [
      "                                                                                \r"
     ]
    },
    {
     "data": {
      "text/plain": [
       "[Row(id1='id013', v1=29989026.0),\n",
       " Row(id1='id014', v1=29998476.0),\n",
       " Row(id1='id016', v1=30003304.0),\n",
       " Row(id1='id017', v1=29995061.0),\n",
       " Row(id1='id015', v1=30006177.0),\n",
       " Row(id1='id023', v1=29988818.0),\n",
       " Row(id1='id021', v1=29982118.0),\n",
       " Row(id1='id025', v1=30016745.0),\n",
       " Row(id1='id022', v1=29994847.0),\n",
       " Row(id1='id024', v1=30003956.0),\n",
       " Row(id1='id093', v1=29988829.0),\n",
       " Row(id1='id094', v1=30005130.0),\n",
       " Row(id1='id096', v1=29993372.0),\n",
       " Row(id1='id092', v1=29996666.0),\n",
       " Row(id1='id095', v1=30010887.0),\n",
       " Row(id1='id064', v1=29985828.0),\n",
       " Row(id1='id062', v1=29996661.0),\n",
       " Row(id1='id063', v1=30006173.0),\n",
       " Row(id1='id060', v1=30021845.0),\n",
       " Row(id1='id061', v1=30012298.0),\n",
       " Row(id1='id099', v1=30009485.0),\n",
       " Row(id1='id097', v1=30015928.0),\n",
       " Row(id1='id100', v1=29987827.0),\n",
       " Row(id1='id098', v1=29997789.0),\n",
       " Row(id1='id006', v1=30006882.0),\n",
       " Row(id1='id005', v1=29993888.0),\n",
       " Row(id1='id009', v1=29994474.0),\n",
       " Row(id1='id007', v1=29992448.0),\n",
       " Row(id1='id008', v1=29999024.0),\n",
       " Row(id1='id059', v1=30010798.0),\n",
       " Row(id1='id057', v1=29991822.0),\n",
       " Row(id1='id058', v1=29999957.0),\n",
       " Row(id1='id080', v1=29979880.0),\n",
       " Row(id1='id084', v1=30005578.0),\n",
       " Row(id1='id083', v1=30005209.0),\n",
       " Row(id1='id082', v1=30007351.0),\n",
       " Row(id1='id081', v1=29988686.0),\n",
       " Row(id1='id087', v1=29997379.0),\n",
       " Row(id1='id086', v1=30003608.0),\n",
       " Row(id1='id085', v1=30010513.0),\n",
       " Row(id1='id088', v1=29999642.0),\n",
       " Row(id1='id069', v1=30017471.0),\n",
       " Row(id1='id068', v1=30008470.0),\n",
       " Row(id1='id072', v1=30003522.0),\n",
       " Row(id1='id071', v1=29998357.0),\n",
       " Row(id1='id070', v1=29990210.0),\n",
       " Row(id1='id018', v1=29992469.0),\n",
       " Row(id1='id020', v1=29993667.0),\n",
       " Row(id1='id019', v1=29998785.0),\n",
       " Row(id1='id010', v1=30006196.0),\n",
       " Row(id1='id012', v1=29990141.0),\n",
       " Row(id1='id011', v1=30002510.0),\n",
       " Row(id1='id051', v1=29994785.0),\n",
       " Row(id1='id052', v1=30014118.0),\n",
       " Row(id1='id053', v1=29992360.0),\n",
       " Row(id1='id050', v1=30008271.0),\n",
       " Row(id1='id049', v1=29978475.0),\n",
       " Row(id1='id003', v1=30003365.0),\n",
       " Row(id1='id002', v1=29996534.0),\n",
       " Row(id1='id004', v1=30015990.0),\n",
       " Row(id1='id001', v1=30009448.0),\n",
       " Row(id1='id034', v1=30010786.0),\n",
       " Row(id1='id036', v1=29994349.0),\n",
       " Row(id1='id037', v1=29996759.0),\n",
       " Row(id1='id033', v1=29983262.0),\n",
       " Row(id1='id035', v1=30003917.0),\n",
       " Row(id1='id073', v1=30006820.0),\n",
       " Row(id1='id074', v1=30006309.0),\n",
       " Row(id1='id075', v1=30013372.0),\n",
       " Row(id1='id076', v1=29998420.0),\n",
       " Row(id1='id065', v1=30007777.0),\n",
       " Row(id1='id066', v1=29997843.0),\n",
       " Row(id1='id067', v1=29996312.0),\n",
       " Row(id1='id038', v1=29995309.0),\n",
       " Row(id1='id039', v1=30000168.0),\n",
       " Row(id1='id040', v1=29989173.0),\n",
       " Row(id1='id055', v1=30009993.0),\n",
       " Row(id1='id056', v1=29987234.0),\n",
       " Row(id1='id054', v1=30011978.0),\n",
       " Row(id1='id079', v1=30009124.0),\n",
       " Row(id1='id077', v1=29990807.0),\n",
       " Row(id1='id078', v1=29998434.0),\n",
       " Row(id1='id032', v1=29986434.0),\n",
       " Row(id1='id030', v1=29991188.0),\n",
       " Row(id1='id031', v1=29998489.0),\n",
       " Row(id1='id029', v1=30003726.0),\n",
       " Row(id1='id089', v1=29990077.0),\n",
       " Row(id1='id090', v1=29994958.0),\n",
       " Row(id1='id091', v1=29995955.0),\n",
       " Row(id1='id043', v1=30005705.0),\n",
       " Row(id1='id045', v1=29992441.0),\n",
       " Row(id1='id042', v1=29989540.0),\n",
       " Row(id1='id041', v1=29994657.0),\n",
       " Row(id1='id044', v1=29999327.0),\n",
       " Row(id1='id046', v1=30010825.0),\n",
       " Row(id1='id047', v1=29972409.0),\n",
       " Row(id1='id048', v1=29998849.0),\n",
       " Row(id1='id027', v1=30000498.0),\n",
       " Row(id1='id028', v1=29988103.0),\n",
       " Row(id1='id026', v1=29993858.0)]"
      ]
     },
     "execution_count": 29,
     "metadata": {},
     "output_type": "execute_result"
    }
   ],
   "source": [
    "%%time\n",
    "\n",
    "spark.sql(\"select id1, sum(v1) as v1 from x2 group by id1\").collect()"
   ]
  },
  {
   "cell_type": "code",
   "execution_count": 30,
   "id": "eb985e1c-04de-46bc-91de-d7c4c7e08358",
   "metadata": {
    "scrolled": true
   },
   "outputs": [
    {
     "name": "stderr",
     "output_type": "stream",
     "text": [
      "[Stage 141:===================================================> (198 + 5) / 203]\r"
     ]
    },
    {
     "name": "stdout",
     "output_type": "stream",
     "text": [
      "CPU times: user 69.4 ms, sys: 26.8 ms, total: 96.2 ms\n",
      "Wall time: 19.2 s\n"
     ]
    },
    {
     "name": "stderr",
     "output_type": "stream",
     "text": [
      "                                                                                \r"
     ]
    },
    {
     "data": {
      "text/plain": [
       "[Row(id1='id064', v1=29985828.0),\n",
       " Row(id1='id013', v1=29989026.0),\n",
       " Row(id1='id014', v1=29998476.0),\n",
       " Row(id1='id016', v1=30003304.0),\n",
       " Row(id1='id015', v1=30006177.0),\n",
       " Row(id1='id009', v1=29994474.0),\n",
       " Row(id1='id010', v1=30006196.0),\n",
       " Row(id1='id012', v1=29990141.0),\n",
       " Row(id1='id011', v1=30002510.0),\n",
       " Row(id1='id005', v1=29993888.0),\n",
       " Row(id1='id003', v1=30003365.0),\n",
       " Row(id1='id002', v1=29996534.0),\n",
       " Row(id1='id004', v1=30015990.0),\n",
       " Row(id1='id001', v1=30009448.0),\n",
       " Row(id1='id006', v1=30006882.0),\n",
       " Row(id1='id007', v1=29992448.0),\n",
       " Row(id1='id008', v1=29999024.0),\n",
       " Row(id1='id021', v1=29982118.0),\n",
       " Row(id1='id018', v1=29992469.0),\n",
       " Row(id1='id020', v1=29993667.0),\n",
       " Row(id1='id017', v1=29995061.0),\n",
       " Row(id1='id019', v1=29998785.0),\n",
       " Row(id1='id023', v1=29988818.0),\n",
       " Row(id1='id022', v1=29994847.0),\n",
       " Row(id1='id024', v1=30003956.0),\n",
       " Row(id1='id089', v1=29990077.0),\n",
       " Row(id1='id090', v1=29994958.0),\n",
       " Row(id1='id091', v1=29995955.0),\n",
       " Row(id1='id092', v1=29996666.0),\n",
       " Row(id1='id088', v1=29999642.0),\n",
       " Row(id1='id065', v1=30007777.0),\n",
       " Row(id1='id066', v1=29997843.0),\n",
       " Row(id1='id068', v1=30008470.0),\n",
       " Row(id1='id067', v1=29996312.0),\n",
       " Row(id1='id080', v1=29979880.0),\n",
       " Row(id1='id087', v1=29997379.0),\n",
       " Row(id1='id086', v1=30003608.0),\n",
       " Row(id1='id084', v1=30005578.0),\n",
       " Row(id1='id079', v1=30009124.0),\n",
       " Row(id1='id085', v1=30010513.0),\n",
       " Row(id1='id077', v1=29990807.0),\n",
       " Row(id1='id076', v1=29998420.0),\n",
       " Row(id1='id078', v1=29998434.0),\n",
       " Row(id1='id083', v1=30005209.0),\n",
       " Row(id1='id082', v1=30007351.0),\n",
       " Row(id1='id081', v1=29988686.0),\n",
       " Row(id1='id069', v1=30017471.0),\n",
       " Row(id1='id072', v1=30003522.0),\n",
       " Row(id1='id071', v1=29998357.0),\n",
       " Row(id1='id070', v1=29990210.0),\n",
       " Row(id1='id073', v1=30006820.0),\n",
       " Row(id1='id074', v1=30006309.0),\n",
       " Row(id1='id075', v1=30013372.0),\n",
       " Row(id1='id096', v1=29993372.0),\n",
       " Row(id1='id093', v1=29988829.0),\n",
       " Row(id1='id094', v1=30005130.0),\n",
       " Row(id1='id095', v1=30010887.0),\n",
       " Row(id1='id099', v1=30009485.0),\n",
       " Row(id1='id097', v1=30015928.0),\n",
       " Row(id1='id100', v1=29987827.0),\n",
       " Row(id1='id098', v1=29997789.0),\n",
       " Row(id1='id025', v1=30016745.0),\n",
       " Row(id1='id032', v1=29986434.0),\n",
       " Row(id1='id030', v1=29991188.0),\n",
       " Row(id1='id031', v1=29998489.0),\n",
       " Row(id1='id029', v1=30003726.0),\n",
       " Row(id1='id027', v1=30000498.0),\n",
       " Row(id1='id028', v1=29988103.0),\n",
       " Row(id1='id026', v1=29993858.0),\n",
       " Row(id1='id059', v1=30010798.0),\n",
       " Row(id1='id057', v1=29991822.0),\n",
       " Row(id1='id058', v1=29999957.0),\n",
       " Row(id1='id060', v1=30021845.0),\n",
       " Row(id1='id055', v1=30009993.0),\n",
       " Row(id1='id056', v1=29987234.0),\n",
       " Row(id1='id054', v1=30011978.0),\n",
       " Row(id1='id053', v1=29992360.0),\n",
       " Row(id1='id062', v1=29996661.0),\n",
       " Row(id1='id063', v1=30006173.0),\n",
       " Row(id1='id061', v1=30012298.0),\n",
       " Row(id1='id051', v1=29994785.0),\n",
       " Row(id1='id052', v1=30014118.0),\n",
       " Row(id1='id050', v1=30008271.0),\n",
       " Row(id1='id049', v1=29978475.0),\n",
       " Row(id1='id034', v1=30010786.0),\n",
       " Row(id1='id036', v1=29994349.0),\n",
       " Row(id1='id037', v1=29996759.0),\n",
       " Row(id1='id033', v1=29983262.0),\n",
       " Row(id1='id035', v1=30003917.0),\n",
       " Row(id1='id038', v1=29995309.0),\n",
       " Row(id1='id039', v1=30000168.0),\n",
       " Row(id1='id040', v1=29989173.0),\n",
       " Row(id1='id045', v1=29992441.0),\n",
       " Row(id1='id046', v1=30010825.0),\n",
       " Row(id1='id047', v1=29972409.0),\n",
       " Row(id1='id048', v1=29998849.0),\n",
       " Row(id1='id043', v1=30005705.0),\n",
       " Row(id1='id042', v1=29989540.0),\n",
       " Row(id1='id041', v1=29994657.0),\n",
       " Row(id1='id044', v1=29999327.0)]"
      ]
     },
     "execution_count": 30,
     "metadata": {},
     "output_type": "execute_result"
    }
   ],
   "source": [
    "%%time\n",
    "\n",
    "spark.sql(\"select id1, sum(v1) as v1 from x3 group by id1\").collect()"
   ]
  },
  {
   "cell_type": "code",
   "execution_count": null,
   "id": "27d04de7-68c4-4495-8a7f-98f6604baa9d",
   "metadata": {},
   "outputs": [],
   "source": []
  }
 ],
 "metadata": {
  "kernelspec": {
   "display_name": "Python [conda env:pyspark-332-delta-230] *",
   "language": "python",
   "name": "conda-env-pyspark-332-delta-230-py"
  },
  "language_info": {
   "codemirror_mode": {
    "name": "ipython",
    "version": 3
   },
   "file_extension": ".py",
   "mimetype": "text/x-python",
   "name": "python",
   "nbconvert_exporter": "python",
   "pygments_lexer": "ipython3",
   "version": "3.9.16"
  }
 },
 "nbformat": 4,
 "nbformat_minor": 5
}
